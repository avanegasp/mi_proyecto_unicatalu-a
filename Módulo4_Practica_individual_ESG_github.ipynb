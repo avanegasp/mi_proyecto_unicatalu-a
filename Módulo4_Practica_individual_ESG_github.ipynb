{
  "nbformat": 4,
  "nbformat_minor": 0,
  "metadata": {
    "colab": {
      "provenance": [],
      "authorship_tag": "ABX9TyOnJECyxYSQi9COUgIsxxWl",
      "include_colab_link": true
    },
    "kernelspec": {
      "name": "python3",
      "display_name": "Python 3"
    },
    "language_info": {
      "name": "python"
    }
  },
  "cells": [
    {
      "cell_type": "markdown",
      "metadata": {
        "id": "view-in-github",
        "colab_type": "text"
      },
      "source": [
        "<a href=\"https://colab.research.google.com/github/avanegasp/mi_proyecto_unicatalu-a/blob/main/M%C3%B3dulo4_Practica_individual_ESG_github.ipynb\" target=\"_parent\"><img src=\"https://colab.research.google.com/assets/colab-badge.svg\" alt=\"Open In Colab\"/></a>"
      ]
    },
    {
      "cell_type": "code",
      "execution_count": 9,
      "metadata": {
        "id": "J28x0TFjsieP"
      },
      "outputs": [],
      "source": [
        "import numpy as np\n",
        "import seaborn as sns\n",
        "import matplotlib.pyplot as plt\n",
        "import pandas as pd"
      ]
    },
    {
      "cell_type": "code",
      "source": [
        "risk = pd.read_csv('https://raw.githubusercontent.com/avanegasp/mi_proyecto_unicatalu-a/main/SP%20500%20ESG%20Risk%20Ratings.csv')"
      ],
      "metadata": {
        "id": "BjRlsza6xBD0"
      },
      "execution_count": 10,
      "outputs": []
    },
    {
      "cell_type": "code",
      "source": [
        "risk.head(3)"
      ],
      "metadata": {
        "colab": {
          "base_uri": "https://localhost:8080/",
          "height": 371
        },
        "id": "2eO3o9Qc3svP",
        "outputId": "e4aa5789-6acb-43c0-9f9b-9f76dc8223fb"
      },
      "execution_count": 11,
      "outputs": [
        {
          "output_type": "execute_result",
          "data": {
            "text/plain": [
              "  Symbol                         Name  \\\n",
              "0      A     Agilent Technologies Inc   \n",
              "1    AAL  American Airlines Group Inc   \n",
              "2    AAP       Advance Auto Parts Inc   \n",
              "\n",
              "                                             Address             Sector  \\\n",
              "0  5301 Stevens Creek Boulevard\\nSanta Clara, CA ...         Healthcare   \n",
              "1  1 Skyview Drive\\nFort Worth, TX 76155\\nUnited ...        Industrials   \n",
              "2  4200 Six Forks Road\\nRaleigh, NC 27609\\nUnited...  Consumer Cyclical   \n",
              "\n",
              "                 Industry Full Time Employees  \\\n",
              "0  Diagnostics & Research              18,000   \n",
              "1                Airlines             132,500   \n",
              "2        Specialty Retail              40,000   \n",
              "\n",
              "                                         Description  Total ESG Risk score  \\\n",
              "0  Agilent Technologies, Inc. provides applicatio...                  15.0   \n",
              "1  American Airlines Group Inc., through its subs...                  29.0   \n",
              "2  Advance Auto Parts, Inc. provides automotive r...                  12.0   \n",
              "\n",
              "   Environment Risk Score  Governance Risk Score  Social Risk Score  \\\n",
              "0                     0.3                    6.3                8.6   \n",
              "1                    12.0                    5.0               12.0   \n",
              "2                     0.0                    3.0                8.0   \n",
              "\n",
              "  Controversy Level  Controversy Score ESG Risk Percentile ESG Risk Level  \n",
              "0               Low                1.0     11th percentile            Low  \n",
              "1          Moderate                2.0     62nd percentile            NaN  \n",
              "2          Moderate                2.0      4th percentile     Negligible  "
            ],
            "text/html": [
              "\n",
              "  <div id=\"df-32696805-c571-43f3-99a6-02af0a021fe5\" class=\"colab-df-container\">\n",
              "    <div>\n",
              "<style scoped>\n",
              "    .dataframe tbody tr th:only-of-type {\n",
              "        vertical-align: middle;\n",
              "    }\n",
              "\n",
              "    .dataframe tbody tr th {\n",
              "        vertical-align: top;\n",
              "    }\n",
              "\n",
              "    .dataframe thead th {\n",
              "        text-align: right;\n",
              "    }\n",
              "</style>\n",
              "<table border=\"1\" class=\"dataframe\">\n",
              "  <thead>\n",
              "    <tr style=\"text-align: right;\">\n",
              "      <th></th>\n",
              "      <th>Symbol</th>\n",
              "      <th>Name</th>\n",
              "      <th>Address</th>\n",
              "      <th>Sector</th>\n",
              "      <th>Industry</th>\n",
              "      <th>Full Time Employees</th>\n",
              "      <th>Description</th>\n",
              "      <th>Total ESG Risk score</th>\n",
              "      <th>Environment Risk Score</th>\n",
              "      <th>Governance Risk Score</th>\n",
              "      <th>Social Risk Score</th>\n",
              "      <th>Controversy Level</th>\n",
              "      <th>Controversy Score</th>\n",
              "      <th>ESG Risk Percentile</th>\n",
              "      <th>ESG Risk Level</th>\n",
              "    </tr>\n",
              "  </thead>\n",
              "  <tbody>\n",
              "    <tr>\n",
              "      <th>0</th>\n",
              "      <td>A</td>\n",
              "      <td>Agilent Technologies Inc</td>\n",
              "      <td>5301 Stevens Creek Boulevard\\nSanta Clara, CA ...</td>\n",
              "      <td>Healthcare</td>\n",
              "      <td>Diagnostics &amp; Research</td>\n",
              "      <td>18,000</td>\n",
              "      <td>Agilent Technologies, Inc. provides applicatio...</td>\n",
              "      <td>15.0</td>\n",
              "      <td>0.3</td>\n",
              "      <td>6.3</td>\n",
              "      <td>8.6</td>\n",
              "      <td>Low</td>\n",
              "      <td>1.0</td>\n",
              "      <td>11th percentile</td>\n",
              "      <td>Low</td>\n",
              "    </tr>\n",
              "    <tr>\n",
              "      <th>1</th>\n",
              "      <td>AAL</td>\n",
              "      <td>American Airlines Group Inc</td>\n",
              "      <td>1 Skyview Drive\\nFort Worth, TX 76155\\nUnited ...</td>\n",
              "      <td>Industrials</td>\n",
              "      <td>Airlines</td>\n",
              "      <td>132,500</td>\n",
              "      <td>American Airlines Group Inc., through its subs...</td>\n",
              "      <td>29.0</td>\n",
              "      <td>12.0</td>\n",
              "      <td>5.0</td>\n",
              "      <td>12.0</td>\n",
              "      <td>Moderate</td>\n",
              "      <td>2.0</td>\n",
              "      <td>62nd percentile</td>\n",
              "      <td>NaN</td>\n",
              "    </tr>\n",
              "    <tr>\n",
              "      <th>2</th>\n",
              "      <td>AAP</td>\n",
              "      <td>Advance Auto Parts Inc</td>\n",
              "      <td>4200 Six Forks Road\\nRaleigh, NC 27609\\nUnited...</td>\n",
              "      <td>Consumer Cyclical</td>\n",
              "      <td>Specialty Retail</td>\n",
              "      <td>40,000</td>\n",
              "      <td>Advance Auto Parts, Inc. provides automotive r...</td>\n",
              "      <td>12.0</td>\n",
              "      <td>0.0</td>\n",
              "      <td>3.0</td>\n",
              "      <td>8.0</td>\n",
              "      <td>Moderate</td>\n",
              "      <td>2.0</td>\n",
              "      <td>4th percentile</td>\n",
              "      <td>Negligible</td>\n",
              "    </tr>\n",
              "  </tbody>\n",
              "</table>\n",
              "</div>\n",
              "    <div class=\"colab-df-buttons\">\n",
              "\n",
              "  <div class=\"colab-df-container\">\n",
              "    <button class=\"colab-df-convert\" onclick=\"convertToInteractive('df-32696805-c571-43f3-99a6-02af0a021fe5')\"\n",
              "            title=\"Convert this dataframe to an interactive table.\"\n",
              "            style=\"display:none;\">\n",
              "\n",
              "  <svg xmlns=\"http://www.w3.org/2000/svg\" height=\"24px\" viewBox=\"0 -960 960 960\">\n",
              "    <path d=\"M120-120v-720h720v720H120Zm60-500h600v-160H180v160Zm220 220h160v-160H400v160Zm0 220h160v-160H400v160ZM180-400h160v-160H180v160Zm440 0h160v-160H620v160ZM180-180h160v-160H180v160Zm440 0h160v-160H620v160Z\"/>\n",
              "  </svg>\n",
              "    </button>\n",
              "\n",
              "  <style>\n",
              "    .colab-df-container {\n",
              "      display:flex;\n",
              "      gap: 12px;\n",
              "    }\n",
              "\n",
              "    .colab-df-convert {\n",
              "      background-color: #E8F0FE;\n",
              "      border: none;\n",
              "      border-radius: 50%;\n",
              "      cursor: pointer;\n",
              "      display: none;\n",
              "      fill: #1967D2;\n",
              "      height: 32px;\n",
              "      padding: 0 0 0 0;\n",
              "      width: 32px;\n",
              "    }\n",
              "\n",
              "    .colab-df-convert:hover {\n",
              "      background-color: #E2EBFA;\n",
              "      box-shadow: 0px 1px 2px rgba(60, 64, 67, 0.3), 0px 1px 3px 1px rgba(60, 64, 67, 0.15);\n",
              "      fill: #174EA6;\n",
              "    }\n",
              "\n",
              "    .colab-df-buttons div {\n",
              "      margin-bottom: 4px;\n",
              "    }\n",
              "\n",
              "    [theme=dark] .colab-df-convert {\n",
              "      background-color: #3B4455;\n",
              "      fill: #D2E3FC;\n",
              "    }\n",
              "\n",
              "    [theme=dark] .colab-df-convert:hover {\n",
              "      background-color: #434B5C;\n",
              "      box-shadow: 0px 1px 3px 1px rgba(0, 0, 0, 0.15);\n",
              "      filter: drop-shadow(0px 1px 2px rgba(0, 0, 0, 0.3));\n",
              "      fill: #FFFFFF;\n",
              "    }\n",
              "  </style>\n",
              "\n",
              "    <script>\n",
              "      const buttonEl =\n",
              "        document.querySelector('#df-32696805-c571-43f3-99a6-02af0a021fe5 button.colab-df-convert');\n",
              "      buttonEl.style.display =\n",
              "        google.colab.kernel.accessAllowed ? 'block' : 'none';\n",
              "\n",
              "      async function convertToInteractive(key) {\n",
              "        const element = document.querySelector('#df-32696805-c571-43f3-99a6-02af0a021fe5');\n",
              "        const dataTable =\n",
              "          await google.colab.kernel.invokeFunction('convertToInteractive',\n",
              "                                                    [key], {});\n",
              "        if (!dataTable) return;\n",
              "\n",
              "        const docLinkHtml = 'Like what you see? Visit the ' +\n",
              "          '<a target=\"_blank\" href=https://colab.research.google.com/notebooks/data_table.ipynb>data table notebook</a>'\n",
              "          + ' to learn more about interactive tables.';\n",
              "        element.innerHTML = '';\n",
              "        dataTable['output_type'] = 'display_data';\n",
              "        await google.colab.output.renderOutput(dataTable, element);\n",
              "        const docLink = document.createElement('div');\n",
              "        docLink.innerHTML = docLinkHtml;\n",
              "        element.appendChild(docLink);\n",
              "      }\n",
              "    </script>\n",
              "  </div>\n",
              "\n",
              "\n",
              "<div id=\"df-9d20d9b8-9447-4972-b831-617a1ccf7cfa\">\n",
              "  <button class=\"colab-df-quickchart\" onclick=\"quickchart('df-9d20d9b8-9447-4972-b831-617a1ccf7cfa')\"\n",
              "            title=\"Suggest charts.\"\n",
              "            style=\"display:none;\">\n",
              "\n",
              "<svg xmlns=\"http://www.w3.org/2000/svg\" height=\"24px\"viewBox=\"0 0 24 24\"\n",
              "     width=\"24px\">\n",
              "    <g>\n",
              "        <path d=\"M19 3H5c-1.1 0-2 .9-2 2v14c0 1.1.9 2 2 2h14c1.1 0 2-.9 2-2V5c0-1.1-.9-2-2-2zM9 17H7v-7h2v7zm4 0h-2V7h2v10zm4 0h-2v-4h2v4z\"/>\n",
              "    </g>\n",
              "</svg>\n",
              "  </button>\n",
              "\n",
              "<style>\n",
              "  .colab-df-quickchart {\n",
              "      --bg-color: #E8F0FE;\n",
              "      --fill-color: #1967D2;\n",
              "      --hover-bg-color: #E2EBFA;\n",
              "      --hover-fill-color: #174EA6;\n",
              "      --disabled-fill-color: #AAA;\n",
              "      --disabled-bg-color: #DDD;\n",
              "  }\n",
              "\n",
              "  [theme=dark] .colab-df-quickchart {\n",
              "      --bg-color: #3B4455;\n",
              "      --fill-color: #D2E3FC;\n",
              "      --hover-bg-color: #434B5C;\n",
              "      --hover-fill-color: #FFFFFF;\n",
              "      --disabled-bg-color: #3B4455;\n",
              "      --disabled-fill-color: #666;\n",
              "  }\n",
              "\n",
              "  .colab-df-quickchart {\n",
              "    background-color: var(--bg-color);\n",
              "    border: none;\n",
              "    border-radius: 50%;\n",
              "    cursor: pointer;\n",
              "    display: none;\n",
              "    fill: var(--fill-color);\n",
              "    height: 32px;\n",
              "    padding: 0;\n",
              "    width: 32px;\n",
              "  }\n",
              "\n",
              "  .colab-df-quickchart:hover {\n",
              "    background-color: var(--hover-bg-color);\n",
              "    box-shadow: 0 1px 2px rgba(60, 64, 67, 0.3), 0 1px 3px 1px rgba(60, 64, 67, 0.15);\n",
              "    fill: var(--button-hover-fill-color);\n",
              "  }\n",
              "\n",
              "  .colab-df-quickchart-complete:disabled,\n",
              "  .colab-df-quickchart-complete:disabled:hover {\n",
              "    background-color: var(--disabled-bg-color);\n",
              "    fill: var(--disabled-fill-color);\n",
              "    box-shadow: none;\n",
              "  }\n",
              "\n",
              "  .colab-df-spinner {\n",
              "    border: 2px solid var(--fill-color);\n",
              "    border-color: transparent;\n",
              "    border-bottom-color: var(--fill-color);\n",
              "    animation:\n",
              "      spin 1s steps(1) infinite;\n",
              "  }\n",
              "\n",
              "  @keyframes spin {\n",
              "    0% {\n",
              "      border-color: transparent;\n",
              "      border-bottom-color: var(--fill-color);\n",
              "      border-left-color: var(--fill-color);\n",
              "    }\n",
              "    20% {\n",
              "      border-color: transparent;\n",
              "      border-left-color: var(--fill-color);\n",
              "      border-top-color: var(--fill-color);\n",
              "    }\n",
              "    30% {\n",
              "      border-color: transparent;\n",
              "      border-left-color: var(--fill-color);\n",
              "      border-top-color: var(--fill-color);\n",
              "      border-right-color: var(--fill-color);\n",
              "    }\n",
              "    40% {\n",
              "      border-color: transparent;\n",
              "      border-right-color: var(--fill-color);\n",
              "      border-top-color: var(--fill-color);\n",
              "    }\n",
              "    60% {\n",
              "      border-color: transparent;\n",
              "      border-right-color: var(--fill-color);\n",
              "    }\n",
              "    80% {\n",
              "      border-color: transparent;\n",
              "      border-right-color: var(--fill-color);\n",
              "      border-bottom-color: var(--fill-color);\n",
              "    }\n",
              "    90% {\n",
              "      border-color: transparent;\n",
              "      border-bottom-color: var(--fill-color);\n",
              "    }\n",
              "  }\n",
              "</style>\n",
              "\n",
              "  <script>\n",
              "    async function quickchart(key) {\n",
              "      const quickchartButtonEl =\n",
              "        document.querySelector('#' + key + ' button');\n",
              "      quickchartButtonEl.disabled = true;  // To prevent multiple clicks.\n",
              "      quickchartButtonEl.classList.add('colab-df-spinner');\n",
              "      try {\n",
              "        const charts = await google.colab.kernel.invokeFunction(\n",
              "            'suggestCharts', [key], {});\n",
              "      } catch (error) {\n",
              "        console.error('Error during call to suggestCharts:', error);\n",
              "      }\n",
              "      quickchartButtonEl.classList.remove('colab-df-spinner');\n",
              "      quickchartButtonEl.classList.add('colab-df-quickchart-complete');\n",
              "    }\n",
              "    (() => {\n",
              "      let quickchartButtonEl =\n",
              "        document.querySelector('#df-9d20d9b8-9447-4972-b831-617a1ccf7cfa button');\n",
              "      quickchartButtonEl.style.display =\n",
              "        google.colab.kernel.accessAllowed ? 'block' : 'none';\n",
              "    })();\n",
              "  </script>\n",
              "</div>\n",
              "    </div>\n",
              "  </div>\n"
            ]
          },
          "metadata": {},
          "execution_count": 11
        }
      ]
    },
    {
      "cell_type": "code",
      "source": [
        "risk.info()"
      ],
      "metadata": {
        "colab": {
          "base_uri": "https://localhost:8080/"
        },
        "id": "F6J6lc8tyEee",
        "outputId": "734aec35-75a1-47c8-a4cc-266715dddc87"
      },
      "execution_count": 12,
      "outputs": [
        {
          "output_type": "stream",
          "name": "stdout",
          "text": [
            "<class 'pandas.core.frame.DataFrame'>\n",
            "RangeIndex: 503 entries, 0 to 502\n",
            "Data columns (total 15 columns):\n",
            " #   Column                  Non-Null Count  Dtype  \n",
            "---  ------                  --------------  -----  \n",
            " 0   Symbol                  503 non-null    object \n",
            " 1   Name                    503 non-null    object \n",
            " 2   Address                 501 non-null    object \n",
            " 3   Sector                  501 non-null    object \n",
            " 4   Industry                501 non-null    object \n",
            " 5   Full Time Employees     496 non-null    object \n",
            " 6   Description             501 non-null    object \n",
            " 7   Total ESG Risk score    433 non-null    float64\n",
            " 8   Environment Risk Score  433 non-null    float64\n",
            " 9   Governance Risk Score   433 non-null    float64\n",
            " 10  Social Risk Score       433 non-null    float64\n",
            " 11  Controversy Level       404 non-null    object \n",
            " 12  Controversy Score       433 non-null    float64\n",
            " 13  ESG Risk Percentile     433 non-null    object \n",
            " 14  ESG Risk Level          376 non-null    object \n",
            "dtypes: float64(5), object(10)\n",
            "memory usage: 59.1+ KB\n"
          ]
        }
      ]
    },
    {
      "cell_type": "code",
      "source": [
        "risk.describe()"
      ],
      "metadata": {
        "colab": {
          "base_uri": "https://localhost:8080/",
          "height": 300
        },
        "id": "K0m8LXqNnycd",
        "outputId": "6a164285-9395-4426-fb4d-7123ed3e53b8"
      },
      "execution_count": 13,
      "outputs": [
        {
          "output_type": "execute_result",
          "data": {
            "text/plain": [
              "       Total ESG Risk score  Environment Risk Score  Governance Risk Score  \\\n",
              "count            433.000000              433.000000             433.000000   \n",
              "mean              21.422633                5.678984               6.673903   \n",
              "std                7.264458                5.339965               2.201049   \n",
              "min                7.000000                0.000000               3.000000   \n",
              "25%               16.000000                1.500000               5.000000   \n",
              "50%               21.000000                3.800000               6.000000   \n",
              "75%               26.000000                8.900000               7.700000   \n",
              "max               46.000000               25.000000              15.500000   \n",
              "\n",
              "       Social Risk Score  Controversy Score  \n",
              "count         433.000000         433.000000  \n",
              "mean            9.045035           1.896074  \n",
              "std             3.813788           0.940748  \n",
              "min             1.100000           0.000000  \n",
              "25%             6.600000           1.000000  \n",
              "50%             8.700000           2.000000  \n",
              "75%            11.600000           2.000000  \n",
              "max            21.000000           5.000000  "
            ],
            "text/html": [
              "\n",
              "  <div id=\"df-3682da55-589c-499f-86f6-0754eb366385\" class=\"colab-df-container\">\n",
              "    <div>\n",
              "<style scoped>\n",
              "    .dataframe tbody tr th:only-of-type {\n",
              "        vertical-align: middle;\n",
              "    }\n",
              "\n",
              "    .dataframe tbody tr th {\n",
              "        vertical-align: top;\n",
              "    }\n",
              "\n",
              "    .dataframe thead th {\n",
              "        text-align: right;\n",
              "    }\n",
              "</style>\n",
              "<table border=\"1\" class=\"dataframe\">\n",
              "  <thead>\n",
              "    <tr style=\"text-align: right;\">\n",
              "      <th></th>\n",
              "      <th>Total ESG Risk score</th>\n",
              "      <th>Environment Risk Score</th>\n",
              "      <th>Governance Risk Score</th>\n",
              "      <th>Social Risk Score</th>\n",
              "      <th>Controversy Score</th>\n",
              "    </tr>\n",
              "  </thead>\n",
              "  <tbody>\n",
              "    <tr>\n",
              "      <th>count</th>\n",
              "      <td>433.000000</td>\n",
              "      <td>433.000000</td>\n",
              "      <td>433.000000</td>\n",
              "      <td>433.000000</td>\n",
              "      <td>433.000000</td>\n",
              "    </tr>\n",
              "    <tr>\n",
              "      <th>mean</th>\n",
              "      <td>21.422633</td>\n",
              "      <td>5.678984</td>\n",
              "      <td>6.673903</td>\n",
              "      <td>9.045035</td>\n",
              "      <td>1.896074</td>\n",
              "    </tr>\n",
              "    <tr>\n",
              "      <th>std</th>\n",
              "      <td>7.264458</td>\n",
              "      <td>5.339965</td>\n",
              "      <td>2.201049</td>\n",
              "      <td>3.813788</td>\n",
              "      <td>0.940748</td>\n",
              "    </tr>\n",
              "    <tr>\n",
              "      <th>min</th>\n",
              "      <td>7.000000</td>\n",
              "      <td>0.000000</td>\n",
              "      <td>3.000000</td>\n",
              "      <td>1.100000</td>\n",
              "      <td>0.000000</td>\n",
              "    </tr>\n",
              "    <tr>\n",
              "      <th>25%</th>\n",
              "      <td>16.000000</td>\n",
              "      <td>1.500000</td>\n",
              "      <td>5.000000</td>\n",
              "      <td>6.600000</td>\n",
              "      <td>1.000000</td>\n",
              "    </tr>\n",
              "    <tr>\n",
              "      <th>50%</th>\n",
              "      <td>21.000000</td>\n",
              "      <td>3.800000</td>\n",
              "      <td>6.000000</td>\n",
              "      <td>8.700000</td>\n",
              "      <td>2.000000</td>\n",
              "    </tr>\n",
              "    <tr>\n",
              "      <th>75%</th>\n",
              "      <td>26.000000</td>\n",
              "      <td>8.900000</td>\n",
              "      <td>7.700000</td>\n",
              "      <td>11.600000</td>\n",
              "      <td>2.000000</td>\n",
              "    </tr>\n",
              "    <tr>\n",
              "      <th>max</th>\n",
              "      <td>46.000000</td>\n",
              "      <td>25.000000</td>\n",
              "      <td>15.500000</td>\n",
              "      <td>21.000000</td>\n",
              "      <td>5.000000</td>\n",
              "    </tr>\n",
              "  </tbody>\n",
              "</table>\n",
              "</div>\n",
              "    <div class=\"colab-df-buttons\">\n",
              "\n",
              "  <div class=\"colab-df-container\">\n",
              "    <button class=\"colab-df-convert\" onclick=\"convertToInteractive('df-3682da55-589c-499f-86f6-0754eb366385')\"\n",
              "            title=\"Convert this dataframe to an interactive table.\"\n",
              "            style=\"display:none;\">\n",
              "\n",
              "  <svg xmlns=\"http://www.w3.org/2000/svg\" height=\"24px\" viewBox=\"0 -960 960 960\">\n",
              "    <path d=\"M120-120v-720h720v720H120Zm60-500h600v-160H180v160Zm220 220h160v-160H400v160Zm0 220h160v-160H400v160ZM180-400h160v-160H180v160Zm440 0h160v-160H620v160ZM180-180h160v-160H180v160Zm440 0h160v-160H620v160Z\"/>\n",
              "  </svg>\n",
              "    </button>\n",
              "\n",
              "  <style>\n",
              "    .colab-df-container {\n",
              "      display:flex;\n",
              "      gap: 12px;\n",
              "    }\n",
              "\n",
              "    .colab-df-convert {\n",
              "      background-color: #E8F0FE;\n",
              "      border: none;\n",
              "      border-radius: 50%;\n",
              "      cursor: pointer;\n",
              "      display: none;\n",
              "      fill: #1967D2;\n",
              "      height: 32px;\n",
              "      padding: 0 0 0 0;\n",
              "      width: 32px;\n",
              "    }\n",
              "\n",
              "    .colab-df-convert:hover {\n",
              "      background-color: #E2EBFA;\n",
              "      box-shadow: 0px 1px 2px rgba(60, 64, 67, 0.3), 0px 1px 3px 1px rgba(60, 64, 67, 0.15);\n",
              "      fill: #174EA6;\n",
              "    }\n",
              "\n",
              "    .colab-df-buttons div {\n",
              "      margin-bottom: 4px;\n",
              "    }\n",
              "\n",
              "    [theme=dark] .colab-df-convert {\n",
              "      background-color: #3B4455;\n",
              "      fill: #D2E3FC;\n",
              "    }\n",
              "\n",
              "    [theme=dark] .colab-df-convert:hover {\n",
              "      background-color: #434B5C;\n",
              "      box-shadow: 0px 1px 3px 1px rgba(0, 0, 0, 0.15);\n",
              "      filter: drop-shadow(0px 1px 2px rgba(0, 0, 0, 0.3));\n",
              "      fill: #FFFFFF;\n",
              "    }\n",
              "  </style>\n",
              "\n",
              "    <script>\n",
              "      const buttonEl =\n",
              "        document.querySelector('#df-3682da55-589c-499f-86f6-0754eb366385 button.colab-df-convert');\n",
              "      buttonEl.style.display =\n",
              "        google.colab.kernel.accessAllowed ? 'block' : 'none';\n",
              "\n",
              "      async function convertToInteractive(key) {\n",
              "        const element = document.querySelector('#df-3682da55-589c-499f-86f6-0754eb366385');\n",
              "        const dataTable =\n",
              "          await google.colab.kernel.invokeFunction('convertToInteractive',\n",
              "                                                    [key], {});\n",
              "        if (!dataTable) return;\n",
              "\n",
              "        const docLinkHtml = 'Like what you see? Visit the ' +\n",
              "          '<a target=\"_blank\" href=https://colab.research.google.com/notebooks/data_table.ipynb>data table notebook</a>'\n",
              "          + ' to learn more about interactive tables.';\n",
              "        element.innerHTML = '';\n",
              "        dataTable['output_type'] = 'display_data';\n",
              "        await google.colab.output.renderOutput(dataTable, element);\n",
              "        const docLink = document.createElement('div');\n",
              "        docLink.innerHTML = docLinkHtml;\n",
              "        element.appendChild(docLink);\n",
              "      }\n",
              "    </script>\n",
              "  </div>\n",
              "\n",
              "\n",
              "<div id=\"df-e9d28318-156a-43f8-aa6e-739cc04ee776\">\n",
              "  <button class=\"colab-df-quickchart\" onclick=\"quickchart('df-e9d28318-156a-43f8-aa6e-739cc04ee776')\"\n",
              "            title=\"Suggest charts.\"\n",
              "            style=\"display:none;\">\n",
              "\n",
              "<svg xmlns=\"http://www.w3.org/2000/svg\" height=\"24px\"viewBox=\"0 0 24 24\"\n",
              "     width=\"24px\">\n",
              "    <g>\n",
              "        <path d=\"M19 3H5c-1.1 0-2 .9-2 2v14c0 1.1.9 2 2 2h14c1.1 0 2-.9 2-2V5c0-1.1-.9-2-2-2zM9 17H7v-7h2v7zm4 0h-2V7h2v10zm4 0h-2v-4h2v4z\"/>\n",
              "    </g>\n",
              "</svg>\n",
              "  </button>\n",
              "\n",
              "<style>\n",
              "  .colab-df-quickchart {\n",
              "      --bg-color: #E8F0FE;\n",
              "      --fill-color: #1967D2;\n",
              "      --hover-bg-color: #E2EBFA;\n",
              "      --hover-fill-color: #174EA6;\n",
              "      --disabled-fill-color: #AAA;\n",
              "      --disabled-bg-color: #DDD;\n",
              "  }\n",
              "\n",
              "  [theme=dark] .colab-df-quickchart {\n",
              "      --bg-color: #3B4455;\n",
              "      --fill-color: #D2E3FC;\n",
              "      --hover-bg-color: #434B5C;\n",
              "      --hover-fill-color: #FFFFFF;\n",
              "      --disabled-bg-color: #3B4455;\n",
              "      --disabled-fill-color: #666;\n",
              "  }\n",
              "\n",
              "  .colab-df-quickchart {\n",
              "    background-color: var(--bg-color);\n",
              "    border: none;\n",
              "    border-radius: 50%;\n",
              "    cursor: pointer;\n",
              "    display: none;\n",
              "    fill: var(--fill-color);\n",
              "    height: 32px;\n",
              "    padding: 0;\n",
              "    width: 32px;\n",
              "  }\n",
              "\n",
              "  .colab-df-quickchart:hover {\n",
              "    background-color: var(--hover-bg-color);\n",
              "    box-shadow: 0 1px 2px rgba(60, 64, 67, 0.3), 0 1px 3px 1px rgba(60, 64, 67, 0.15);\n",
              "    fill: var(--button-hover-fill-color);\n",
              "  }\n",
              "\n",
              "  .colab-df-quickchart-complete:disabled,\n",
              "  .colab-df-quickchart-complete:disabled:hover {\n",
              "    background-color: var(--disabled-bg-color);\n",
              "    fill: var(--disabled-fill-color);\n",
              "    box-shadow: none;\n",
              "  }\n",
              "\n",
              "  .colab-df-spinner {\n",
              "    border: 2px solid var(--fill-color);\n",
              "    border-color: transparent;\n",
              "    border-bottom-color: var(--fill-color);\n",
              "    animation:\n",
              "      spin 1s steps(1) infinite;\n",
              "  }\n",
              "\n",
              "  @keyframes spin {\n",
              "    0% {\n",
              "      border-color: transparent;\n",
              "      border-bottom-color: var(--fill-color);\n",
              "      border-left-color: var(--fill-color);\n",
              "    }\n",
              "    20% {\n",
              "      border-color: transparent;\n",
              "      border-left-color: var(--fill-color);\n",
              "      border-top-color: var(--fill-color);\n",
              "    }\n",
              "    30% {\n",
              "      border-color: transparent;\n",
              "      border-left-color: var(--fill-color);\n",
              "      border-top-color: var(--fill-color);\n",
              "      border-right-color: var(--fill-color);\n",
              "    }\n",
              "    40% {\n",
              "      border-color: transparent;\n",
              "      border-right-color: var(--fill-color);\n",
              "      border-top-color: var(--fill-color);\n",
              "    }\n",
              "    60% {\n",
              "      border-color: transparent;\n",
              "      border-right-color: var(--fill-color);\n",
              "    }\n",
              "    80% {\n",
              "      border-color: transparent;\n",
              "      border-right-color: var(--fill-color);\n",
              "      border-bottom-color: var(--fill-color);\n",
              "    }\n",
              "    90% {\n",
              "      border-color: transparent;\n",
              "      border-bottom-color: var(--fill-color);\n",
              "    }\n",
              "  }\n",
              "</style>\n",
              "\n",
              "  <script>\n",
              "    async function quickchart(key) {\n",
              "      const quickchartButtonEl =\n",
              "        document.querySelector('#' + key + ' button');\n",
              "      quickchartButtonEl.disabled = true;  // To prevent multiple clicks.\n",
              "      quickchartButtonEl.classList.add('colab-df-spinner');\n",
              "      try {\n",
              "        const charts = await google.colab.kernel.invokeFunction(\n",
              "            'suggestCharts', [key], {});\n",
              "      } catch (error) {\n",
              "        console.error('Error during call to suggestCharts:', error);\n",
              "      }\n",
              "      quickchartButtonEl.classList.remove('colab-df-spinner');\n",
              "      quickchartButtonEl.classList.add('colab-df-quickchart-complete');\n",
              "    }\n",
              "    (() => {\n",
              "      let quickchartButtonEl =\n",
              "        document.querySelector('#df-e9d28318-156a-43f8-aa6e-739cc04ee776 button');\n",
              "      quickchartButtonEl.style.display =\n",
              "        google.colab.kernel.accessAllowed ? 'block' : 'none';\n",
              "    })();\n",
              "  </script>\n",
              "</div>\n",
              "    </div>\n",
              "  </div>\n"
            ]
          },
          "metadata": {},
          "execution_count": 13
        }
      ]
    },
    {
      "cell_type": "code",
      "source": [
        "risk.describe(include='object')"
      ],
      "metadata": {
        "colab": {
          "base_uri": "https://localhost:8080/",
          "height": 299
        },
        "id": "pYCJ_NyayAQM",
        "outputId": "9678f327-47f3-4562-cc43-a46d54d4575e"
      },
      "execution_count": 14,
      "outputs": [
        {
          "output_type": "execute_result",
          "data": {
            "text/plain": [
              "       Symbol                      Name  \\\n",
              "count     503                       503   \n",
              "unique    503                       503   \n",
              "top         A  Agilent Technologies Inc   \n",
              "freq        1                         1   \n",
              "\n",
              "                                                  Address      Sector  \\\n",
              "count                                                 501         501   \n",
              "unique                                                498          11   \n",
              "top     1211 Avenue of the Americas\\nNew York, NY 1003...  Technology   \n",
              "freq                                                    2          75   \n",
              "\n",
              "                            Industry Full Time Employees  \\\n",
              "count                            501                 496   \n",
              "unique                           114                 398   \n",
              "top     Utilities—Regulated Electric              25,000   \n",
              "freq                              23                   5   \n",
              "\n",
              "                                              Description Controversy Level  \\\n",
              "count                                                 501               404   \n",
              "unique                                                498                 6   \n",
              "top     Fox Corporation operates as a news, sports, an...          Moderate   \n",
              "freq                                                    2               197   \n",
              "\n",
              "       ESG Risk Percentile ESG Risk Level  \n",
              "count                  433            376  \n",
              "unique                  87              5  \n",
              "top        13th percentile         Medium  \n",
              "freq                    18            134  "
            ],
            "text/html": [
              "\n",
              "  <div id=\"df-69efc86e-36b0-47d0-ac9a-2d236aa41e3c\" class=\"colab-df-container\">\n",
              "    <div>\n",
              "<style scoped>\n",
              "    .dataframe tbody tr th:only-of-type {\n",
              "        vertical-align: middle;\n",
              "    }\n",
              "\n",
              "    .dataframe tbody tr th {\n",
              "        vertical-align: top;\n",
              "    }\n",
              "\n",
              "    .dataframe thead th {\n",
              "        text-align: right;\n",
              "    }\n",
              "</style>\n",
              "<table border=\"1\" class=\"dataframe\">\n",
              "  <thead>\n",
              "    <tr style=\"text-align: right;\">\n",
              "      <th></th>\n",
              "      <th>Symbol</th>\n",
              "      <th>Name</th>\n",
              "      <th>Address</th>\n",
              "      <th>Sector</th>\n",
              "      <th>Industry</th>\n",
              "      <th>Full Time Employees</th>\n",
              "      <th>Description</th>\n",
              "      <th>Controversy Level</th>\n",
              "      <th>ESG Risk Percentile</th>\n",
              "      <th>ESG Risk Level</th>\n",
              "    </tr>\n",
              "  </thead>\n",
              "  <tbody>\n",
              "    <tr>\n",
              "      <th>count</th>\n",
              "      <td>503</td>\n",
              "      <td>503</td>\n",
              "      <td>501</td>\n",
              "      <td>501</td>\n",
              "      <td>501</td>\n",
              "      <td>496</td>\n",
              "      <td>501</td>\n",
              "      <td>404</td>\n",
              "      <td>433</td>\n",
              "      <td>376</td>\n",
              "    </tr>\n",
              "    <tr>\n",
              "      <th>unique</th>\n",
              "      <td>503</td>\n",
              "      <td>503</td>\n",
              "      <td>498</td>\n",
              "      <td>11</td>\n",
              "      <td>114</td>\n",
              "      <td>398</td>\n",
              "      <td>498</td>\n",
              "      <td>6</td>\n",
              "      <td>87</td>\n",
              "      <td>5</td>\n",
              "    </tr>\n",
              "    <tr>\n",
              "      <th>top</th>\n",
              "      <td>A</td>\n",
              "      <td>Agilent Technologies Inc</td>\n",
              "      <td>1211 Avenue of the Americas\\nNew York, NY 1003...</td>\n",
              "      <td>Technology</td>\n",
              "      <td>Utilities—Regulated Electric</td>\n",
              "      <td>25,000</td>\n",
              "      <td>Fox Corporation operates as a news, sports, an...</td>\n",
              "      <td>Moderate</td>\n",
              "      <td>13th percentile</td>\n",
              "      <td>Medium</td>\n",
              "    </tr>\n",
              "    <tr>\n",
              "      <th>freq</th>\n",
              "      <td>1</td>\n",
              "      <td>1</td>\n",
              "      <td>2</td>\n",
              "      <td>75</td>\n",
              "      <td>23</td>\n",
              "      <td>5</td>\n",
              "      <td>2</td>\n",
              "      <td>197</td>\n",
              "      <td>18</td>\n",
              "      <td>134</td>\n",
              "    </tr>\n",
              "  </tbody>\n",
              "</table>\n",
              "</div>\n",
              "    <div class=\"colab-df-buttons\">\n",
              "\n",
              "  <div class=\"colab-df-container\">\n",
              "    <button class=\"colab-df-convert\" onclick=\"convertToInteractive('df-69efc86e-36b0-47d0-ac9a-2d236aa41e3c')\"\n",
              "            title=\"Convert this dataframe to an interactive table.\"\n",
              "            style=\"display:none;\">\n",
              "\n",
              "  <svg xmlns=\"http://www.w3.org/2000/svg\" height=\"24px\" viewBox=\"0 -960 960 960\">\n",
              "    <path d=\"M120-120v-720h720v720H120Zm60-500h600v-160H180v160Zm220 220h160v-160H400v160Zm0 220h160v-160H400v160ZM180-400h160v-160H180v160Zm440 0h160v-160H620v160ZM180-180h160v-160H180v160Zm440 0h160v-160H620v160Z\"/>\n",
              "  </svg>\n",
              "    </button>\n",
              "\n",
              "  <style>\n",
              "    .colab-df-container {\n",
              "      display:flex;\n",
              "      gap: 12px;\n",
              "    }\n",
              "\n",
              "    .colab-df-convert {\n",
              "      background-color: #E8F0FE;\n",
              "      border: none;\n",
              "      border-radius: 50%;\n",
              "      cursor: pointer;\n",
              "      display: none;\n",
              "      fill: #1967D2;\n",
              "      height: 32px;\n",
              "      padding: 0 0 0 0;\n",
              "      width: 32px;\n",
              "    }\n",
              "\n",
              "    .colab-df-convert:hover {\n",
              "      background-color: #E2EBFA;\n",
              "      box-shadow: 0px 1px 2px rgba(60, 64, 67, 0.3), 0px 1px 3px 1px rgba(60, 64, 67, 0.15);\n",
              "      fill: #174EA6;\n",
              "    }\n",
              "\n",
              "    .colab-df-buttons div {\n",
              "      margin-bottom: 4px;\n",
              "    }\n",
              "\n",
              "    [theme=dark] .colab-df-convert {\n",
              "      background-color: #3B4455;\n",
              "      fill: #D2E3FC;\n",
              "    }\n",
              "\n",
              "    [theme=dark] .colab-df-convert:hover {\n",
              "      background-color: #434B5C;\n",
              "      box-shadow: 0px 1px 3px 1px rgba(0, 0, 0, 0.15);\n",
              "      filter: drop-shadow(0px 1px 2px rgba(0, 0, 0, 0.3));\n",
              "      fill: #FFFFFF;\n",
              "    }\n",
              "  </style>\n",
              "\n",
              "    <script>\n",
              "      const buttonEl =\n",
              "        document.querySelector('#df-69efc86e-36b0-47d0-ac9a-2d236aa41e3c button.colab-df-convert');\n",
              "      buttonEl.style.display =\n",
              "        google.colab.kernel.accessAllowed ? 'block' : 'none';\n",
              "\n",
              "      async function convertToInteractive(key) {\n",
              "        const element = document.querySelector('#df-69efc86e-36b0-47d0-ac9a-2d236aa41e3c');\n",
              "        const dataTable =\n",
              "          await google.colab.kernel.invokeFunction('convertToInteractive',\n",
              "                                                    [key], {});\n",
              "        if (!dataTable) return;\n",
              "\n",
              "        const docLinkHtml = 'Like what you see? Visit the ' +\n",
              "          '<a target=\"_blank\" href=https://colab.research.google.com/notebooks/data_table.ipynb>data table notebook</a>'\n",
              "          + ' to learn more about interactive tables.';\n",
              "        element.innerHTML = '';\n",
              "        dataTable['output_type'] = 'display_data';\n",
              "        await google.colab.output.renderOutput(dataTable, element);\n",
              "        const docLink = document.createElement('div');\n",
              "        docLink.innerHTML = docLinkHtml;\n",
              "        element.appendChild(docLink);\n",
              "      }\n",
              "    </script>\n",
              "  </div>\n",
              "\n",
              "\n",
              "<div id=\"df-20a2f67f-aa66-486b-976b-0a1dd1f66174\">\n",
              "  <button class=\"colab-df-quickchart\" onclick=\"quickchart('df-20a2f67f-aa66-486b-976b-0a1dd1f66174')\"\n",
              "            title=\"Suggest charts.\"\n",
              "            style=\"display:none;\">\n",
              "\n",
              "<svg xmlns=\"http://www.w3.org/2000/svg\" height=\"24px\"viewBox=\"0 0 24 24\"\n",
              "     width=\"24px\">\n",
              "    <g>\n",
              "        <path d=\"M19 3H5c-1.1 0-2 .9-2 2v14c0 1.1.9 2 2 2h14c1.1 0 2-.9 2-2V5c0-1.1-.9-2-2-2zM9 17H7v-7h2v7zm4 0h-2V7h2v10zm4 0h-2v-4h2v4z\"/>\n",
              "    </g>\n",
              "</svg>\n",
              "  </button>\n",
              "\n",
              "<style>\n",
              "  .colab-df-quickchart {\n",
              "      --bg-color: #E8F0FE;\n",
              "      --fill-color: #1967D2;\n",
              "      --hover-bg-color: #E2EBFA;\n",
              "      --hover-fill-color: #174EA6;\n",
              "      --disabled-fill-color: #AAA;\n",
              "      --disabled-bg-color: #DDD;\n",
              "  }\n",
              "\n",
              "  [theme=dark] .colab-df-quickchart {\n",
              "      --bg-color: #3B4455;\n",
              "      --fill-color: #D2E3FC;\n",
              "      --hover-bg-color: #434B5C;\n",
              "      --hover-fill-color: #FFFFFF;\n",
              "      --disabled-bg-color: #3B4455;\n",
              "      --disabled-fill-color: #666;\n",
              "  }\n",
              "\n",
              "  .colab-df-quickchart {\n",
              "    background-color: var(--bg-color);\n",
              "    border: none;\n",
              "    border-radius: 50%;\n",
              "    cursor: pointer;\n",
              "    display: none;\n",
              "    fill: var(--fill-color);\n",
              "    height: 32px;\n",
              "    padding: 0;\n",
              "    width: 32px;\n",
              "  }\n",
              "\n",
              "  .colab-df-quickchart:hover {\n",
              "    background-color: var(--hover-bg-color);\n",
              "    box-shadow: 0 1px 2px rgba(60, 64, 67, 0.3), 0 1px 3px 1px rgba(60, 64, 67, 0.15);\n",
              "    fill: var(--button-hover-fill-color);\n",
              "  }\n",
              "\n",
              "  .colab-df-quickchart-complete:disabled,\n",
              "  .colab-df-quickchart-complete:disabled:hover {\n",
              "    background-color: var(--disabled-bg-color);\n",
              "    fill: var(--disabled-fill-color);\n",
              "    box-shadow: none;\n",
              "  }\n",
              "\n",
              "  .colab-df-spinner {\n",
              "    border: 2px solid var(--fill-color);\n",
              "    border-color: transparent;\n",
              "    border-bottom-color: var(--fill-color);\n",
              "    animation:\n",
              "      spin 1s steps(1) infinite;\n",
              "  }\n",
              "\n",
              "  @keyframes spin {\n",
              "    0% {\n",
              "      border-color: transparent;\n",
              "      border-bottom-color: var(--fill-color);\n",
              "      border-left-color: var(--fill-color);\n",
              "    }\n",
              "    20% {\n",
              "      border-color: transparent;\n",
              "      border-left-color: var(--fill-color);\n",
              "      border-top-color: var(--fill-color);\n",
              "    }\n",
              "    30% {\n",
              "      border-color: transparent;\n",
              "      border-left-color: var(--fill-color);\n",
              "      border-top-color: var(--fill-color);\n",
              "      border-right-color: var(--fill-color);\n",
              "    }\n",
              "    40% {\n",
              "      border-color: transparent;\n",
              "      border-right-color: var(--fill-color);\n",
              "      border-top-color: var(--fill-color);\n",
              "    }\n",
              "    60% {\n",
              "      border-color: transparent;\n",
              "      border-right-color: var(--fill-color);\n",
              "    }\n",
              "    80% {\n",
              "      border-color: transparent;\n",
              "      border-right-color: var(--fill-color);\n",
              "      border-bottom-color: var(--fill-color);\n",
              "    }\n",
              "    90% {\n",
              "      border-color: transparent;\n",
              "      border-bottom-color: var(--fill-color);\n",
              "    }\n",
              "  }\n",
              "</style>\n",
              "\n",
              "  <script>\n",
              "    async function quickchart(key) {\n",
              "      const quickchartButtonEl =\n",
              "        document.querySelector('#' + key + ' button');\n",
              "      quickchartButtonEl.disabled = true;  // To prevent multiple clicks.\n",
              "      quickchartButtonEl.classList.add('colab-df-spinner');\n",
              "      try {\n",
              "        const charts = await google.colab.kernel.invokeFunction(\n",
              "            'suggestCharts', [key], {});\n",
              "      } catch (error) {\n",
              "        console.error('Error during call to suggestCharts:', error);\n",
              "      }\n",
              "      quickchartButtonEl.classList.remove('colab-df-spinner');\n",
              "      quickchartButtonEl.classList.add('colab-df-quickchart-complete');\n",
              "    }\n",
              "    (() => {\n",
              "      let quickchartButtonEl =\n",
              "        document.querySelector('#df-20a2f67f-aa66-486b-976b-0a1dd1f66174 button');\n",
              "      quickchartButtonEl.style.display =\n",
              "        google.colab.kernel.accessAllowed ? 'block' : 'none';\n",
              "    })();\n",
              "  </script>\n",
              "</div>\n",
              "    </div>\n",
              "  </div>\n"
            ]
          },
          "metadata": {},
          "execution_count": 14
        }
      ]
    },
    {
      "cell_type": "code",
      "source": [
        "#Creo una copia independiente de risk\n",
        "copy_ind_risk = risk.copy()"
      ],
      "metadata": {
        "id": "VeM3gxM4JTK8"
      },
      "execution_count": 101,
      "outputs": []
    },
    {
      "cell_type": "code",
      "source": [
        "#Genero una copia de mi dataset\n",
        "copy_risk = risk"
      ],
      "metadata": {
        "id": "xmyDZuk94V2p"
      },
      "execution_count": 15,
      "outputs": []
    },
    {
      "cell_type": "code",
      "source": [
        "copy_risk.info()"
      ],
      "metadata": {
        "id": "9ovhCYkRXFQ9",
        "outputId": "101d871d-1da3-46a4-8af4-c19646367910",
        "colab": {
          "base_uri": "https://localhost:8080/"
        }
      },
      "execution_count": 16,
      "outputs": [
        {
          "output_type": "stream",
          "name": "stdout",
          "text": [
            "<class 'pandas.core.frame.DataFrame'>\n",
            "RangeIndex: 503 entries, 0 to 502\n",
            "Data columns (total 15 columns):\n",
            " #   Column                  Non-Null Count  Dtype  \n",
            "---  ------                  --------------  -----  \n",
            " 0   Symbol                  503 non-null    object \n",
            " 1   Name                    503 non-null    object \n",
            " 2   Address                 501 non-null    object \n",
            " 3   Sector                  501 non-null    object \n",
            " 4   Industry                501 non-null    object \n",
            " 5   Full Time Employees     496 non-null    object \n",
            " 6   Description             501 non-null    object \n",
            " 7   Total ESG Risk score    433 non-null    float64\n",
            " 8   Environment Risk Score  433 non-null    float64\n",
            " 9   Governance Risk Score   433 non-null    float64\n",
            " 10  Social Risk Score       433 non-null    float64\n",
            " 11  Controversy Level       404 non-null    object \n",
            " 12  Controversy Score       433 non-null    float64\n",
            " 13  ESG Risk Percentile     433 non-null    object \n",
            " 14  ESG Risk Level          376 non-null    object \n",
            "dtypes: float64(5), object(10)\n",
            "memory usage: 59.1+ KB\n"
          ]
        }
      ]
    },
    {
      "cell_type": "code",
      "source": [
        "risk.info()"
      ],
      "metadata": {
        "colab": {
          "base_uri": "https://localhost:8080/"
        },
        "id": "1UBIAZGGIVbU",
        "outputId": "e468d2bd-345d-4598-aa34-f34cd1fc661f"
      },
      "execution_count": 100,
      "outputs": [
        {
          "output_type": "stream",
          "name": "stdout",
          "text": [
            "<class 'pandas.core.frame.DataFrame'>\n",
            "RangeIndex: 503 entries, 0 to 502\n",
            "Data columns (total 15 columns):\n",
            " #   Column                  Non-Null Count  Dtype  \n",
            "---  ------                  --------------  -----  \n",
            " 0   Symbol                  503 non-null    object \n",
            " 1   Name                    503 non-null    object \n",
            " 2   Address                 501 non-null    object \n",
            " 3   Sector                  501 non-null    object \n",
            " 4   Industry                501 non-null    object \n",
            " 5   Full Time Employees     496 non-null    object \n",
            " 6   Description             501 non-null    object \n",
            " 7   Total ESG Risk score    433 non-null    float64\n",
            " 8   Environment Risk Score  433 non-null    float64\n",
            " 9   Governance Risk Score   433 non-null    float64\n",
            " 10  Social Risk Score       433 non-null    float64\n",
            " 11  Controversy Level       404 non-null    object \n",
            " 12  Controversy Score       433 non-null    float64\n",
            " 13  ESG Risk Percentile     433 non-null    object \n",
            " 14  ESG Risk Level          376 non-null    object \n",
            "dtypes: float64(5), object(10)\n",
            "memory usage: 59.1+ KB\n"
          ]
        }
      ]
    },
    {
      "cell_type": "code",
      "source": [
        "risk_2 = risk.drop(columns=['Symbol'])"
      ],
      "metadata": {
        "id": "F4DA23fxWs0b"
      },
      "execution_count": 17,
      "outputs": []
    },
    {
      "cell_type": "code",
      "source": [
        "risk_2.info()"
      ],
      "metadata": {
        "id": "v0nU2inHXBDg",
        "outputId": "673db1d1-0555-4fde-a7e2-1a21fea023db",
        "colab": {
          "base_uri": "https://localhost:8080/"
        }
      },
      "execution_count": 18,
      "outputs": [
        {
          "output_type": "stream",
          "name": "stdout",
          "text": [
            "<class 'pandas.core.frame.DataFrame'>\n",
            "RangeIndex: 503 entries, 0 to 502\n",
            "Data columns (total 14 columns):\n",
            " #   Column                  Non-Null Count  Dtype  \n",
            "---  ------                  --------------  -----  \n",
            " 0   Name                    503 non-null    object \n",
            " 1   Address                 501 non-null    object \n",
            " 2   Sector                  501 non-null    object \n",
            " 3   Industry                501 non-null    object \n",
            " 4   Full Time Employees     496 non-null    object \n",
            " 5   Description             501 non-null    object \n",
            " 6   Total ESG Risk score    433 non-null    float64\n",
            " 7   Environment Risk Score  433 non-null    float64\n",
            " 8   Governance Risk Score   433 non-null    float64\n",
            " 9   Social Risk Score       433 non-null    float64\n",
            " 10  Controversy Level       404 non-null    object \n",
            " 11  Controversy Score       433 non-null    float64\n",
            " 12  ESG Risk Percentile     433 non-null    object \n",
            " 13  ESG Risk Level          376 non-null    object \n",
            "dtypes: float64(5), object(9)\n",
            "memory usage: 55.1+ KB\n"
          ]
        }
      ]
    },
    {
      "cell_type": "markdown",
      "source": [
        "## Detección y corrección de datos atípicos"
      ],
      "metadata": {
        "id": "a8tAXzQMXX98"
      }
    },
    {
      "cell_type": "markdown",
      "source": [
        "### Controversy Score"
      ],
      "metadata": {
        "id": "WhRbo-PoAYUL"
      }
    },
    {
      "cell_type": "code",
      "source": [
        "sns.boxplot(data=risk_2, x='Controversy Score')"
      ],
      "metadata": {
        "colab": {
          "base_uri": "https://localhost:8080/",
          "height": 466
        },
        "id": "k3_fyQ2ZAZdK",
        "outputId": "4941e9af-f88a-436e-9823-5378c5cb4fc2"
      },
      "execution_count": 19,
      "outputs": [
        {
          "output_type": "execute_result",
          "data": {
            "text/plain": [
              "<Axes: xlabel='Controversy Score'>"
            ]
          },
          "metadata": {},
          "execution_count": 19
        },
        {
          "output_type": "display_data",
          "data": {
            "text/plain": [
              "<Figure size 640x480 with 1 Axes>"
            ],
            "image/png": "[encoded data removed]"
          },
          "metadata": {}
        }
      ]
    },
    {
      "cell_type": "code",
      "source": [
        "#La media y mediana son tan cercanas que no se nota la mediana en el gráfico\n",
        "risk_2['Controversy Score'].describe()"
      ],
      "metadata": {
        "colab": {
          "base_uri": "https://localhost:8080/"
        },
        "id": "GBZ6QIyFKN9k",
        "outputId": "2db19e39-1f5a-49e7-9434-82c3698dfd3e"
      },
      "execution_count": 20,
      "outputs": [
        {
          "output_type": "execute_result",
          "data": {
            "text/plain": [
              "count    433.000000\n",
              "mean       1.896074\n",
              "std        0.940748\n",
              "min        0.000000\n",
              "25%        1.000000\n",
              "50%        2.000000\n",
              "75%        2.000000\n",
              "max        5.000000\n",
              "Name: Controversy Score, dtype: float64"
            ]
          },
          "metadata": {},
          "execution_count": 20
        }
      ]
    },
    {
      "cell_type": "code",
      "source": [
        "sns.countplot(data=risk_2, x='Controversy Score', order=[2.0,1.0,3.0,0.0,4.0,5.0])"
      ],
      "metadata": {
        "colab": {
          "base_uri": "https://localhost:8080/",
          "height": 466
        },
        "id": "-Byk_HNHBQgF",
        "outputId": "a750aa59-910a-4b78-ce8e-d6d2ab662504"
      },
      "execution_count": 21,
      "outputs": [
        {
          "output_type": "execute_result",
          "data": {
            "text/plain": [
              "<Axes: xlabel='Controversy Score', ylabel='count'>"
            ]
          },
          "metadata": {},
          "execution_count": 21
        },
        {
          "output_type": "display_data",
          "data": {
            "text/plain": [
              "<Figure size 640x480 with 1 Axes>"
            ],
            "image/png": "[encoded data removed]"
          },
          "metadata": {}
        }
      ]
    },
    {
      "cell_type": "code",
      "source": [
        "#Hay que tener en cuenta la relación de controversy level y controversy score *revisar\n",
        "risk.loc[risk['Controversy Score']>3].head(1)"
      ],
      "metadata": {
        "colab": {
          "base_uri": "https://localhost:8080/",
          "height": 239
        },
        "id": "4l6i_HcTAfL2",
        "outputId": "8fae66bf-9f9c-496a-9888-ca5c8ec7720a"
      },
      "execution_count": 22,
      "outputs": [
        {
          "output_type": "execute_result",
          "data": {
            "text/plain": [
              "   Symbol                     Name  \\\n",
              "45   ATVI  Activision Blizzard Inc   \n",
              "\n",
              "                                              Address                  Sector  \\\n",
              "45  2701 Olympic Boulevard Building B\\nSanta Monic...  Communication Services   \n",
              "\n",
              "                          Industry Full Time Employees  \\\n",
              "45  Electronic Gaming & Multimedia              13,000   \n",
              "\n",
              "                                          Description  Total ESG Risk score  \\\n",
              "45  Activision Blizzard, Inc., together with its s...                  19.0   \n",
              "\n",
              "    Environment Risk Score  Governance Risk Score  Social Risk Score  \\\n",
              "45                     0.2                    6.3               12.5   \n",
              "\n",
              "   Controversy Level  Controversy Score ESG Risk Percentile ESG Risk Level  \n",
              "45              High                4.0     22nd percentile            Low  "
            ],
            "text/html": [
              "\n",
              "  <div id=\"df-5f768fed-e13a-47cd-bbaf-8628b180fa71\" class=\"colab-df-container\">\n",
              "    <div>\n",
              "<style scoped>\n",
              "    .dataframe tbody tr th:only-of-type {\n",
              "        vertical-align: middle;\n",
              "    }\n",
              "\n",
              "    .dataframe tbody tr th {\n",
              "        vertical-align: top;\n",
              "    }\n",
              "\n",
              "    .dataframe thead th {\n",
              "        text-align: right;\n",
              "    }\n",
              "</style>\n",
              "<table border=\"1\" class=\"dataframe\">\n",
              "  <thead>\n",
              "    <tr style=\"text-align: right;\">\n",
              "      <th></th>\n",
              "      <th>Symbol</th>\n",
              "      <th>Name</th>\n",
              "      <th>Address</th>\n",
              "      <th>Sector</th>\n",
              "      <th>Industry</th>\n",
              "      <th>Full Time Employees</th>\n",
              "      <th>Description</th>\n",
              "      <th>Total ESG Risk score</th>\n",
              "      <th>Environment Risk Score</th>\n",
              "      <th>Governance Risk Score</th>\n",
              "      <th>Social Risk Score</th>\n",
              "      <th>Controversy Level</th>\n",
              "      <th>Controversy Score</th>\n",
              "      <th>ESG Risk Percentile</th>\n",
              "      <th>ESG Risk Level</th>\n",
              "    </tr>\n",
              "  </thead>\n",
              "  <tbody>\n",
              "    <tr>\n",
              "      <th>45</th>\n",
              "      <td>ATVI</td>\n",
              "      <td>Activision Blizzard Inc</td>\n",
              "      <td>2701 Olympic Boulevard Building B\\nSanta Monic...</td>\n",
              "      <td>Communication Services</td>\n",
              "      <td>Electronic Gaming &amp; Multimedia</td>\n",
              "      <td>13,000</td>\n",
              "      <td>Activision Blizzard, Inc., together with its s...</td>\n",
              "      <td>19.0</td>\n",
              "      <td>0.2</td>\n",
              "      <td>6.3</td>\n",
              "      <td>12.5</td>\n",
              "      <td>High</td>\n",
              "      <td>4.0</td>\n",
              "      <td>22nd percentile</td>\n",
              "      <td>Low</td>\n",
              "    </tr>\n",
              "  </tbody>\n",
              "</table>\n",
              "</div>\n",
              "    <div class=\"colab-df-buttons\">\n",
              "\n",
              "  <div class=\"colab-df-container\">\n",
              "    <button class=\"colab-df-convert\" onclick=\"convertToInteractive('df-5f768fed-e13a-47cd-bbaf-8628b180fa71')\"\n",
              "            title=\"Convert this dataframe to an interactive table.\"\n",
              "            style=\"display:none;\">\n",
              "\n",
              "  <svg xmlns=\"http://www.w3.org/2000/svg\" height=\"24px\" viewBox=\"0 -960 960 960\">\n",
              "    <path d=\"M120-120v-720h720v720H120Zm60-500h600v-160H180v160Zm220 220h160v-160H400v160Zm0 220h160v-160H400v160ZM180-400h160v-160H180v160Zm440 0h160v-160H620v160ZM180-180h160v-160H180v160Zm440 0h160v-160H620v160Z\"/>\n",
              "  </svg>\n",
              "    </button>\n",
              "\n",
              "  <style>\n",
              "    .colab-df-container {\n",
              "      display:flex;\n",
              "      gap: 12px;\n",
              "    }\n",
              "\n",
              "    .colab-df-convert {\n",
              "      background-color: #E8F0FE;\n",
              "      border: none;\n",
              "      border-radius: 50%;\n",
              "      cursor: pointer;\n",
              "      display: none;\n",
              "      fill: #1967D2;\n",
              "      height: 32px;\n",
              "      padding: 0 0 0 0;\n",
              "      width: 32px;\n",
              "    }\n",
              "\n",
              "    .colab-df-convert:hover {\n",
              "      background-color: #E2EBFA;\n",
              "      box-shadow: 0px 1px 2px rgba(60, 64, 67, 0.3), 0px 1px 3px 1px rgba(60, 64, 67, 0.15);\n",
              "      fill: #174EA6;\n",
              "    }\n",
              "\n",
              "    .colab-df-buttons div {\n",
              "      margin-bottom: 4px;\n",
              "    }\n",
              "\n",
              "    [theme=dark] .colab-df-convert {\n",
              "      background-color: #3B4455;\n",
              "      fill: #D2E3FC;\n",
              "    }\n",
              "\n",
              "    [theme=dark] .colab-df-convert:hover {\n",
              "      background-color: #434B5C;\n",
              "      box-shadow: 0px 1px 3px 1px rgba(0, 0, 0, 0.15);\n",
              "      filter: drop-shadow(0px 1px 2px rgba(0, 0, 0, 0.3));\n",
              "      fill: #FFFFFF;\n",
              "    }\n",
              "  </style>\n",
              "\n",
              "    <script>\n",
              "      const buttonEl =\n",
              "        document.querySelector('#df-5f768fed-e13a-47cd-bbaf-8628b180fa71 button.colab-df-convert');\n",
              "      buttonEl.style.display =\n",
              "        google.colab.kernel.accessAllowed ? 'block' : 'none';\n",
              "\n",
              "      async function convertToInteractive(key) {\n",
              "        const element = document.querySelector('#df-5f768fed-e13a-47cd-bbaf-8628b180fa71');\n",
              "        const dataTable =\n",
              "          await google.colab.kernel.invokeFunction('convertToInteractive',\n",
              "                                                    [key], {});\n",
              "        if (!dataTable) return;\n",
              "\n",
              "        const docLinkHtml = 'Like what you see? Visit the ' +\n",
              "          '<a target=\"_blank\" href=https://colab.research.google.com/notebooks/data_table.ipynb>data table notebook</a>'\n",
              "          + ' to learn more about interactive tables.';\n",
              "        element.innerHTML = '';\n",
              "        dataTable['output_type'] = 'display_data';\n",
              "        await google.colab.output.renderOutput(dataTable, element);\n",
              "        const docLink = document.createElement('div');\n",
              "        docLink.innerHTML = docLinkHtml;\n",
              "        element.appendChild(docLink);\n",
              "      }\n",
              "    </script>\n",
              "  </div>\n",
              "\n",
              "    </div>\n",
              "  </div>\n"
            ]
          },
          "metadata": {},
          "execution_count": 22
        }
      ]
    },
    {
      "cell_type": "markdown",
      "source": [
        "### Total ESG Risk score"
      ],
      "metadata": {
        "id": "xkmaqLu3-7eZ"
      }
    },
    {
      "cell_type": "code",
      "source": [
        "sns.boxplot(data=risk, x='Total ESG Risk score')"
      ],
      "metadata": {
        "colab": {
          "base_uri": "https://localhost:8080/",
          "height": 466
        },
        "id": "m0vvc9CK5zN6",
        "outputId": "96ab834c-4476-4f58-fe6b-02f40ba1a89a"
      },
      "execution_count": 23,
      "outputs": [
        {
          "output_type": "execute_result",
          "data": {
            "text/plain": [
              "<Axes: xlabel='Total ESG Risk score'>"
            ]
          },
          "metadata": {},
          "execution_count": 23
        },
        {
          "output_type": "display_data",
          "data": {
            "text/plain": [
              "<Figure size 640x480 with 1 Axes>"
            ],
            "image/png": "[encoded data removed]"
          },
          "metadata": {}
        }
      ]
    },
    {
      "cell_type": "code",
      "source": [
        "#Se hace un filtro para revisar los datos atípicos pero no se notan números anormales\n",
        "risk.loc[risk['Total ESG Risk score']> 40]"
      ],
      "metadata": {
        "colab": {
          "base_uri": "https://localhost:8080/",
          "height": 490
        },
        "id": "t4iXLBLC6Ymu",
        "outputId": "fdd646b2-990c-480d-a431-702446dec3bb"
      },
      "execution_count": 24,
      "outputs": [
        {
          "output_type": "execute_result",
          "data": {
            "text/plain": [
              "    Symbol                       Name  \\\n",
              "122   CTRA         Coterra Energy Inc   \n",
              "200     GE        General Electric Co   \n",
              "318    MRO          Marathon Oil Corp   \n",
              "357    OXY  Occidental Petroleum Corp   \n",
              "\n",
              "                                               Address       Sector  \\\n",
              "122  Three Memorial City Plaza\\nSuite 1400 840 Gess...       Energy   \n",
              "200  5 Necco Street\\nBoston, MA 02210\\nUnited State...  Industrials   \n",
              "318  990 Town and Country Boulevard\\nHouston, TX 77...       Energy   \n",
              "357  5 Greenway Plaza\\nSuite 110\\nHouston, TX 77046...       Energy   \n",
              "\n",
              "                           Industry Full Time Employees  \\\n",
              "122                   Oil & Gas E&P                 981   \n",
              "200  Specialty Industrial Machinery             172,000   \n",
              "318                   Oil & Gas E&P               1,570   \n",
              "357                   Oil & Gas E&P              11,973   \n",
              "\n",
              "                                           Description  Total ESG Risk score  \\\n",
              "122  Coterra Energy Inc., an independent oil and ga...                  46.0   \n",
              "200  General Electric Company operates as a high-te...                  41.0   \n",
              "318  Marathon Oil Corporation operates as an indepe...                  42.0   \n",
              "357  Occidental Petroleum Corporation, together wit...                  43.0   \n",
              "\n",
              "     Environment Risk Score  Governance Risk Score  Social Risk Score  \\\n",
              "122                    24.1                    8.8               13.1   \n",
              "200                    14.1                   11.6               15.0   \n",
              "318                    23.9                    8.0               10.1   \n",
              "357                    25.0                    7.0               12.0   \n",
              "\n",
              "    Controversy Level  Controversy Score ESG Risk Percentile ESG Risk Level  \n",
              "122          Moderate                2.0     96th percentile         Severe  \n",
              "200       Significant                3.0     90th percentile         Severe  \n",
              "318          Moderate                2.0     92nd percentile         Severe  \n",
              "357          Moderate                2.0     93rd percentile            NaN  "
            ],
            "text/html": [
              "\n",
              "  <div id=\"df-fc2d2a72-4edc-4655-8735-cb2423aba701\" class=\"colab-df-container\">\n",
              "    <div>\n",
              "<style scoped>\n",
              "    .dataframe tbody tr th:only-of-type {\n",
              "        vertical-align: middle;\n",
              "    }\n",
              "\n",
              "    .dataframe tbody tr th {\n",
              "        vertical-align: top;\n",
              "    }\n",
              "\n",
              "    .dataframe thead th {\n",
              "        text-align: right;\n",
              "    }\n",
              "</style>\n",
              "<table border=\"1\" class=\"dataframe\">\n",
              "  <thead>\n",
              "    <tr style=\"text-align: right;\">\n",
              "      <th></th>\n",
              "      <th>Symbol</th>\n",
              "      <th>Name</th>\n",
              "      <th>Address</th>\n",
              "      <th>Sector</th>\n",
              "      <th>Industry</th>\n",
              "      <th>Full Time Employees</th>\n",
              "      <th>Description</th>\n",
              "      <th>Total ESG Risk score</th>\n",
              "      <th>Environment Risk Score</th>\n",
              "      <th>Governance Risk Score</th>\n",
              "      <th>Social Risk Score</th>\n",
              "      <th>Controversy Level</th>\n",
              "      <th>Controversy Score</th>\n",
              "      <th>ESG Risk Percentile</th>\n",
              "      <th>ESG Risk Level</th>\n",
              "    </tr>\n",
              "  </thead>\n",
              "  <tbody>\n",
              "    <tr>\n",
              "      <th>122</th>\n",
              "      <td>CTRA</td>\n",
              "      <td>Coterra Energy Inc</td>\n",
              "      <td>Three Memorial City Plaza\\nSuite 1400 840 Gess...</td>\n",
              "      <td>Energy</td>\n",
              "      <td>Oil &amp; Gas E&amp;P</td>\n",
              "      <td>981</td>\n",
              "      <td>Coterra Energy Inc., an independent oil and ga...</td>\n",
              "      <td>46.0</td>\n",
              "      <td>24.1</td>\n",
              "      <td>8.8</td>\n",
              "      <td>13.1</td>\n",
              "      <td>Moderate</td>\n",
              "      <td>2.0</td>\n",
              "      <td>96th percentile</td>\n",
              "      <td>Severe</td>\n",
              "    </tr>\n",
              "    <tr>\n",
              "      <th>200</th>\n",
              "      <td>GE</td>\n",
              "      <td>General Electric Co</td>\n",
              "      <td>5 Necco Street\\nBoston, MA 02210\\nUnited State...</td>\n",
              "      <td>Industrials</td>\n",
              "      <td>Specialty Industrial Machinery</td>\n",
              "      <td>172,000</td>\n",
              "      <td>General Electric Company operates as a high-te...</td>\n",
              "      <td>41.0</td>\n",
              "      <td>14.1</td>\n",
              "      <td>11.6</td>\n",
              "      <td>15.0</td>\n",
              "      <td>Significant</td>\n",
              "      <td>3.0</td>\n",
              "      <td>90th percentile</td>\n",
              "      <td>Severe</td>\n",
              "    </tr>\n",
              "    <tr>\n",
              "      <th>318</th>\n",
              "      <td>MRO</td>\n",
              "      <td>Marathon Oil Corp</td>\n",
              "      <td>990 Town and Country Boulevard\\nHouston, TX 77...</td>\n",
              "      <td>Energy</td>\n",
              "      <td>Oil &amp; Gas E&amp;P</td>\n",
              "      <td>1,570</td>\n",
              "      <td>Marathon Oil Corporation operates as an indepe...</td>\n",
              "      <td>42.0</td>\n",
              "      <td>23.9</td>\n",
              "      <td>8.0</td>\n",
              "      <td>10.1</td>\n",
              "      <td>Moderate</td>\n",
              "      <td>2.0</td>\n",
              "      <td>92nd percentile</td>\n",
              "      <td>Severe</td>\n",
              "    </tr>\n",
              "    <tr>\n",
              "      <th>357</th>\n",
              "      <td>OXY</td>\n",
              "      <td>Occidental Petroleum Corp</td>\n",
              "      <td>5 Greenway Plaza\\nSuite 110\\nHouston, TX 77046...</td>\n",
              "      <td>Energy</td>\n",
              "      <td>Oil &amp; Gas E&amp;P</td>\n",
              "      <td>11,973</td>\n",
              "      <td>Occidental Petroleum Corporation, together wit...</td>\n",
              "      <td>43.0</td>\n",
              "      <td>25.0</td>\n",
              "      <td>7.0</td>\n",
              "      <td>12.0</td>\n",
              "      <td>Moderate</td>\n",
              "      <td>2.0</td>\n",
              "      <td>93rd percentile</td>\n",
              "      <td>NaN</td>\n",
              "    </tr>\n",
              "  </tbody>\n",
              "</table>\n",
              "</div>\n",
              "    <div class=\"colab-df-buttons\">\n",
              "\n",
              "  <div class=\"colab-df-container\">\n",
              "    <button class=\"colab-df-convert\" onclick=\"convertToInteractive('df-fc2d2a72-4edc-4655-8735-cb2423aba701')\"\n",
              "            title=\"Convert this dataframe to an interactive table.\"\n",
              "            style=\"display:none;\">\n",
              "\n",
              "  <svg xmlns=\"http://www.w3.org/2000/svg\" height=\"24px\" viewBox=\"0 -960 960 960\">\n",
              "    <path d=\"M120-120v-720h720v720H120Zm60-500h600v-160H180v160Zm220 220h160v-160H400v160Zm0 220h160v-160H400v160ZM180-400h160v-160H180v160Zm440 0h160v-160H620v160ZM180-180h160v-160H180v160Zm440 0h160v-160H620v160Z\"/>\n",
              "  </svg>\n",
              "    </button>\n",
              "\n",
              "  <style>\n",
              "    .colab-df-container {\n",
              "      display:flex;\n",
              "      gap: 12px;\n",
              "    }\n",
              "\n",
              "    .colab-df-convert {\n",
              "      background-color: #E8F0FE;\n",
              "      border: none;\n",
              "      border-radius: 50%;\n",
              "      cursor: pointer;\n",
              "      display: none;\n",
              "      fill: #1967D2;\n",
              "      height: 32px;\n",
              "      padding: 0 0 0 0;\n",
              "      width: 32px;\n",
              "    }\n",
              "\n",
              "    .colab-df-convert:hover {\n",
              "      background-color: #E2EBFA;\n",
              "      box-shadow: 0px 1px 2px rgba(60, 64, 67, 0.3), 0px 1px 3px 1px rgba(60, 64, 67, 0.15);\n",
              "      fill: #174EA6;\n",
              "    }\n",
              "\n",
              "    .colab-df-buttons div {\n",
              "      margin-bottom: 4px;\n",
              "    }\n",
              "\n",
              "    [theme=dark] .colab-df-convert {\n",
              "      background-color: #3B4455;\n",
              "      fill: #D2E3FC;\n",
              "    }\n",
              "\n",
              "    [theme=dark] .colab-df-convert:hover {\n",
              "      background-color: #434B5C;\n",
              "      box-shadow: 0px 1px 3px 1px rgba(0, 0, 0, 0.15);\n",
              "      filter: drop-shadow(0px 1px 2px rgba(0, 0, 0, 0.3));\n",
              "      fill: #FFFFFF;\n",
              "    }\n",
              "  </style>\n",
              "\n",
              "    <script>\n",
              "      const buttonEl =\n",
              "        document.querySelector('#df-fc2d2a72-4edc-4655-8735-cb2423aba701 button.colab-df-convert');\n",
              "      buttonEl.style.display =\n",
              "        google.colab.kernel.accessAllowed ? 'block' : 'none';\n",
              "\n",
              "      async function convertToInteractive(key) {\n",
              "        const element = document.querySelector('#df-fc2d2a72-4edc-4655-8735-cb2423aba701');\n",
              "        const dataTable =\n",
              "          await google.colab.kernel.invokeFunction('convertToInteractive',\n",
              "                                                    [key], {});\n",
              "        if (!dataTable) return;\n",
              "\n",
              "        const docLinkHtml = 'Like what you see? Visit the ' +\n",
              "          '<a target=\"_blank\" href=https://colab.research.google.com/notebooks/data_table.ipynb>data table notebook</a>'\n",
              "          + ' to learn more about interactive tables.';\n",
              "        element.innerHTML = '';\n",
              "        dataTable['output_type'] = 'display_data';\n",
              "        await google.colab.output.renderOutput(dataTable, element);\n",
              "        const docLink = document.createElement('div');\n",
              "        docLink.innerHTML = docLinkHtml;\n",
              "        element.appendChild(docLink);\n",
              "      }\n",
              "    </script>\n",
              "  </div>\n",
              "\n",
              "\n",
              "<div id=\"df-8356d2a0-b8c6-449b-9e1f-3ee4f8eeafd4\">\n",
              "  <button class=\"colab-df-quickchart\" onclick=\"quickchart('df-8356d2a0-b8c6-449b-9e1f-3ee4f8eeafd4')\"\n",
              "            title=\"Suggest charts.\"\n",
              "            style=\"display:none;\">\n",
              "\n",
              "<svg xmlns=\"http://www.w3.org/2000/svg\" height=\"24px\"viewBox=\"0 0 24 24\"\n",
              "     width=\"24px\">\n",
              "    <g>\n",
              "        <path d=\"M19 3H5c-1.1 0-2 .9-2 2v14c0 1.1.9 2 2 2h14c1.1 0 2-.9 2-2V5c0-1.1-.9-2-2-2zM9 17H7v-7h2v7zm4 0h-2V7h2v10zm4 0h-2v-4h2v4z\"/>\n",
              "    </g>\n",
              "</svg>\n",
              "  </button>\n",
              "\n",
              "<style>\n",
              "  .colab-df-quickchart {\n",
              "      --bg-color: #E8F0FE;\n",
              "      --fill-color: #1967D2;\n",
              "      --hover-bg-color: #E2EBFA;\n",
              "      --hover-fill-color: #174EA6;\n",
              "      --disabled-fill-color: #AAA;\n",
              "      --disabled-bg-color: #DDD;\n",
              "  }\n",
              "\n",
              "  [theme=dark] .colab-df-quickchart {\n",
              "      --bg-color: #3B4455;\n",
              "      --fill-color: #D2E3FC;\n",
              "      --hover-bg-color: #434B5C;\n",
              "      --hover-fill-color: #FFFFFF;\n",
              "      --disabled-bg-color: #3B4455;\n",
              "      --disabled-fill-color: #666;\n",
              "  }\n",
              "\n",
              "  .colab-df-quickchart {\n",
              "    background-color: var(--bg-color);\n",
              "    border: none;\n",
              "    border-radius: 50%;\n",
              "    cursor: pointer;\n",
              "    display: none;\n",
              "    fill: var(--fill-color);\n",
              "    height: 32px;\n",
              "    padding: 0;\n",
              "    width: 32px;\n",
              "  }\n",
              "\n",
              "  .colab-df-quickchart:hover {\n",
              "    background-color: var(--hover-bg-color);\n",
              "    box-shadow: 0 1px 2px rgba(60, 64, 67, 0.3), 0 1px 3px 1px rgba(60, 64, 67, 0.15);\n",
              "    fill: var(--button-hover-fill-color);\n",
              "  }\n",
              "\n",
              "  .colab-df-quickchart-complete:disabled,\n",
              "  .colab-df-quickchart-complete:disabled:hover {\n",
              "    background-color: var(--disabled-bg-color);\n",
              "    fill: var(--disabled-fill-color);\n",
              "    box-shadow: none;\n",
              "  }\n",
              "\n",
              "  .colab-df-spinner {\n",
              "    border: 2px solid var(--fill-color);\n",
              "    border-color: transparent;\n",
              "    border-bottom-color: var(--fill-color);\n",
              "    animation:\n",
              "      spin 1s steps(1) infinite;\n",
              "  }\n",
              "\n",
              "  @keyframes spin {\n",
              "    0% {\n",
              "      border-color: transparent;\n",
              "      border-bottom-color: var(--fill-color);\n",
              "      border-left-color: var(--fill-color);\n",
              "    }\n",
              "    20% {\n",
              "      border-color: transparent;\n",
              "      border-left-color: var(--fill-color);\n",
              "      border-top-color: var(--fill-color);\n",
              "    }\n",
              "    30% {\n",
              "      border-color: transparent;\n",
              "      border-left-color: var(--fill-color);\n",
              "      border-top-color: var(--fill-color);\n",
              "      border-right-color: var(--fill-color);\n",
              "    }\n",
              "    40% {\n",
              "      border-color: transparent;\n",
              "      border-right-color: var(--fill-color);\n",
              "      border-top-color: var(--fill-color);\n",
              "    }\n",
              "    60% {\n",
              "      border-color: transparent;\n",
              "      border-right-color: var(--fill-color);\n",
              "    }\n",
              "    80% {\n",
              "      border-color: transparent;\n",
              "      border-right-color: var(--fill-color);\n",
              "      border-bottom-color: var(--fill-color);\n",
              "    }\n",
              "    90% {\n",
              "      border-color: transparent;\n",
              "      border-bottom-color: var(--fill-color);\n",
              "    }\n",
              "  }\n",
              "</style>\n",
              "\n",
              "  <script>\n",
              "    async function quickchart(key) {\n",
              "      const quickchartButtonEl =\n",
              "        document.querySelector('#' + key + ' button');\n",
              "      quickchartButtonEl.disabled = true;  // To prevent multiple clicks.\n",
              "      quickchartButtonEl.classList.add('colab-df-spinner');\n",
              "      try {\n",
              "        const charts = await google.colab.kernel.invokeFunction(\n",
              "            'suggestCharts', [key], {});\n",
              "      } catch (error) {\n",
              "        console.error('Error during call to suggestCharts:', error);\n",
              "      }\n",
              "      quickchartButtonEl.classList.remove('colab-df-spinner');\n",
              "      quickchartButtonEl.classList.add('colab-df-quickchart-complete');\n",
              "    }\n",
              "    (() => {\n",
              "      let quickchartButtonEl =\n",
              "        document.querySelector('#df-8356d2a0-b8c6-449b-9e1f-3ee4f8eeafd4 button');\n",
              "      quickchartButtonEl.style.display =\n",
              "        google.colab.kernel.accessAllowed ? 'block' : 'none';\n",
              "    })();\n",
              "  </script>\n",
              "</div>\n",
              "    </div>\n",
              "  </div>\n"
            ]
          },
          "metadata": {},
          "execution_count": 24
        }
      ]
    },
    {
      "cell_type": "markdown",
      "source": [
        "### Environment Risk Score"
      ],
      "metadata": {
        "id": "gp6C8Fol-3dr"
      }
    },
    {
      "cell_type": "code",
      "source": [
        "sns.boxplot(data=risk, x='Environment Risk Score')"
      ],
      "metadata": {
        "colab": {
          "base_uri": "https://localhost:8080/",
          "height": 466
        },
        "id": "3FOmg5qB7_Gg",
        "outputId": "4cef64ab-aaf3-43b8-850a-cd460100c2a2"
      },
      "execution_count": 25,
      "outputs": [
        {
          "output_type": "execute_result",
          "data": {
            "text/plain": [
              "<Axes: xlabel='Environment Risk Score'>"
            ]
          },
          "metadata": {},
          "execution_count": 25
        },
        {
          "output_type": "display_data",
          "data": {
            "text/plain": [
              "<Figure size 640x480 with 1 Axes>"
            ],
            "image/png": "[encoded data removed]"
          },
          "metadata": {}
        }
      ]
    },
    {
      "cell_type": "code",
      "source": [
        "risk.loc[risk['Environment Risk Score']> 20].head(2)"
      ],
      "metadata": {
        "colab": {
          "base_uri": "https://localhost:8080/",
          "height": 323
        },
        "id": "rS8JI46_8HY7",
        "outputId": "4c2258ac-a0c5-4eee-d6ea-eea897e6960a"
      },
      "execution_count": 26,
      "outputs": [
        {
          "output_type": "execute_result",
          "data": {
            "text/plain": [
              "    Symbol                Name  \\\n",
              "39     APA            Apa Corp   \n",
              "122   CTRA  Coterra Energy Inc   \n",
              "\n",
              "                                               Address  Sector       Industry  \\\n",
              "39   2000 Post Oak Boulevard\\nSuite 100 One Post Oa...  Energy  Oil & Gas E&P   \n",
              "122  Three Memorial City Plaza\\nSuite 1400 840 Gess...  Energy  Oil & Gas E&P   \n",
              "\n",
              "    Full Time Employees                                        Description  \\\n",
              "39                2,273  APA Corporation, through its subsidiaries, exp...   \n",
              "122                 981  Coterra Energy Inc., an independent oil and ga...   \n",
              "\n",
              "     Total ESG Risk score  Environment Risk Score  Governance Risk Score  \\\n",
              "39                   39.0                    22.0                    8.0   \n",
              "122                  46.0                    24.1                    8.8   \n",
              "\n",
              "     Social Risk Score Controversy Level  Controversy Score  \\\n",
              "39                 8.9          Moderate                2.0   \n",
              "122               13.1          Moderate                2.0   \n",
              "\n",
              "    ESG Risk Percentile ESG Risk Level  \n",
              "39      83rd percentile           High  \n",
              "122     96th percentile         Severe  "
            ],
            "text/html": [
              "\n",
              "  <div id=\"df-62595fe5-5d7e-45fd-93b8-cf9434fd43e8\" class=\"colab-df-container\">\n",
              "    <div>\n",
              "<style scoped>\n",
              "    .dataframe tbody tr th:only-of-type {\n",
              "        vertical-align: middle;\n",
              "    }\n",
              "\n",
              "    .dataframe tbody tr th {\n",
              "        vertical-align: top;\n",
              "    }\n",
              "\n",
              "    .dataframe thead th {\n",
              "        text-align: right;\n",
              "    }\n",
              "</style>\n",
              "<table border=\"1\" class=\"dataframe\">\n",
              "  <thead>\n",
              "    <tr style=\"text-align: right;\">\n",
              "      <th></th>\n",
              "      <th>Symbol</th>\n",
              "      <th>Name</th>\n",
              "      <th>Address</th>\n",
              "      <th>Sector</th>\n",
              "      <th>Industry</th>\n",
              "      <th>Full Time Employees</th>\n",
              "      <th>Description</th>\n",
              "      <th>Total ESG Risk score</th>\n",
              "      <th>Environment Risk Score</th>\n",
              "      <th>Governance Risk Score</th>\n",
              "      <th>Social Risk Score</th>\n",
              "      <th>Controversy Level</th>\n",
              "      <th>Controversy Score</th>\n",
              "      <th>ESG Risk Percentile</th>\n",
              "      <th>ESG Risk Level</th>\n",
              "    </tr>\n",
              "  </thead>\n",
              "  <tbody>\n",
              "    <tr>\n",
              "      <th>39</th>\n",
              "      <td>APA</td>\n",
              "      <td>Apa Corp</td>\n",
              "      <td>2000 Post Oak Boulevard\\nSuite 100 One Post Oa...</td>\n",
              "      <td>Energy</td>\n",
              "      <td>Oil &amp; Gas E&amp;P</td>\n",
              "      <td>2,273</td>\n",
              "      <td>APA Corporation, through its subsidiaries, exp...</td>\n",
              "      <td>39.0</td>\n",
              "      <td>22.0</td>\n",
              "      <td>8.0</td>\n",
              "      <td>8.9</td>\n",
              "      <td>Moderate</td>\n",
              "      <td>2.0</td>\n",
              "      <td>83rd percentile</td>\n",
              "      <td>High</td>\n",
              "    </tr>\n",
              "    <tr>\n",
              "      <th>122</th>\n",
              "      <td>CTRA</td>\n",
              "      <td>Coterra Energy Inc</td>\n",
              "      <td>Three Memorial City Plaza\\nSuite 1400 840 Gess...</td>\n",
              "      <td>Energy</td>\n",
              "      <td>Oil &amp; Gas E&amp;P</td>\n",
              "      <td>981</td>\n",
              "      <td>Coterra Energy Inc., an independent oil and ga...</td>\n",
              "      <td>46.0</td>\n",
              "      <td>24.1</td>\n",
              "      <td>8.8</td>\n",
              "      <td>13.1</td>\n",
              "      <td>Moderate</td>\n",
              "      <td>2.0</td>\n",
              "      <td>96th percentile</td>\n",
              "      <td>Severe</td>\n",
              "    </tr>\n",
              "  </tbody>\n",
              "</table>\n",
              "</div>\n",
              "    <div class=\"colab-df-buttons\">\n",
              "\n",
              "  <div class=\"colab-df-container\">\n",
              "    <button class=\"colab-df-convert\" onclick=\"convertToInteractive('df-62595fe5-5d7e-45fd-93b8-cf9434fd43e8')\"\n",
              "            title=\"Convert this dataframe to an interactive table.\"\n",
              "            style=\"display:none;\">\n",
              "\n",
              "  <svg xmlns=\"http://www.w3.org/2000/svg\" height=\"24px\" viewBox=\"0 -960 960 960\">\n",
              "    <path d=\"M120-120v-720h720v720H120Zm60-500h600v-160H180v160Zm220 220h160v-160H400v160Zm0 220h160v-160H400v160ZM180-400h160v-160H180v160Zm440 0h160v-160H620v160ZM180-180h160v-160H180v160Zm440 0h160v-160H620v160Z\"/>\n",
              "  </svg>\n",
              "    </button>\n",
              "\n",
              "  <style>\n",
              "    .colab-df-container {\n",
              "      display:flex;\n",
              "      gap: 12px;\n",
              "    }\n",
              "\n",
              "    .colab-df-convert {\n",
              "      background-color: #E8F0FE;\n",
              "      border: none;\n",
              "      border-radius: 50%;\n",
              "      cursor: pointer;\n",
              "      display: none;\n",
              "      fill: #1967D2;\n",
              "      height: 32px;\n",
              "      padding: 0 0 0 0;\n",
              "      width: 32px;\n",
              "    }\n",
              "\n",
              "    .colab-df-convert:hover {\n",
              "      background-color: #E2EBFA;\n",
              "      box-shadow: 0px 1px 2px rgba(60, 64, 67, 0.3), 0px 1px 3px 1px rgba(60, 64, 67, 0.15);\n",
              "      fill: #174EA6;\n",
              "    }\n",
              "\n",
              "    .colab-df-buttons div {\n",
              "      margin-bottom: 4px;\n",
              "    }\n",
              "\n",
              "    [theme=dark] .colab-df-convert {\n",
              "      background-color: #3B4455;\n",
              "      fill: #D2E3FC;\n",
              "    }\n",
              "\n",
              "    [theme=dark] .colab-df-convert:hover {\n",
              "      background-color: #434B5C;\n",
              "      box-shadow: 0px 1px 3px 1px rgba(0, 0, 0, 0.15);\n",
              "      filter: drop-shadow(0px 1px 2px rgba(0, 0, 0, 0.3));\n",
              "      fill: #FFFFFF;\n",
              "    }\n",
              "  </style>\n",
              "\n",
              "    <script>\n",
              "      const buttonEl =\n",
              "        document.querySelector('#df-62595fe5-5d7e-45fd-93b8-cf9434fd43e8 button.colab-df-convert');\n",
              "      buttonEl.style.display =\n",
              "        google.colab.kernel.accessAllowed ? 'block' : 'none';\n",
              "\n",
              "      async function convertToInteractive(key) {\n",
              "        const element = document.querySelector('#df-62595fe5-5d7e-45fd-93b8-cf9434fd43e8');\n",
              "        const dataTable =\n",
              "          await google.colab.kernel.invokeFunction('convertToInteractive',\n",
              "                                                    [key], {});\n",
              "        if (!dataTable) return;\n",
              "\n",
              "        const docLinkHtml = 'Like what you see? Visit the ' +\n",
              "          '<a target=\"_blank\" href=https://colab.research.google.com/notebooks/data_table.ipynb>data table notebook</a>'\n",
              "          + ' to learn more about interactive tables.';\n",
              "        element.innerHTML = '';\n",
              "        dataTable['output_type'] = 'display_data';\n",
              "        await google.colab.output.renderOutput(dataTable, element);\n",
              "        const docLink = document.createElement('div');\n",
              "        docLink.innerHTML = docLinkHtml;\n",
              "        element.appendChild(docLink);\n",
              "      }\n",
              "    </script>\n",
              "  </div>\n",
              "\n",
              "\n",
              "<div id=\"df-e0e61f63-a4aa-4e84-a47f-31b3ee7b03e5\">\n",
              "  <button class=\"colab-df-quickchart\" onclick=\"quickchart('df-e0e61f63-a4aa-4e84-a47f-31b3ee7b03e5')\"\n",
              "            title=\"Suggest charts.\"\n",
              "            style=\"display:none;\">\n",
              "\n",
              "<svg xmlns=\"http://www.w3.org/2000/svg\" height=\"24px\"viewBox=\"0 0 24 24\"\n",
              "     width=\"24px\">\n",
              "    <g>\n",
              "        <path d=\"M19 3H5c-1.1 0-2 .9-2 2v14c0 1.1.9 2 2 2h14c1.1 0 2-.9 2-2V5c0-1.1-.9-2-2-2zM9 17H7v-7h2v7zm4 0h-2V7h2v10zm4 0h-2v-4h2v4z\"/>\n",
              "    </g>\n",
              "</svg>\n",
              "  </button>\n",
              "\n",
              "<style>\n",
              "  .colab-df-quickchart {\n",
              "      --bg-color: #E8F0FE;\n",
              "      --fill-color: #1967D2;\n",
              "      --hover-bg-color: #E2EBFA;\n",
              "      --hover-fill-color: #174EA6;\n",
              "      --disabled-fill-color: #AAA;\n",
              "      --disabled-bg-color: #DDD;\n",
              "  }\n",
              "\n",
              "  [theme=dark] .colab-df-quickchart {\n",
              "      --bg-color: #3B4455;\n",
              "      --fill-color: #D2E3FC;\n",
              "      --hover-bg-color: #434B5C;\n",
              "      --hover-fill-color: #FFFFFF;\n",
              "      --disabled-bg-color: #3B4455;\n",
              "      --disabled-fill-color: #666;\n",
              "  }\n",
              "\n",
              "  .colab-df-quickchart {\n",
              "    background-color: var(--bg-color);\n",
              "    border: none;\n",
              "    border-radius: 50%;\n",
              "    cursor: pointer;\n",
              "    display: none;\n",
              "    fill: var(--fill-color);\n",
              "    height: 32px;\n",
              "    padding: 0;\n",
              "    width: 32px;\n",
              "  }\n",
              "\n",
              "  .colab-df-quickchart:hover {\n",
              "    background-color: var(--hover-bg-color);\n",
              "    box-shadow: 0 1px 2px rgba(60, 64, 67, 0.3), 0 1px 3px 1px rgba(60, 64, 67, 0.15);\n",
              "    fill: var(--button-hover-fill-color);\n",
              "  }\n",
              "\n",
              "  .colab-df-quickchart-complete:disabled,\n",
              "  .colab-df-quickchart-complete:disabled:hover {\n",
              "    background-color: var(--disabled-bg-color);\n",
              "    fill: var(--disabled-fill-color);\n",
              "    box-shadow: none;\n",
              "  }\n",
              "\n",
              "  .colab-df-spinner {\n",
              "    border: 2px solid var(--fill-color);\n",
              "    border-color: transparent;\n",
              "    border-bottom-color: var(--fill-color);\n",
              "    animation:\n",
              "      spin 1s steps(1) infinite;\n",
              "  }\n",
              "\n",
              "  @keyframes spin {\n",
              "    0% {\n",
              "      border-color: transparent;\n",
              "      border-bottom-color: var(--fill-color);\n",
              "      border-left-color: var(--fill-color);\n",
              "    }\n",
              "    20% {\n",
              "      border-color: transparent;\n",
              "      border-left-color: var(--fill-color);\n",
              "      border-top-color: var(--fill-color);\n",
              "    }\n",
              "    30% {\n",
              "      border-color: transparent;\n",
              "      border-left-color: var(--fill-color);\n",
              "      border-top-color: var(--fill-color);\n",
              "      border-right-color: var(--fill-color);\n",
              "    }\n",
              "    40% {\n",
              "      border-color: transparent;\n",
              "      border-right-color: var(--fill-color);\n",
              "      border-top-color: var(--fill-color);\n",
              "    }\n",
              "    60% {\n",
              "      border-color: transparent;\n",
              "      border-right-color: var(--fill-color);\n",
              "    }\n",
              "    80% {\n",
              "      border-color: transparent;\n",
              "      border-right-color: var(--fill-color);\n",
              "      border-bottom-color: var(--fill-color);\n",
              "    }\n",
              "    90% {\n",
              "      border-color: transparent;\n",
              "      border-bottom-color: var(--fill-color);\n",
              "    }\n",
              "  }\n",
              "</style>\n",
              "\n",
              "  <script>\n",
              "    async function quickchart(key) {\n",
              "      const quickchartButtonEl =\n",
              "        document.querySelector('#' + key + ' button');\n",
              "      quickchartButtonEl.disabled = true;  // To prevent multiple clicks.\n",
              "      quickchartButtonEl.classList.add('colab-df-spinner');\n",
              "      try {\n",
              "        const charts = await google.colab.kernel.invokeFunction(\n",
              "            'suggestCharts', [key], {});\n",
              "      } catch (error) {\n",
              "        console.error('Error during call to suggestCharts:', error);\n",
              "      }\n",
              "      quickchartButtonEl.classList.remove('colab-df-spinner');\n",
              "      quickchartButtonEl.classList.add('colab-df-quickchart-complete');\n",
              "    }\n",
              "    (() => {\n",
              "      let quickchartButtonEl =\n",
              "        document.querySelector('#df-e0e61f63-a4aa-4e84-a47f-31b3ee7b03e5 button');\n",
              "      quickchartButtonEl.style.display =\n",
              "        google.colab.kernel.accessAllowed ? 'block' : 'none';\n",
              "    })();\n",
              "  </script>\n",
              "</div>\n",
              "    </div>\n",
              "  </div>\n"
            ]
          },
          "metadata": {},
          "execution_count": 26
        }
      ]
    },
    {
      "cell_type": "markdown",
      "source": [
        "### Governance Risk Score"
      ],
      "metadata": {
        "id": "umrsqruS_eb5"
      }
    },
    {
      "cell_type": "code",
      "source": [
        "sns.boxplot(data=risk, x='Governance Risk Score')"
      ],
      "metadata": {
        "colab": {
          "base_uri": "https://localhost:8080/",
          "height": 466
        },
        "id": "YwEY88k-_eEq",
        "outputId": "0670e7e5-c232-4ee0-ba89-c2c1c76bcb00"
      },
      "execution_count": 27,
      "outputs": [
        {
          "output_type": "execute_result",
          "data": {
            "text/plain": [
              "<Axes: xlabel='Governance Risk Score'>"
            ]
          },
          "metadata": {},
          "execution_count": 27
        },
        {
          "output_type": "display_data",
          "data": {
            "text/plain": [
              "<Figure size 640x480 with 1 Axes>"
            ],
            "image/png": "[encoded data removed]"
          },
          "metadata": {}
        }
      ]
    },
    {
      "cell_type": "code",
      "source": [
        "risk.loc[risk['Governance Risk Score']> 11].head()"
      ],
      "metadata": {
        "colab": {
          "base_uri": "https://localhost:8080/",
          "height": 573
        },
        "id": "LPnso7Yf-i_f",
        "outputId": "31a8d79e-2da5-444c-97aa-f281c674c176"
      },
      "execution_count": 28,
      "outputs": [
        {
          "output_type": "execute_result",
          "data": {
            "text/plain": [
              "   Symbol                          Name  \\\n",
              "7    ACGL        Arch Capital Group Ltd   \n",
              "18    AIG  American International Group   \n",
              "32    AMP      Ameriprise Financial Inc   \n",
              "54    BAC          Bank of America Corp   \n",
              "65     BK  Bank of New York Mellon Corp   \n",
              "\n",
              "                                              Address              Sector  \\\n",
              "7   Waterloo House\\nGround Floor 100 Pitts Bay Roa...  Financial Services   \n",
              "18  1271 Avenue of the Americas\\nNew York, NY 1002...  Financial Services   \n",
              "32  1099 Ameriprise Financial Center\\nMinneapolis,...  Financial Services   \n",
              "54  Bank of America Corporate Center\\n100 North Tr...  Financial Services   \n",
              "65  240 Greenwich Street\\nNew York, NY 10286\\nUnit...  Financial Services   \n",
              "\n",
              "                 Industry Full Time Employees  \\\n",
              "7   Insurance—Diversified               5,800   \n",
              "18  Insurance—Diversified              26,200   \n",
              "32       Asset Management              13,500   \n",
              "54      Banks—Diversified             216,000   \n",
              "65       Asset Management              53,200   \n",
              "\n",
              "                                          Description  Total ESG Risk score  \\\n",
              "7   Arch Capital Group Ltd., together with its sub...                  21.0   \n",
              "18  American International Group, Inc. offers insu...                  25.0   \n",
              "32  Ameriprise Financial, Inc., through its subsid...                  23.0   \n",
              "54  Bank of America Corporation, through its subsi...                  27.0   \n",
              "65  The Bank of New York Mellon Corporation provid...                  21.0   \n",
              "\n",
              "    Environment Risk Score  Governance Risk Score  Social Risk Score  \\\n",
              "7                      1.0                   12.0                7.0   \n",
              "18                     2.0                   14.0               10.0   \n",
              "32                     2.6                   12.8                7.2   \n",
              "54                     1.6                   11.2               14.4   \n",
              "65                     1.1                   11.2                9.2   \n",
              "\n",
              "   Controversy Level  Controversy Score ESG Risk Percentile ESG Risk Level  \n",
              "7           Moderate                2.0     28th percentile            NaN  \n",
              "18          Moderate                2.0     45th percentile            NaN  \n",
              "32          Moderate                2.0     35th percentile         Medium  \n",
              "54       Significant                3.0     52nd percentile         Medium  \n",
              "65       Significant                3.0     30th percentile         Medium  "
            ],
            "text/html": [
              "\n",
              "  <div id=\"df-d11b4bf3-a8e0-43b7-8da4-184195935a41\" class=\"colab-df-container\">\n",
              "    <div>\n",
              "<style scoped>\n",
              "    .dataframe tbody tr th:only-of-type {\n",
              "        vertical-align: middle;\n",
              "    }\n",
              "\n",
              "    .dataframe tbody tr th {\n",
              "        vertical-align: top;\n",
              "    }\n",
              "\n",
              "    .dataframe thead th {\n",
              "        text-align: right;\n",
              "    }\n",
              "</style>\n",
              "<table border=\"1\" class=\"dataframe\">\n",
              "  <thead>\n",
              "    <tr style=\"text-align: right;\">\n",
              "      <th></th>\n",
              "      <th>Symbol</th>\n",
              "      <th>Name</th>\n",
              "      <th>Address</th>\n",
              "      <th>Sector</th>\n",
              "      <th>Industry</th>\n",
              "      <th>Full Time Employees</th>\n",
              "      <th>Description</th>\n",
              "      <th>Total ESG Risk score</th>\n",
              "      <th>Environment Risk Score</th>\n",
              "      <th>Governance Risk Score</th>\n",
              "      <th>Social Risk Score</th>\n",
              "      <th>Controversy Level</th>\n",
              "      <th>Controversy Score</th>\n",
              "      <th>ESG Risk Percentile</th>\n",
              "      <th>ESG Risk Level</th>\n",
              "    </tr>\n",
              "  </thead>\n",
              "  <tbody>\n",
              "    <tr>\n",
              "      <th>7</th>\n",
              "      <td>ACGL</td>\n",
              "      <td>Arch Capital Group Ltd</td>\n",
              "      <td>Waterloo House\\nGround Floor 100 Pitts Bay Roa...</td>\n",
              "      <td>Financial Services</td>\n",
              "      <td>Insurance—Diversified</td>\n",
              "      <td>5,800</td>\n",
              "      <td>Arch Capital Group Ltd., together with its sub...</td>\n",
              "      <td>21.0</td>\n",
              "      <td>1.0</td>\n",
              "      <td>12.0</td>\n",
              "      <td>7.0</td>\n",
              "      <td>Moderate</td>\n",
              "      <td>2.0</td>\n",
              "      <td>28th percentile</td>\n",
              "      <td>NaN</td>\n",
              "    </tr>\n",
              "    <tr>\n",
              "      <th>18</th>\n",
              "      <td>AIG</td>\n",
              "      <td>American International Group</td>\n",
              "      <td>1271 Avenue of the Americas\\nNew York, NY 1002...</td>\n",
              "      <td>Financial Services</td>\n",
              "      <td>Insurance—Diversified</td>\n",
              "      <td>26,200</td>\n",
              "      <td>American International Group, Inc. offers insu...</td>\n",
              "      <td>25.0</td>\n",
              "      <td>2.0</td>\n",
              "      <td>14.0</td>\n",
              "      <td>10.0</td>\n",
              "      <td>Moderate</td>\n",
              "      <td>2.0</td>\n",
              "      <td>45th percentile</td>\n",
              "      <td>NaN</td>\n",
              "    </tr>\n",
              "    <tr>\n",
              "      <th>32</th>\n",
              "      <td>AMP</td>\n",
              "      <td>Ameriprise Financial Inc</td>\n",
              "      <td>1099 Ameriprise Financial Center\\nMinneapolis,...</td>\n",
              "      <td>Financial Services</td>\n",
              "      <td>Asset Management</td>\n",
              "      <td>13,500</td>\n",
              "      <td>Ameriprise Financial, Inc., through its subsid...</td>\n",
              "      <td>23.0</td>\n",
              "      <td>2.6</td>\n",
              "      <td>12.8</td>\n",
              "      <td>7.2</td>\n",
              "      <td>Moderate</td>\n",
              "      <td>2.0</td>\n",
              "      <td>35th percentile</td>\n",
              "      <td>Medium</td>\n",
              "    </tr>\n",
              "    <tr>\n",
              "      <th>54</th>\n",
              "      <td>BAC</td>\n",
              "      <td>Bank of America Corp</td>\n",
              "      <td>Bank of America Corporate Center\\n100 North Tr...</td>\n",
              "      <td>Financial Services</td>\n",
              "      <td>Banks—Diversified</td>\n",
              "      <td>216,000</td>\n",
              "      <td>Bank of America Corporation, through its subsi...</td>\n",
              "      <td>27.0</td>\n",
              "      <td>1.6</td>\n",
              "      <td>11.2</td>\n",
              "      <td>14.4</td>\n",
              "      <td>Significant</td>\n",
              "      <td>3.0</td>\n",
              "      <td>52nd percentile</td>\n",
              "      <td>Medium</td>\n",
              "    </tr>\n",
              "    <tr>\n",
              "      <th>65</th>\n",
              "      <td>BK</td>\n",
              "      <td>Bank of New York Mellon Corp</td>\n",
              "      <td>240 Greenwich Street\\nNew York, NY 10286\\nUnit...</td>\n",
              "      <td>Financial Services</td>\n",
              "      <td>Asset Management</td>\n",
              "      <td>53,200</td>\n",
              "      <td>The Bank of New York Mellon Corporation provid...</td>\n",
              "      <td>21.0</td>\n",
              "      <td>1.1</td>\n",
              "      <td>11.2</td>\n",
              "      <td>9.2</td>\n",
              "      <td>Significant</td>\n",
              "      <td>3.0</td>\n",
              "      <td>30th percentile</td>\n",
              "      <td>Medium</td>\n",
              "    </tr>\n",
              "  </tbody>\n",
              "</table>\n",
              "</div>\n",
              "    <div class=\"colab-df-buttons\">\n",
              "\n",
              "  <div class=\"colab-df-container\">\n",
              "    <button class=\"colab-df-convert\" onclick=\"convertToInteractive('df-d11b4bf3-a8e0-43b7-8da4-184195935a41')\"\n",
              "            title=\"Convert this dataframe to an interactive table.\"\n",
              "            style=\"display:none;\">\n",
              "\n",
              "  <svg xmlns=\"http://www.w3.org/2000/svg\" height=\"24px\" viewBox=\"0 -960 960 960\">\n",
              "    <path d=\"M120-120v-720h720v720H120Zm60-500h600v-160H180v160Zm220 220h160v-160H400v160Zm0 220h160v-160H400v160ZM180-400h160v-160H180v160Zm440 0h160v-160H620v160ZM180-180h160v-160H180v160Zm440 0h160v-160H620v160Z\"/>\n",
              "  </svg>\n",
              "    </button>\n",
              "\n",
              "  <style>\n",
              "    .colab-df-container {\n",
              "      display:flex;\n",
              "      gap: 12px;\n",
              "    }\n",
              "\n",
              "    .colab-df-convert {\n",
              "      background-color: #E8F0FE;\n",
              "      border: none;\n",
              "      border-radius: 50%;\n",
              "      cursor: pointer;\n",
              "      display: none;\n",
              "      fill: #1967D2;\n",
              "      height: 32px;\n",
              "      padding: 0 0 0 0;\n",
              "      width: 32px;\n",
              "    }\n",
              "\n",
              "    .colab-df-convert:hover {\n",
              "      background-color: #E2EBFA;\n",
              "      box-shadow: 0px 1px 2px rgba(60, 64, 67, 0.3), 0px 1px 3px 1px rgba(60, 64, 67, 0.15);\n",
              "      fill: #174EA6;\n",
              "    }\n",
              "\n",
              "    .colab-df-buttons div {\n",
              "      margin-bottom: 4px;\n",
              "    }\n",
              "\n",
              "    [theme=dark] .colab-df-convert {\n",
              "      background-color: #3B4455;\n",
              "      fill: #D2E3FC;\n",
              "    }\n",
              "\n",
              "    [theme=dark] .colab-df-convert:hover {\n",
              "      background-color: #434B5C;\n",
              "      box-shadow: 0px 1px 3px 1px rgba(0, 0, 0, 0.15);\n",
              "      filter: drop-shadow(0px 1px 2px rgba(0, 0, 0, 0.3));\n",
              "      fill: #FFFFFF;\n",
              "    }\n",
              "  </style>\n",
              "\n",
              "    <script>\n",
              "      const buttonEl =\n",
              "        document.querySelector('#df-d11b4bf3-a8e0-43b7-8da4-184195935a41 button.colab-df-convert');\n",
              "      buttonEl.style.display =\n",
              "        google.colab.kernel.accessAllowed ? 'block' : 'none';\n",
              "\n",
              "      async function convertToInteractive(key) {\n",
              "        const element = document.querySelector('#df-d11b4bf3-a8e0-43b7-8da4-184195935a41');\n",
              "        const dataTable =\n",
              "          await google.colab.kernel.invokeFunction('convertToInteractive',\n",
              "                                                    [key], {});\n",
              "        if (!dataTable) return;\n",
              "\n",
              "        const docLinkHtml = 'Like what you see? Visit the ' +\n",
              "          '<a target=\"_blank\" href=https://colab.research.google.com/notebooks/data_table.ipynb>data table notebook</a>'\n",
              "          + ' to learn more about interactive tables.';\n",
              "        element.innerHTML = '';\n",
              "        dataTable['output_type'] = 'display_data';\n",
              "        await google.colab.output.renderOutput(dataTable, element);\n",
              "        const docLink = document.createElement('div');\n",
              "        docLink.innerHTML = docLinkHtml;\n",
              "        element.appendChild(docLink);\n",
              "      }\n",
              "    </script>\n",
              "  </div>\n",
              "\n",
              "\n",
              "<div id=\"df-2a44459d-aa69-49cc-b875-78f22a3bac4a\">\n",
              "  <button class=\"colab-df-quickchart\" onclick=\"quickchart('df-2a44459d-aa69-49cc-b875-78f22a3bac4a')\"\n",
              "            title=\"Suggest charts.\"\n",
              "            style=\"display:none;\">\n",
              "\n",
              "<svg xmlns=\"http://www.w3.org/2000/svg\" height=\"24px\"viewBox=\"0 0 24 24\"\n",
              "     width=\"24px\">\n",
              "    <g>\n",
              "        <path d=\"M19 3H5c-1.1 0-2 .9-2 2v14c0 1.1.9 2 2 2h14c1.1 0 2-.9 2-2V5c0-1.1-.9-2-2-2zM9 17H7v-7h2v7zm4 0h-2V7h2v10zm4 0h-2v-4h2v4z\"/>\n",
              "    </g>\n",
              "</svg>\n",
              "  </button>\n",
              "\n",
              "<style>\n",
              "  .colab-df-quickchart {\n",
              "      --bg-color: #E8F0FE;\n",
              "      --fill-color: #1967D2;\n",
              "      --hover-bg-color: #E2EBFA;\n",
              "      --hover-fill-color: #174EA6;\n",
              "      --disabled-fill-color: #AAA;\n",
              "      --disabled-bg-color: #DDD;\n",
              "  }\n",
              "\n",
              "  [theme=dark] .colab-df-quickchart {\n",
              "      --bg-color: #3B4455;\n",
              "      --fill-color: #D2E3FC;\n",
              "      --hover-bg-color: #434B5C;\n",
              "      --hover-fill-color: #FFFFFF;\n",
              "      --disabled-bg-color: #3B4455;\n",
              "      --disabled-fill-color: #666;\n",
              "  }\n",
              "\n",
              "  .colab-df-quickchart {\n",
              "    background-color: var(--bg-color);\n",
              "    border: none;\n",
              "    border-radius: 50%;\n",
              "    cursor: pointer;\n",
              "    display: none;\n",
              "    fill: var(--fill-color);\n",
              "    height: 32px;\n",
              "    padding: 0;\n",
              "    width: 32px;\n",
              "  }\n",
              "\n",
              "  .colab-df-quickchart:hover {\n",
              "    background-color: var(--hover-bg-color);\n",
              "    box-shadow: 0 1px 2px rgba(60, 64, 67, 0.3), 0 1px 3px 1px rgba(60, 64, 67, 0.15);\n",
              "    fill: var(--button-hover-fill-color);\n",
              "  }\n",
              "\n",
              "  .colab-df-quickchart-complete:disabled,\n",
              "  .colab-df-quickchart-complete:disabled:hover {\n",
              "    background-color: var(--disabled-bg-color);\n",
              "    fill: var(--disabled-fill-color);\n",
              "    box-shadow: none;\n",
              "  }\n",
              "\n",
              "  .colab-df-spinner {\n",
              "    border: 2px solid var(--fill-color);\n",
              "    border-color: transparent;\n",
              "    border-bottom-color: var(--fill-color);\n",
              "    animation:\n",
              "      spin 1s steps(1) infinite;\n",
              "  }\n",
              "\n",
              "  @keyframes spin {\n",
              "    0% {\n",
              "      border-color: transparent;\n",
              "      border-bottom-color: var(--fill-color);\n",
              "      border-left-color: var(--fill-color);\n",
              "    }\n",
              "    20% {\n",
              "      border-color: transparent;\n",
              "      border-left-color: var(--fill-color);\n",
              "      border-top-color: var(--fill-color);\n",
              "    }\n",
              "    30% {\n",
              "      border-color: transparent;\n",
              "      border-left-color: var(--fill-color);\n",
              "      border-top-color: var(--fill-color);\n",
              "      border-right-color: var(--fill-color);\n",
              "    }\n",
              "    40% {\n",
              "      border-color: transparent;\n",
              "      border-right-color: var(--fill-color);\n",
              "      border-top-color: var(--fill-color);\n",
              "    }\n",
              "    60% {\n",
              "      border-color: transparent;\n",
              "      border-right-color: var(--fill-color);\n",
              "    }\n",
              "    80% {\n",
              "      border-color: transparent;\n",
              "      border-right-color: var(--fill-color);\n",
              "      border-bottom-color: var(--fill-color);\n",
              "    }\n",
              "    90% {\n",
              "      border-color: transparent;\n",
              "      border-bottom-color: var(--fill-color);\n",
              "    }\n",
              "  }\n",
              "</style>\n",
              "\n",
              "  <script>\n",
              "    async function quickchart(key) {\n",
              "      const quickchartButtonEl =\n",
              "        document.querySelector('#' + key + ' button');\n",
              "      quickchartButtonEl.disabled = true;  // To prevent multiple clicks.\n",
              "      quickchartButtonEl.classList.add('colab-df-spinner');\n",
              "      try {\n",
              "        const charts = await google.colab.kernel.invokeFunction(\n",
              "            'suggestCharts', [key], {});\n",
              "      } catch (error) {\n",
              "        console.error('Error during call to suggestCharts:', error);\n",
              "      }\n",
              "      quickchartButtonEl.classList.remove('colab-df-spinner');\n",
              "      quickchartButtonEl.classList.add('colab-df-quickchart-complete');\n",
              "    }\n",
              "    (() => {\n",
              "      let quickchartButtonEl =\n",
              "        document.querySelector('#df-2a44459d-aa69-49cc-b875-78f22a3bac4a button');\n",
              "      quickchartButtonEl.style.display =\n",
              "        google.colab.kernel.accessAllowed ? 'block' : 'none';\n",
              "    })();\n",
              "  </script>\n",
              "</div>\n",
              "    </div>\n",
              "  </div>\n"
            ]
          },
          "metadata": {},
          "execution_count": 28
        }
      ]
    },
    {
      "cell_type": "markdown",
      "source": [
        "### Social Risk Score"
      ],
      "metadata": {
        "id": "lgXapcPp_9Ux"
      }
    },
    {
      "cell_type": "code",
      "source": [
        "sns.boxplot(data=risk, x='Social Risk Score')"
      ],
      "metadata": {
        "colab": {
          "base_uri": "https://localhost:8080/",
          "height": 466
        },
        "id": "HfeCQ1Jp_mKz",
        "outputId": "40a2aac5-8d75-44b6-ff37-67783ffe3ba5"
      },
      "execution_count": 29,
      "outputs": [
        {
          "output_type": "execute_result",
          "data": {
            "text/plain": [
              "<Axes: xlabel='Social Risk Score'>"
            ]
          },
          "metadata": {},
          "execution_count": 29
        },
        {
          "output_type": "display_data",
          "data": {
            "text/plain": [
              "<Figure size 640x480 with 1 Axes>"
            ],
            "image/png": "[encoded data removed]"
          },
          "metadata": {}
        }
      ]
    },
    {
      "cell_type": "code",
      "source": [
        "risk.loc[risk['Social Risk Score']>19.0]"
      ],
      "metadata": {
        "colab": {
          "base_uri": "https://localhost:8080/",
          "height": 590
        },
        "id": "M61Qf0TNADyX",
        "outputId": "0694b84f-ef9a-4c3c-e256-336d70d71ac7"
      },
      "execution_count": 30,
      "outputs": [
        {
          "output_type": "execute_result",
          "data": {
            "text/plain": [
              "    Symbol                         Name  \\\n",
              "53      BA                    Boeing Co   \n",
              "199     GD        General Dynamics Corp   \n",
              "302   META   Meta Platforms Inc Class A   \n",
              "363    PCG                 P G & E Corp   \n",
              "459    UHS  Universal Health Services B   \n",
              "\n",
              "                                               Address  \\\n",
              "53   929 Long Bridge Drive\\nArlington, VA 22202\\nUn...   \n",
              "199  11011 Sunset Hills Road\\nReston, VA 20190\\nUni...   \n",
              "302  1601 Willow Road\\nMenlo Park, CA 94025\\nUnited...   \n",
              "363  300 Lakeside Drive\\nOakland, CA 94612\\nUnited ...   \n",
              "459  Universal Corporate Center\\n367 South Gulph Ro...   \n",
              "\n",
              "                     Sector                        Industry  \\\n",
              "53              Industrials             Aerospace & Defense   \n",
              "199             Industrials             Aerospace & Defense   \n",
              "302  Communication Services  Internet Content & Information   \n",
              "363               Utilities    Utilities—Regulated Electric   \n",
              "459              Healthcare         Medical Care Facilities   \n",
              "\n",
              "    Full Time Employees                                        Description  \\\n",
              "53              156,000  The Boeing Company, together with its subsidia...   \n",
              "199             106,500  General Dynamics Corporation operates as an ae...   \n",
              "302              71,469  Meta Platforms, Inc. engages in the developmen...   \n",
              "363              26,010  PG&E Corporation, through its subsidiary, Paci...   \n",
              "459              93,800  Universal Health Services, Inc., through its s...   \n",
              "\n",
              "     Total ESG Risk score  Environment Risk Score  Governance Risk Score  \\\n",
              "53                   35.0                     7.1                    7.9   \n",
              "199                  35.0                     8.5                    6.9   \n",
              "302                  33.0                     1.0                   10.5   \n",
              "363                  35.0                     8.0                    6.0   \n",
              "459                  33.0                     4.0                    9.0   \n",
              "\n",
              "     Social Risk Score Controversy Level  Controversy Score  \\\n",
              "53                19.7              High                4.0   \n",
              "199               19.5       Significant                3.0   \n",
              "302               21.0              High                4.0   \n",
              "363               21.0            Severe                5.0   \n",
              "459               21.0       Significant                3.0   \n",
              "\n",
              "    ESG Risk Percentile ESG Risk Level  \n",
              "53      78th percentile           High  \n",
              "199     78th percentile           High  \n",
              "302     72nd percentile           High  \n",
              "363     79th percentile         Severe  \n",
              "459     75th percentile         Severe  "
            ],
            "text/html": [
              "\n",
              "  <div id=\"df-7ee0f7fe-10b5-449c-9ff2-ce16fe2ac84a\" class=\"colab-df-container\">\n",
              "    <div>\n",
              "<style scoped>\n",
              "    .dataframe tbody tr th:only-of-type {\n",
              "        vertical-align: middle;\n",
              "    }\n",
              "\n",
              "    .dataframe tbody tr th {\n",
              "        vertical-align: top;\n",
              "    }\n",
              "\n",
              "    .dataframe thead th {\n",
              "        text-align: right;\n",
              "    }\n",
              "</style>\n",
              "<table border=\"1\" class=\"dataframe\">\n",
              "  <thead>\n",
              "    <tr style=\"text-align: right;\">\n",
              "      <th></th>\n",
              "      <th>Symbol</th>\n",
              "      <th>Name</th>\n",
              "      <th>Address</th>\n",
              "      <th>Sector</th>\n",
              "      <th>Industry</th>\n",
              "      <th>Full Time Employees</th>\n",
              "      <th>Description</th>\n",
              "      <th>Total ESG Risk score</th>\n",
              "      <th>Environment Risk Score</th>\n",
              "      <th>Governance Risk Score</th>\n",
              "      <th>Social Risk Score</th>\n",
              "      <th>Controversy Level</th>\n",
              "      <th>Controversy Score</th>\n",
              "      <th>ESG Risk Percentile</th>\n",
              "      <th>ESG Risk Level</th>\n",
              "    </tr>\n",
              "  </thead>\n",
              "  <tbody>\n",
              "    <tr>\n",
              "      <th>53</th>\n",
              "      <td>BA</td>\n",
              "      <td>Boeing Co</td>\n",
              "      <td>929 Long Bridge Drive\\nArlington, VA 22202\\nUn...</td>\n",
              "      <td>Industrials</td>\n",
              "      <td>Aerospace &amp; Defense</td>\n",
              "      <td>156,000</td>\n",
              "      <td>The Boeing Company, together with its subsidia...</td>\n",
              "      <td>35.0</td>\n",
              "      <td>7.1</td>\n",
              "      <td>7.9</td>\n",
              "      <td>19.7</td>\n",
              "      <td>High</td>\n",
              "      <td>4.0</td>\n",
              "      <td>78th percentile</td>\n",
              "      <td>High</td>\n",
              "    </tr>\n",
              "    <tr>\n",
              "      <th>199</th>\n",
              "      <td>GD</td>\n",
              "      <td>General Dynamics Corp</td>\n",
              "      <td>11011 Sunset Hills Road\\nReston, VA 20190\\nUni...</td>\n",
              "      <td>Industrials</td>\n",
              "      <td>Aerospace &amp; Defense</td>\n",
              "      <td>106,500</td>\n",
              "      <td>General Dynamics Corporation operates as an ae...</td>\n",
              "      <td>35.0</td>\n",
              "      <td>8.5</td>\n",
              "      <td>6.9</td>\n",
              "      <td>19.5</td>\n",
              "      <td>Significant</td>\n",
              "      <td>3.0</td>\n",
              "      <td>78th percentile</td>\n",
              "      <td>High</td>\n",
              "    </tr>\n",
              "    <tr>\n",
              "      <th>302</th>\n",
              "      <td>META</td>\n",
              "      <td>Meta Platforms Inc Class A</td>\n",
              "      <td>1601 Willow Road\\nMenlo Park, CA 94025\\nUnited...</td>\n",
              "      <td>Communication Services</td>\n",
              "      <td>Internet Content &amp; Information</td>\n",
              "      <td>71,469</td>\n",
              "      <td>Meta Platforms, Inc. engages in the developmen...</td>\n",
              "      <td>33.0</td>\n",
              "      <td>1.0</td>\n",
              "      <td>10.5</td>\n",
              "      <td>21.0</td>\n",
              "      <td>High</td>\n",
              "      <td>4.0</td>\n",
              "      <td>72nd percentile</td>\n",
              "      <td>High</td>\n",
              "    </tr>\n",
              "    <tr>\n",
              "      <th>363</th>\n",
              "      <td>PCG</td>\n",
              "      <td>P G &amp; E Corp</td>\n",
              "      <td>300 Lakeside Drive\\nOakland, CA 94612\\nUnited ...</td>\n",
              "      <td>Utilities</td>\n",
              "      <td>Utilities—Regulated Electric</td>\n",
              "      <td>26,010</td>\n",
              "      <td>PG&amp;E Corporation, through its subsidiary, Paci...</td>\n",
              "      <td>35.0</td>\n",
              "      <td>8.0</td>\n",
              "      <td>6.0</td>\n",
              "      <td>21.0</td>\n",
              "      <td>Severe</td>\n",
              "      <td>5.0</td>\n",
              "      <td>79th percentile</td>\n",
              "      <td>Severe</td>\n",
              "    </tr>\n",
              "    <tr>\n",
              "      <th>459</th>\n",
              "      <td>UHS</td>\n",
              "      <td>Universal Health Services B</td>\n",
              "      <td>Universal Corporate Center\\n367 South Gulph Ro...</td>\n",
              "      <td>Healthcare</td>\n",
              "      <td>Medical Care Facilities</td>\n",
              "      <td>93,800</td>\n",
              "      <td>Universal Health Services, Inc., through its s...</td>\n",
              "      <td>33.0</td>\n",
              "      <td>4.0</td>\n",
              "      <td>9.0</td>\n",
              "      <td>21.0</td>\n",
              "      <td>Significant</td>\n",
              "      <td>3.0</td>\n",
              "      <td>75th percentile</td>\n",
              "      <td>Severe</td>\n",
              "    </tr>\n",
              "  </tbody>\n",
              "</table>\n",
              "</div>\n",
              "    <div class=\"colab-df-buttons\">\n",
              "\n",
              "  <div class=\"colab-df-container\">\n",
              "    <button class=\"colab-df-convert\" onclick=\"convertToInteractive('df-7ee0f7fe-10b5-449c-9ff2-ce16fe2ac84a')\"\n",
              "            title=\"Convert this dataframe to an interactive table.\"\n",
              "            style=\"display:none;\">\n",
              "\n",
              "  <svg xmlns=\"http://www.w3.org/2000/svg\" height=\"24px\" viewBox=\"0 -960 960 960\">\n",
              "    <path d=\"M120-120v-720h720v720H120Zm60-500h600v-160H180v160Zm220 220h160v-160H400v160Zm0 220h160v-160H400v160ZM180-400h160v-160H180v160Zm440 0h160v-160H620v160ZM180-180h160v-160H180v160Zm440 0h160v-160H620v160Z\"/>\n",
              "  </svg>\n",
              "    </button>\n",
              "\n",
              "  <style>\n",
              "    .colab-df-container {\n",
              "      display:flex;\n",
              "      gap: 12px;\n",
              "    }\n",
              "\n",
              "    .colab-df-convert {\n",
              "      background-color: #E8F0FE;\n",
              "      border: none;\n",
              "      border-radius: 50%;\n",
              "      cursor: pointer;\n",
              "      display: none;\n",
              "      fill: #1967D2;\n",
              "      height: 32px;\n",
              "      padding: 0 0 0 0;\n",
              "      width: 32px;\n",
              "    }\n",
              "\n",
              "    .colab-df-convert:hover {\n",
              "      background-color: #E2EBFA;\n",
              "      box-shadow: 0px 1px 2px rgba(60, 64, 67, 0.3), 0px 1px 3px 1px rgba(60, 64, 67, 0.15);\n",
              "      fill: #174EA6;\n",
              "    }\n",
              "\n",
              "    .colab-df-buttons div {\n",
              "      margin-bottom: 4px;\n",
              "    }\n",
              "\n",
              "    [theme=dark] .colab-df-convert {\n",
              "      background-color: #3B4455;\n",
              "      fill: #D2E3FC;\n",
              "    }\n",
              "\n",
              "    [theme=dark] .colab-df-convert:hover {\n",
              "      background-color: #434B5C;\n",
              "      box-shadow: 0px 1px 3px 1px rgba(0, 0, 0, 0.15);\n",
              "      filter: drop-shadow(0px 1px 2px rgba(0, 0, 0, 0.3));\n",
              "      fill: #FFFFFF;\n",
              "    }\n",
              "  </style>\n",
              "\n",
              "    <script>\n",
              "      const buttonEl =\n",
              "        document.querySelector('#df-7ee0f7fe-10b5-449c-9ff2-ce16fe2ac84a button.colab-df-convert');\n",
              "      buttonEl.style.display =\n",
              "        google.colab.kernel.accessAllowed ? 'block' : 'none';\n",
              "\n",
              "      async function convertToInteractive(key) {\n",
              "        const element = document.querySelector('#df-7ee0f7fe-10b5-449c-9ff2-ce16fe2ac84a');\n",
              "        const dataTable =\n",
              "          await google.colab.kernel.invokeFunction('convertToInteractive',\n",
              "                                                    [key], {});\n",
              "        if (!dataTable) return;\n",
              "\n",
              "        const docLinkHtml = 'Like what you see? Visit the ' +\n",
              "          '<a target=\"_blank\" href=https://colab.research.google.com/notebooks/data_table.ipynb>data table notebook</a>'\n",
              "          + ' to learn more about interactive tables.';\n",
              "        element.innerHTML = '';\n",
              "        dataTable['output_type'] = 'display_data';\n",
              "        await google.colab.output.renderOutput(dataTable, element);\n",
              "        const docLink = document.createElement('div');\n",
              "        docLink.innerHTML = docLinkHtml;\n",
              "        element.appendChild(docLink);\n",
              "      }\n",
              "    </script>\n",
              "  </div>\n",
              "\n",
              "\n",
              "<div id=\"df-28070e67-e6ed-49c6-9b4d-00fec49793dd\">\n",
              "  <button class=\"colab-df-quickchart\" onclick=\"quickchart('df-28070e67-e6ed-49c6-9b4d-00fec49793dd')\"\n",
              "            title=\"Suggest charts.\"\n",
              "            style=\"display:none;\">\n",
              "\n",
              "<svg xmlns=\"http://www.w3.org/2000/svg\" height=\"24px\"viewBox=\"0 0 24 24\"\n",
              "     width=\"24px\">\n",
              "    <g>\n",
              "        <path d=\"M19 3H5c-1.1 0-2 .9-2 2v14c0 1.1.9 2 2 2h14c1.1 0 2-.9 2-2V5c0-1.1-.9-2-2-2zM9 17H7v-7h2v7zm4 0h-2V7h2v10zm4 0h-2v-4h2v4z\"/>\n",
              "    </g>\n",
              "</svg>\n",
              "  </button>\n",
              "\n",
              "<style>\n",
              "  .colab-df-quickchart {\n",
              "      --bg-color: #E8F0FE;\n",
              "      --fill-color: #1967D2;\n",
              "      --hover-bg-color: #E2EBFA;\n",
              "      --hover-fill-color: #174EA6;\n",
              "      --disabled-fill-color: #AAA;\n",
              "      --disabled-bg-color: #DDD;\n",
              "  }\n",
              "\n",
              "  [theme=dark] .colab-df-quickchart {\n",
              "      --bg-color: #3B4455;\n",
              "      --fill-color: #D2E3FC;\n",
              "      --hover-bg-color: #434B5C;\n",
              "      --hover-fill-color: #FFFFFF;\n",
              "      --disabled-bg-color: #3B4455;\n",
              "      --disabled-fill-color: #666;\n",
              "  }\n",
              "\n",
              "  .colab-df-quickchart {\n",
              "    background-color: var(--bg-color);\n",
              "    border: none;\n",
              "    border-radius: 50%;\n",
              "    cursor: pointer;\n",
              "    display: none;\n",
              "    fill: var(--fill-color);\n",
              "    height: 32px;\n",
              "    padding: 0;\n",
              "    width: 32px;\n",
              "  }\n",
              "\n",
              "  .colab-df-quickchart:hover {\n",
              "    background-color: var(--hover-bg-color);\n",
              "    box-shadow: 0 1px 2px rgba(60, 64, 67, 0.3), 0 1px 3px 1px rgba(60, 64, 67, 0.15);\n",
              "    fill: var(--button-hover-fill-color);\n",
              "  }\n",
              "\n",
              "  .colab-df-quickchart-complete:disabled,\n",
              "  .colab-df-quickchart-complete:disabled:hover {\n",
              "    background-color: var(--disabled-bg-color);\n",
              "    fill: var(--disabled-fill-color);\n",
              "    box-shadow: none;\n",
              "  }\n",
              "\n",
              "  .colab-df-spinner {\n",
              "    border: 2px solid var(--fill-color);\n",
              "    border-color: transparent;\n",
              "    border-bottom-color: var(--fill-color);\n",
              "    animation:\n",
              "      spin 1s steps(1) infinite;\n",
              "  }\n",
              "\n",
              "  @keyframes spin {\n",
              "    0% {\n",
              "      border-color: transparent;\n",
              "      border-bottom-color: var(--fill-color);\n",
              "      border-left-color: var(--fill-color);\n",
              "    }\n",
              "    20% {\n",
              "      border-color: transparent;\n",
              "      border-left-color: var(--fill-color);\n",
              "      border-top-color: var(--fill-color);\n",
              "    }\n",
              "    30% {\n",
              "      border-color: transparent;\n",
              "      border-left-color: var(--fill-color);\n",
              "      border-top-color: var(--fill-color);\n",
              "      border-right-color: var(--fill-color);\n",
              "    }\n",
              "    40% {\n",
              "      border-color: transparent;\n",
              "      border-right-color: var(--fill-color);\n",
              "      border-top-color: var(--fill-color);\n",
              "    }\n",
              "    60% {\n",
              "      border-color: transparent;\n",
              "      border-right-color: var(--fill-color);\n",
              "    }\n",
              "    80% {\n",
              "      border-color: transparent;\n",
              "      border-right-color: var(--fill-color);\n",
              "      border-bottom-color: var(--fill-color);\n",
              "    }\n",
              "    90% {\n",
              "      border-color: transparent;\n",
              "      border-bottom-color: var(--fill-color);\n",
              "    }\n",
              "  }\n",
              "</style>\n",
              "\n",
              "  <script>\n",
              "    async function quickchart(key) {\n",
              "      const quickchartButtonEl =\n",
              "        document.querySelector('#' + key + ' button');\n",
              "      quickchartButtonEl.disabled = true;  // To prevent multiple clicks.\n",
              "      quickchartButtonEl.classList.add('colab-df-spinner');\n",
              "      try {\n",
              "        const charts = await google.colab.kernel.invokeFunction(\n",
              "            'suggestCharts', [key], {});\n",
              "      } catch (error) {\n",
              "        console.error('Error during call to suggestCharts:', error);\n",
              "      }\n",
              "      quickchartButtonEl.classList.remove('colab-df-spinner');\n",
              "      quickchartButtonEl.classList.add('colab-df-quickchart-complete');\n",
              "    }\n",
              "    (() => {\n",
              "      let quickchartButtonEl =\n",
              "        document.querySelector('#df-28070e67-e6ed-49c6-9b4d-00fec49793dd button');\n",
              "      quickchartButtonEl.style.display =\n",
              "        google.colab.kernel.accessAllowed ? 'block' : 'none';\n",
              "    })();\n",
              "  </script>\n",
              "</div>\n",
              "    </div>\n",
              "  </div>\n"
            ]
          },
          "metadata": {},
          "execution_count": 30
        }
      ]
    },
    {
      "cell_type": "markdown",
      "source": [
        "### ESG Risk Level"
      ],
      "metadata": {
        "id": "i61ENsZN_Bvu"
      }
    },
    {
      "cell_type": "code",
      "source": [
        "sns.countplot(data=risk, x='ESG Risk Level', order=['Medium', 'Low', 'Negligible', 'High', 'Severe'])"
      ],
      "metadata": {
        "colab": {
          "base_uri": "https://localhost:8080/",
          "height": 470
        },
        "id": "Rqn4cLJb2e5J",
        "outputId": "2ff39b26-91de-43dd-d01b-f85212cda648"
      },
      "execution_count": 31,
      "outputs": [
        {
          "output_type": "execute_result",
          "data": {
            "text/plain": [
              "<Axes: xlabel='ESG Risk Level', ylabel='count'>"
            ]
          },
          "metadata": {},
          "execution_count": 31
        },
        {
          "output_type": "display_data",
          "data": {
            "text/plain": [
              "<Figure size 640x480 with 1 Axes>"
            ],
            "image/png": "[encoded data removed]"
          },
          "metadata": {}
        }
      ]
    },
    {
      "cell_type": "markdown",
      "source": [
        "### Controversy Level"
      ],
      "metadata": {
        "id": "dyf9YJ2L-_S2"
      }
    },
    {
      "cell_type": "code",
      "source": [
        "sns.countplot(data=risk, x='Controversy Level', order=['Moderate', 'Low','Significant','High','Severe','None' ])"
      ],
      "metadata": {
        "colab": {
          "base_uri": "https://localhost:8080/",
          "height": 466
        },
        "id": "DOyAxfvy5LFH",
        "outputId": "2f11a3e9-68ee-40a1-9a5c-185f716739b4"
      },
      "execution_count": 32,
      "outputs": [
        {
          "output_type": "execute_result",
          "data": {
            "text/plain": [
              "<Axes: xlabel='Controversy Level', ylabel='count'>"
            ]
          },
          "metadata": {},
          "execution_count": 32
        },
        {
          "output_type": "display_data",
          "data": {
            "text/plain": [
              "<Figure size 640x480 with 1 Axes>"
            ],
            "image/png": "[encoded data removed]"
          },
          "metadata": {}
        }
      ]
    },
    {
      "cell_type": "markdown",
      "source": [
        "### ESG Risk Percentile"
      ],
      "metadata": {
        "id": "sQAbDfQRC5Dz"
      }
    },
    {
      "cell_type": "code",
      "source": [
        "sns.countplot(data=risk, x='ESG Risk Percentile')\n",
        "plt.xticks(rotation=90, ha='right', fontsize=6)\n",
        "plt.show()"
      ],
      "metadata": {
        "colab": {
          "base_uri": "https://localhost:8080/",
          "height": 502
        },
        "id": "d28RR252DA5u",
        "outputId": "80c55a07-1807-471d-9024-c061d37fb48c"
      },
      "execution_count": 33,
      "outputs": [
        {
          "output_type": "display_data",
          "data": {
            "text/plain": [
              "<Figure size 640x480 with 1 Axes>"
            ],
            "image/png": "[encoded data removed]"
          },
          "metadata": {}
        }
      ]
    },
    {
      "cell_type": "code",
      "source": [
        "risk['ESG Risk Percentile'].unique()"
      ],
      "metadata": {
        "colab": {
          "base_uri": "https://localhost:8080/"
        },
        "id": "na8YN1hP4z9u",
        "outputId": "8e0de56d-cb8b-4513-caa7-56a9ce1736b5"
      },
      "execution_count": 34,
      "outputs": [
        {
          "output_type": "execute_result",
          "data": {
            "text/plain": [
              "array(['11th percentile', '62nd percentile', '4th percentile',\n",
              "       '15th percentile', '55th percentile', '5th percentile',\n",
              "       '44th percentile', '28th percentile', '2nd percentile',\n",
              "       '39th percentile', '83rd percentile', '8th percentile',\n",
              "       '13th percentile', '63rd percentile', '47th percentile',\n",
              "       '78th percentile', '17th percentile', '45th percentile',\n",
              "       '43rd percentile', '30th percentile', '14th percentile',\n",
              "       '60th percentile', nan, '23rd percentile', '40th percentile',\n",
              "       '41st percentile', '32nd percentile', '35th percentile',\n",
              "       '3rd percentile', '64th percentile', '6th percentile',\n",
              "       '31st percentile', '80th percentile', '22nd percentile',\n",
              "       '34th percentile', '20th percentile', '52nd percentile',\n",
              "       '12th percentile', '9th percentile', '51st percentile',\n",
              "       '29th percentile', '33rd percentile', '27th percentile',\n",
              "       '49th percentile', '71st percentile', '76th percentile',\n",
              "       '1st percentile', '7th percentile', '65th percentile',\n",
              "       '25th percentile', '26th percentile', '50th percentile',\n",
              "       '24th percentile', '19th percentile', '53rd percentile',\n",
              "       '96th percentile', '36th percentile', '85th percentile',\n",
              "       '59th percentile', '10th percentile', '46th percentile',\n",
              "       '69th percentile', '57th percentile', '66th percentile',\n",
              "       '54th percentile', '16th percentile', '37th percentile',\n",
              "       '48th percentile', '61st percentile', '82nd percentile',\n",
              "       '21st percentile', '18th percentile', '42nd percentile',\n",
              "       '72nd percentile', '74th percentile', '90th percentile',\n",
              "       '58th percentile', '75th percentile', '56th percentile',\n",
              "       '92nd percentile', '93rd percentile', '79th percentile',\n",
              "       '86th percentile', '68th percentile', '73rd percentile',\n",
              "       '89th percentile', '77th percentile', '38th percentile'],\n",
              "      dtype=object)"
            ]
          },
          "metadata": {},
          "execution_count": 34
        }
      ]
    },
    {
      "cell_type": "code",
      "source": [
        "risk['Environment Risk Score'].value_counts()"
      ],
      "metadata": {
        "colab": {
          "base_uri": "https://localhost:8080/"
        },
        "id": "dxOaJSajBZUN",
        "outputId": "34fd5cd0-bfe1-4467-8373-a69e3bd383ba"
      },
      "execution_count": 35,
      "outputs": [
        {
          "output_type": "execute_result",
          "data": {
            "text/plain": [
              "2.0     27\n",
              "0.0     23\n",
              "1.0     20\n",
              "3.0     17\n",
              "0.1     15\n",
              "        ..\n",
              "8.5      1\n",
              "10.3     1\n",
              "13.2     1\n",
              "10.4     1\n",
              "8.2      1\n",
              "Name: Environment Risk Score, Length: 134, dtype: int64"
            ]
          },
          "metadata": {},
          "execution_count": 35
        }
      ]
    },
    {
      "cell_type": "markdown",
      "source": [
        "## Detección y corrección de datos atípicos"
      ],
      "metadata": {
        "id": "5_NSAv0Zufty"
      }
    },
    {
      "cell_type": "code",
      "source": [
        "#En este código estoy sumando los null de cada columna y están ordenados de manera ascendente\n",
        "risk_3 = risk_2.isnull().sum().sort_values(ascending = False)"
      ],
      "metadata": {
        "id": "pLfBjFVqAqYp"
      },
      "execution_count": 36,
      "outputs": []
    },
    {
      "cell_type": "code",
      "source": [
        "risk_3"
      ],
      "metadata": {
        "id": "3Y8ip3j3vXcI",
        "outputId": "279c78be-2228-4fe3-df68-f10d8b585e12",
        "colab": {
          "base_uri": "https://localhost:8080/"
        }
      },
      "execution_count": 37,
      "outputs": [
        {
          "output_type": "execute_result",
          "data": {
            "text/plain": [
              "ESG Risk Level            127\n",
              "Controversy Level          99\n",
              "Total ESG Risk score       70\n",
              "Environment Risk Score     70\n",
              "Governance Risk Score      70\n",
              "Social Risk Score          70\n",
              "Controversy Score          70\n",
              "ESG Risk Percentile        70\n",
              "Full Time Employees         7\n",
              "Address                     2\n",
              "Sector                      2\n",
              "Industry                    2\n",
              "Description                 2\n",
              "Name                        0\n",
              "dtype: int64"
            ]
          },
          "metadata": {},
          "execution_count": 37
        }
      ]
    },
    {
      "cell_type": "code",
      "source": [
        "# Hay 77 datos con 1 solo dato faltante y hay 69 datos con 8 datos faltantes por filas\n",
        "risk_2.isnull().sum(axis = 1).value_counts()"
      ],
      "metadata": {
        "colab": {
          "base_uri": "https://localhost:8080/"
        },
        "id": "Caumj2ONByH_",
        "outputId": "f0df48a9-c3d7-4d20-f7b3-492e3b86981a"
      },
      "execution_count": 38,
      "outputs": [
        {
          "output_type": "execute_result",
          "data": {
            "text/plain": [
              "0     348\n",
              "1      77\n",
              "8      69\n",
              "2       7\n",
              "13      1\n",
              "5       1\n",
              "dtype: int64"
            ]
          },
          "metadata": {},
          "execution_count": 38
        }
      ]
    },
    {
      "cell_type": "markdown",
      "source": [
        "### Eliminación de los null en columnas"
      ],
      "metadata": {
        "id": "XTh11VpzMFaf"
      }
    },
    {
      "cell_type": "code",
      "source": [
        "#Valores null por columna y sus valores únicos resultantes de los valores nulos en cada columna\n",
        "#70 nulos en 6 columnas y así sucesivamente\n",
        "risk_2.isnull().sum(axis = 0).value_counts()"
      ],
      "metadata": {
        "colab": {
          "base_uri": "https://localhost:8080/"
        },
        "id": "9wNkJ_ODG_zE",
        "outputId": "b1a4a2b8-223d-4edd-b8ba-b88b94f2ac3e"
      },
      "execution_count": 39,
      "outputs": [
        {
          "output_type": "execute_result",
          "data": {
            "text/plain": [
              "70     6\n",
              "2      4\n",
              "0      1\n",
              "7      1\n",
              "99     1\n",
              "127    1\n",
              "dtype: int64"
            ]
          },
          "metadata": {},
          "execution_count": 39
        }
      ]
    },
    {
      "cell_type": "code",
      "source": [
        "# Probar eliminando todos los null de las columnas\n",
        "risk_4 = risk_2.dropna(axis=0)\n",
        "\n",
        "#risk_2.isnull().sum().sort_values(ascending = False)\n",
        "print(risk_4.shape)\n",
        "print(risk_2.shape)"
      ],
      "metadata": {
        "colab": {
          "base_uri": "https://localhost:8080/"
        },
        "id": "tn3brLQmJcY1",
        "outputId": "213af799-0d00-46c9-e6d0-16e7afb383cc"
      },
      "execution_count": 40,
      "outputs": [
        {
          "output_type": "stream",
          "name": "stdout",
          "text": [
            "(348, 14)\n",
            "(503, 14)\n"
          ]
        }
      ]
    },
    {
      "cell_type": "code",
      "source": [
        "#Se quiere saber cuántos datos quedaron luego de la eliminación\n",
        "risk_2.size - risk_4.size"
      ],
      "metadata": {
        "colab": {
          "base_uri": "https://localhost:8080/"
        },
        "id": "YZ1XHlriLOL5",
        "outputId": "579ae2a1-bf3b-4585-f20a-c09e5370db87"
      },
      "execution_count": 41,
      "outputs": [
        {
          "output_type": "execute_result",
          "data": {
            "text/plain": [
              "2170"
            ]
          },
          "metadata": {},
          "execution_count": 41
        }
      ]
    },
    {
      "cell_type": "code",
      "source": [
        "#Criterio para saber la perdida de data al borrar por columnas\n",
        "(risk_2.size - risk_4.size)*100/risk_2.size"
      ],
      "metadata": {
        "colab": {
          "base_uri": "https://localhost:8080/"
        },
        "id": "In3sUCWaLbaI",
        "outputId": "9f2a5d49-084e-475a-f6ab-5b640d011db1"
      },
      "execution_count": 42,
      "outputs": [
        {
          "output_type": "execute_result",
          "data": {
            "text/plain": [
              "30.81510934393638"
            ]
          },
          "metadata": {},
          "execution_count": 42
        }
      ]
    },
    {
      "cell_type": "code",
      "source": [
        "risk_4.info()"
      ],
      "metadata": {
        "colab": {
          "base_uri": "https://localhost:8080/"
        },
        "id": "BcRBJWbJGW0G",
        "outputId": "87a67687-bbe3-43aa-de34-a3b39a12f818"
      },
      "execution_count": 98,
      "outputs": [
        {
          "output_type": "stream",
          "name": "stdout",
          "text": [
            "<class 'pandas.core.frame.DataFrame'>\n",
            "Int64Index: 348 entries, 0 to 502\n",
            "Data columns (total 14 columns):\n",
            " #   Column                  Non-Null Count  Dtype  \n",
            "---  ------                  --------------  -----  \n",
            " 0   Name                    348 non-null    object \n",
            " 1   Address                 348 non-null    object \n",
            " 2   Sector                  348 non-null    object \n",
            " 3   Industry                348 non-null    object \n",
            " 4   Full Time Employees     348 non-null    object \n",
            " 5   Description             348 non-null    object \n",
            " 6   Total ESG Risk score    348 non-null    float64\n",
            " 7   Environment Risk Score  348 non-null    float64\n",
            " 8   Governance Risk Score   348 non-null    float64\n",
            " 9   Social Risk Score       348 non-null    float64\n",
            " 10  Controversy Level       348 non-null    object \n",
            " 11  Controversy Score       348 non-null    float64\n",
            " 12  ESG Risk Percentile     348 non-null    object \n",
            " 13  ESG Risk Level          348 non-null    object \n",
            "dtypes: float64(5), object(9)\n",
            "memory usage: 40.8+ KB\n"
          ]
        }
      ]
    },
    {
      "cell_type": "markdown",
      "source": [
        "Con esta eliminación de datos en columnas se eliminan el 31% de los datos"
      ],
      "metadata": {
        "id": "zN6NK0tUMArq"
      }
    },
    {
      "cell_type": "markdown",
      "source": [
        "### Eliminación de Nulos en filas\n"
      ],
      "metadata": {
        "id": "UIogfY3TIun5"
      }
    },
    {
      "cell_type": "code",
      "source": [
        "# Probar eliminando todos los null de las filas\n",
        "risk_5 = risk_2.dropna(axis=1)\n",
        "\n",
        "#risk_2.isnull().sum().sort_values(ascending = False)\n",
        "print(risk_2.shape)\n",
        "print(risk_5.shape)"
      ],
      "metadata": {
        "id": "BDcAFvUkhVQR",
        "outputId": "2cbc5922-56c3-470e-de20-1c06c95a33eb",
        "colab": {
          "base_uri": "https://localhost:8080/"
        }
      },
      "execution_count": 43,
      "outputs": [
        {
          "output_type": "stream",
          "name": "stdout",
          "text": [
            "(503, 14)\n",
            "(503, 1)\n"
          ]
        }
      ]
    },
    {
      "cell_type": "code",
      "source": [
        "#Criterio para saber la perdida de data al borrar por filas\n",
        "round((risk_2.size - risk_5.size)*100/risk_2.size, 0)"
      ],
      "metadata": {
        "colab": {
          "base_uri": "https://localhost:8080/"
        },
        "id": "0sOt4IKaO6T1",
        "outputId": "7ee14f50-f609-427a-db0a-b9661affc6d0"
      },
      "execution_count": 44,
      "outputs": [
        {
          "output_type": "execute_result",
          "data": {
            "text/plain": [
              "93.0"
            ]
          },
          "metadata": {},
          "execution_count": 44
        }
      ]
    },
    {
      "cell_type": "markdown",
      "source": [
        "Con la eliminación de al menos 1 caracter en cada fila, se ha realizado el borrado del 93% de los datos."
      ],
      "metadata": {
        "id": "VLcWKk3jPWvr"
      }
    },
    {
      "cell_type": "markdown",
      "source": [
        "### Similitud en los Null"
      ],
      "metadata": {
        "id": "Ad0zWLG9I4Oy"
      }
    },
    {
      "cell_type": "markdown",
      "source": [
        "En base a los valores vistos, se revisa si hay una similitud entre los datos que tienen el mismo de valor nulos (70) y se verifica que son las mismas columnas las que les faltan los mismo valores"
      ],
      "metadata": {
        "id": "8_egFrtYFWLO"
      }
    },
    {
      "cell_type": "code",
      "source": [
        "# Con este código se sabe cuantos null hay en cada columna\n",
        "risk_2[['Total ESG Risk score','Environment Risk Score', 'Governance Risk Score',\n",
        "      'Social Risk Score','Controversy Score','ESG Risk Percentile']].isnull().sum()"
      ],
      "metadata": {
        "colab": {
          "base_uri": "https://localhost:8080/"
        },
        "id": "KezzuD9fFhdX",
        "outputId": "131346d7-5cb4-4cff-eca5-c12cb0c817e9"
      },
      "execution_count": 67,
      "outputs": [
        {
          "output_type": "execute_result",
          "data": {
            "text/plain": [
              "Total ESG Risk score      70\n",
              "Environment Risk Score    70\n",
              "Governance Risk Score     70\n",
              "Social Risk Score         70\n",
              "Controversy Score         70\n",
              "ESG Risk Percentile       70\n",
              "dtype: int64"
            ]
          },
          "metadata": {},
          "execution_count": 67
        }
      ]
    },
    {
      "cell_type": "code",
      "source": [
        "#Con este código podemos ver los booleanos en la tabla y confirmar que los datos que faltan\n",
        "#son los mismos en todas las columnas por lo tanto se pueden eliminar\n",
        "risk_2[['Total ESG Risk score','Environment Risk Score', 'Governance Risk Score',\n",
        "      'Social Risk Score','Controversy Score','ESG Risk Percentile']].isnull().head(5)"
      ],
      "metadata": {
        "id": "Fvd61YTvIl3Y",
        "colab": {
          "base_uri": "https://localhost:8080/",
          "height": 223
        },
        "outputId": "7ee6f9c2-0ff9-4beb-d0bb-4dd9ee81665b"
      },
      "execution_count": 68,
      "outputs": [
        {
          "output_type": "execute_result",
          "data": {
            "text/plain": [
              "   Total ESG Risk score  Environment Risk Score  Governance Risk Score  \\\n",
              "0                 False                   False                  False   \n",
              "1                 False                   False                  False   \n",
              "2                 False                   False                  False   \n",
              "3                 False                   False                  False   \n",
              "4                 False                   False                  False   \n",
              "\n",
              "   Social Risk Score  Controversy Score  ESG Risk Percentile  \n",
              "0              False              False                False  \n",
              "1              False              False                False  \n",
              "2              False              False                False  \n",
              "3              False              False                False  \n",
              "4              False              False                False  "
            ],
            "text/html": [
              "\n",
              "  <div id=\"df-e8b0cff1-e464-4d59-a665-bbf686fd0476\" class=\"colab-df-container\">\n",
              "    <div>\n",
              "<style scoped>\n",
              "    .dataframe tbody tr th:only-of-type {\n",
              "        vertical-align: middle;\n",
              "    }\n",
              "\n",
              "    .dataframe tbody tr th {\n",
              "        vertical-align: top;\n",
              "    }\n",
              "\n",
              "    .dataframe thead th {\n",
              "        text-align: right;\n",
              "    }\n",
              "</style>\n",
              "<table border=\"1\" class=\"dataframe\">\n",
              "  <thead>\n",
              "    <tr style=\"text-align: right;\">\n",
              "      <th></th>\n",
              "      <th>Total ESG Risk score</th>\n",
              "      <th>Environment Risk Score</th>\n",
              "      <th>Governance Risk Score</th>\n",
              "      <th>Social Risk Score</th>\n",
              "      <th>Controversy Score</th>\n",
              "      <th>ESG Risk Percentile</th>\n",
              "    </tr>\n",
              "  </thead>\n",
              "  <tbody>\n",
              "    <tr>\n",
              "      <th>0</th>\n",
              "      <td>False</td>\n",
              "      <td>False</td>\n",
              "      <td>False</td>\n",
              "      <td>False</td>\n",
              "      <td>False</td>\n",
              "      <td>False</td>\n",
              "    </tr>\n",
              "    <tr>\n",
              "      <th>1</th>\n",
              "      <td>False</td>\n",
              "      <td>False</td>\n",
              "      <td>False</td>\n",
              "      <td>False</td>\n",
              "      <td>False</td>\n",
              "      <td>False</td>\n",
              "    </tr>\n",
              "    <tr>\n",
              "      <th>2</th>\n",
              "      <td>False</td>\n",
              "      <td>False</td>\n",
              "      <td>False</td>\n",
              "      <td>False</td>\n",
              "      <td>False</td>\n",
              "      <td>False</td>\n",
              "    </tr>\n",
              "    <tr>\n",
              "      <th>3</th>\n",
              "      <td>False</td>\n",
              "      <td>False</td>\n",
              "      <td>False</td>\n",
              "      <td>False</td>\n",
              "      <td>False</td>\n",
              "      <td>False</td>\n",
              "    </tr>\n",
              "    <tr>\n",
              "      <th>4</th>\n",
              "      <td>False</td>\n",
              "      <td>False</td>\n",
              "      <td>False</td>\n",
              "      <td>False</td>\n",
              "      <td>False</td>\n",
              "      <td>False</td>\n",
              "    </tr>\n",
              "  </tbody>\n",
              "</table>\n",
              "</div>\n",
              "    <div class=\"colab-df-buttons\">\n",
              "\n",
              "  <div class=\"colab-df-container\">\n",
              "    <button class=\"colab-df-convert\" onclick=\"convertToInteractive('df-e8b0cff1-e464-4d59-a665-bbf686fd0476')\"\n",
              "            title=\"Convert this dataframe to an interactive table.\"\n",
              "            style=\"display:none;\">\n",
              "\n",
              "  <svg xmlns=\"http://www.w3.org/2000/svg\" height=\"24px\" viewBox=\"0 -960 960 960\">\n",
              "    <path d=\"M120-120v-720h720v720H120Zm60-500h600v-160H180v160Zm220 220h160v-160H400v160Zm0 220h160v-160H400v160ZM180-400h160v-160H180v160Zm440 0h160v-160H620v160ZM180-180h160v-160H180v160Zm440 0h160v-160H620v160Z\"/>\n",
              "  </svg>\n",
              "    </button>\n",
              "\n",
              "  <style>\n",
              "    .colab-df-container {\n",
              "      display:flex;\n",
              "      gap: 12px;\n",
              "    }\n",
              "\n",
              "    .colab-df-convert {\n",
              "      background-color: #E8F0FE;\n",
              "      border: none;\n",
              "      border-radius: 50%;\n",
              "      cursor: pointer;\n",
              "      display: none;\n",
              "      fill: #1967D2;\n",
              "      height: 32px;\n",
              "      padding: 0 0 0 0;\n",
              "      width: 32px;\n",
              "    }\n",
              "\n",
              "    .colab-df-convert:hover {\n",
              "      background-color: #E2EBFA;\n",
              "      box-shadow: 0px 1px 2px rgba(60, 64, 67, 0.3), 0px 1px 3px 1px rgba(60, 64, 67, 0.15);\n",
              "      fill: #174EA6;\n",
              "    }\n",
              "\n",
              "    .colab-df-buttons div {\n",
              "      margin-bottom: 4px;\n",
              "    }\n",
              "\n",
              "    [theme=dark] .colab-df-convert {\n",
              "      background-color: #3B4455;\n",
              "      fill: #D2E3FC;\n",
              "    }\n",
              "\n",
              "    [theme=dark] .colab-df-convert:hover {\n",
              "      background-color: #434B5C;\n",
              "      box-shadow: 0px 1px 3px 1px rgba(0, 0, 0, 0.15);\n",
              "      filter: drop-shadow(0px 1px 2px rgba(0, 0, 0, 0.3));\n",
              "      fill: #FFFFFF;\n",
              "    }\n",
              "  </style>\n",
              "\n",
              "    <script>\n",
              "      const buttonEl =\n",
              "        document.querySelector('#df-e8b0cff1-e464-4d59-a665-bbf686fd0476 button.colab-df-convert');\n",
              "      buttonEl.style.display =\n",
              "        google.colab.kernel.accessAllowed ? 'block' : 'none';\n",
              "\n",
              "      async function convertToInteractive(key) {\n",
              "        const element = document.querySelector('#df-e8b0cff1-e464-4d59-a665-bbf686fd0476');\n",
              "        const dataTable =\n",
              "          await google.colab.kernel.invokeFunction('convertToInteractive',\n",
              "                                                    [key], {});\n",
              "        if (!dataTable) return;\n",
              "\n",
              "        const docLinkHtml = 'Like what you see? Visit the ' +\n",
              "          '<a target=\"_blank\" href=https://colab.research.google.com/notebooks/data_table.ipynb>data table notebook</a>'\n",
              "          + ' to learn more about interactive tables.';\n",
              "        element.innerHTML = '';\n",
              "        dataTable['output_type'] = 'display_data';\n",
              "        await google.colab.output.renderOutput(dataTable, element);\n",
              "        const docLink = document.createElement('div');\n",
              "        docLink.innerHTML = docLinkHtml;\n",
              "        element.appendChild(docLink);\n",
              "      }\n",
              "    </script>\n",
              "  </div>\n",
              "\n",
              "\n",
              "<div id=\"df-4fea68ea-7b41-4a90-9213-bcffe3ae7fd2\">\n",
              "  <button class=\"colab-df-quickchart\" onclick=\"quickchart('df-4fea68ea-7b41-4a90-9213-bcffe3ae7fd2')\"\n",
              "            title=\"Suggest charts.\"\n",
              "            style=\"display:none;\">\n",
              "\n",
              "<svg xmlns=\"http://www.w3.org/2000/svg\" height=\"24px\"viewBox=\"0 0 24 24\"\n",
              "     width=\"24px\">\n",
              "    <g>\n",
              "        <path d=\"M19 3H5c-1.1 0-2 .9-2 2v14c0 1.1.9 2 2 2h14c1.1 0 2-.9 2-2V5c0-1.1-.9-2-2-2zM9 17H7v-7h2v7zm4 0h-2V7h2v10zm4 0h-2v-4h2v4z\"/>\n",
              "    </g>\n",
              "</svg>\n",
              "  </button>\n",
              "\n",
              "<style>\n",
              "  .colab-df-quickchart {\n",
              "      --bg-color: #E8F0FE;\n",
              "      --fill-color: #1967D2;\n",
              "      --hover-bg-color: #E2EBFA;\n",
              "      --hover-fill-color: #174EA6;\n",
              "      --disabled-fill-color: #AAA;\n",
              "      --disabled-bg-color: #DDD;\n",
              "  }\n",
              "\n",
              "  [theme=dark] .colab-df-quickchart {\n",
              "      --bg-color: #3B4455;\n",
              "      --fill-color: #D2E3FC;\n",
              "      --hover-bg-color: #434B5C;\n",
              "      --hover-fill-color: #FFFFFF;\n",
              "      --disabled-bg-color: #3B4455;\n",
              "      --disabled-fill-color: #666;\n",
              "  }\n",
              "\n",
              "  .colab-df-quickchart {\n",
              "    background-color: var(--bg-color);\n",
              "    border: none;\n",
              "    border-radius: 50%;\n",
              "    cursor: pointer;\n",
              "    display: none;\n",
              "    fill: var(--fill-color);\n",
              "    height: 32px;\n",
              "    padding: 0;\n",
              "    width: 32px;\n",
              "  }\n",
              "\n",
              "  .colab-df-quickchart:hover {\n",
              "    background-color: var(--hover-bg-color);\n",
              "    box-shadow: 0 1px 2px rgba(60, 64, 67, 0.3), 0 1px 3px 1px rgba(60, 64, 67, 0.15);\n",
              "    fill: var(--button-hover-fill-color);\n",
              "  }\n",
              "\n",
              "  .colab-df-quickchart-complete:disabled,\n",
              "  .colab-df-quickchart-complete:disabled:hover {\n",
              "    background-color: var(--disabled-bg-color);\n",
              "    fill: var(--disabled-fill-color);\n",
              "    box-shadow: none;\n",
              "  }\n",
              "\n",
              "  .colab-df-spinner {\n",
              "    border: 2px solid var(--fill-color);\n",
              "    border-color: transparent;\n",
              "    border-bottom-color: var(--fill-color);\n",
              "    animation:\n",
              "      spin 1s steps(1) infinite;\n",
              "  }\n",
              "\n",
              "  @keyframes spin {\n",
              "    0% {\n",
              "      border-color: transparent;\n",
              "      border-bottom-color: var(--fill-color);\n",
              "      border-left-color: var(--fill-color);\n",
              "    }\n",
              "    20% {\n",
              "      border-color: transparent;\n",
              "      border-left-color: var(--fill-color);\n",
              "      border-top-color: var(--fill-color);\n",
              "    }\n",
              "    30% {\n",
              "      border-color: transparent;\n",
              "      border-left-color: var(--fill-color);\n",
              "      border-top-color: var(--fill-color);\n",
              "      border-right-color: var(--fill-color);\n",
              "    }\n",
              "    40% {\n",
              "      border-color: transparent;\n",
              "      border-right-color: var(--fill-color);\n",
              "      border-top-color: var(--fill-color);\n",
              "    }\n",
              "    60% {\n",
              "      border-color: transparent;\n",
              "      border-right-color: var(--fill-color);\n",
              "    }\n",
              "    80% {\n",
              "      border-color: transparent;\n",
              "      border-right-color: var(--fill-color);\n",
              "      border-bottom-color: var(--fill-color);\n",
              "    }\n",
              "    90% {\n",
              "      border-color: transparent;\n",
              "      border-bottom-color: var(--fill-color);\n",
              "    }\n",
              "  }\n",
              "</style>\n",
              "\n",
              "  <script>\n",
              "    async function quickchart(key) {\n",
              "      const quickchartButtonEl =\n",
              "        document.querySelector('#' + key + ' button');\n",
              "      quickchartButtonEl.disabled = true;  // To prevent multiple clicks.\n",
              "      quickchartButtonEl.classList.add('colab-df-spinner');\n",
              "      try {\n",
              "        const charts = await google.colab.kernel.invokeFunction(\n",
              "            'suggestCharts', [key], {});\n",
              "      } catch (error) {\n",
              "        console.error('Error during call to suggestCharts:', error);\n",
              "      }\n",
              "      quickchartButtonEl.classList.remove('colab-df-spinner');\n",
              "      quickchartButtonEl.classList.add('colab-df-quickchart-complete');\n",
              "    }\n",
              "    (() => {\n",
              "      let quickchartButtonEl =\n",
              "        document.querySelector('#df-4fea68ea-7b41-4a90-9213-bcffe3ae7fd2 button');\n",
              "      quickchartButtonEl.style.display =\n",
              "        google.colab.kernel.accessAllowed ? 'block' : 'none';\n",
              "    })();\n",
              "  </script>\n",
              "</div>\n",
              "    </div>\n",
              "  </div>\n"
            ]
          },
          "metadata": {},
          "execution_count": 68
        }
      ]
    },
    {
      "cell_type": "code",
      "source": [
        "#Se procede a la eliminación de estos 70 datos en la diferentes columnas\n",
        "columns_to_clean = ['Total ESG Risk score','Environment Risk Score', 'Governance Risk Score',\n",
        "      'Social Risk Score','Controversy Score','ESG Risk Percentile']"
      ],
      "metadata": {
        "id": "2Tb4tkDiFna3"
      },
      "execution_count": 69,
      "outputs": []
    },
    {
      "cell_type": "code",
      "source": [
        "risk_6 = risk_2[columns_to_clean].dropna()"
      ],
      "metadata": {
        "id": "wrjpcUgnQoTp"
      },
      "execution_count": 70,
      "outputs": []
    },
    {
      "cell_type": "code",
      "source": [
        "risk_6.info()"
      ],
      "metadata": {
        "colab": {
          "base_uri": "https://localhost:8080/"
        },
        "id": "C4t8S2Q8-cU6",
        "outputId": "c11eb09d-c6b3-4cee-95f1-605a21332eb4"
      },
      "execution_count": 71,
      "outputs": [
        {
          "output_type": "stream",
          "name": "stdout",
          "text": [
            "<class 'pandas.core.frame.DataFrame'>\n",
            "Int64Index: 433 entries, 0 to 502\n",
            "Data columns (total 6 columns):\n",
            " #   Column                  Non-Null Count  Dtype  \n",
            "---  ------                  --------------  -----  \n",
            " 0   Total ESG Risk score    433 non-null    float64\n",
            " 1   Environment Risk Score  433 non-null    float64\n",
            " 2   Governance Risk Score   433 non-null    float64\n",
            " 3   Social Risk Score       433 non-null    float64\n",
            " 4   Controversy Score       433 non-null    float64\n",
            " 5   ESG Risk Percentile     433 non-null    object \n",
            "dtypes: float64(5), object(1)\n",
            "memory usage: 23.7+ KB\n"
          ]
        }
      ]
    },
    {
      "cell_type": "code",
      "source": [
        "#Diferencia entre el tamaño total o sea el número total\n",
        "registros_eliminados = risk_2.size - risk_6.size"
      ],
      "metadata": {
        "id": "Sv_97vxuQ5Zd"
      },
      "execution_count": 72,
      "outputs": []
    },
    {
      "cell_type": "code",
      "source": [
        "porcentaje = round(registros_eliminados*100/risk_2.size,0)\n",
        "porcentaje"
      ],
      "metadata": {
        "colab": {
          "base_uri": "https://localhost:8080/"
        },
        "id": "QjREsGxXSAW7",
        "outputId": "e03ad2c7-5307-4b61-8ec7-24df6cbfe25c"
      },
      "execution_count": 73,
      "outputs": [
        {
          "output_type": "execute_result",
          "data": {
            "text/plain": [
              "63.0"
            ]
          },
          "metadata": {},
          "execution_count": 73
        }
      ]
    },
    {
      "cell_type": "markdown",
      "source": [
        "Con la eliminación de los datos en cada uno de estas 6 filas, se elimina el 63% del total de los datos."
      ],
      "metadata": {
        "id": "2GGF4RwXS6wS"
      }
    },
    {
      "cell_type": "markdown",
      "source": [
        "### Filtrar\n",
        "\n",
        "Se realiza la imputación de los valores que tengan más de 5 null en sus filas"
      ],
      "metadata": {
        "id": "GWNEG_k2bTnY"
      }
    },
    {
      "cell_type": "code",
      "source": [
        "# Filtra nulos que tienen más de 5 nulos en sus filas\n",
        "risk_2.isnull().sum(axis = 1).value_counts()"
      ],
      "metadata": {
        "colab": {
          "base_uri": "https://localhost:8080/"
        },
        "id": "fjyLxkPFbUzv",
        "outputId": "bc45bac7-56d7-4c03-8f24-8a77a05de5a5"
      },
      "execution_count": 74,
      "outputs": [
        {
          "output_type": "execute_result",
          "data": {
            "text/plain": [
              "0     348\n",
              "1      77\n",
              "8      69\n",
              "2       7\n",
              "13      1\n",
              "5       1\n",
              "dtype: int64"
            ]
          },
          "metadata": {},
          "execution_count": 74
        }
      ]
    },
    {
      "cell_type": "code",
      "source": [
        "risk_7 = risk_2[risk.isnull().sum(axis = 1)>5]\n",
        "#risk_7.info()"
      ],
      "metadata": {
        "id": "BAnGQ1ChbwOm",
        "colab": {
          "base_uri": "https://localhost:8080/"
        },
        "outputId": "c54fa33f-f8c1-4d5c-b8c4-2faf8e88b909"
      },
      "execution_count": 84,
      "outputs": [
        {
          "output_type": "stream",
          "name": "stdout",
          "text": [
            "<class 'pandas.core.frame.DataFrame'>\n",
            "Int64Index: 70 entries, 23 to 501\n",
            "Data columns (total 14 columns):\n",
            " #   Column                  Non-Null Count  Dtype  \n",
            "---  ------                  --------------  -----  \n",
            " 0   Name                    70 non-null     object \n",
            " 1   Address                 69 non-null     object \n",
            " 2   Sector                  69 non-null     object \n",
            " 3   Industry                69 non-null     object \n",
            " 4   Full Time Employees     69 non-null     object \n",
            " 5   Description             69 non-null     object \n",
            " 6   Total ESG Risk score    0 non-null      float64\n",
            " 7   Environment Risk Score  0 non-null      float64\n",
            " 8   Governance Risk Score   0 non-null      float64\n",
            " 9   Social Risk Score       0 non-null      float64\n",
            " 10  Controversy Level       0 non-null      object \n",
            " 11  Controversy Score       0 non-null      float64\n",
            " 12  ESG Risk Percentile     0 non-null      object \n",
            " 13  ESG Risk Level          0 non-null      object \n",
            "dtypes: float64(5), object(9)\n",
            "memory usage: 8.2+ KB\n"
          ]
        }
      ]
    },
    {
      "cell_type": "code",
      "source": [
        "#Total de datos si se eliminara los mayores a 5 datos nulos\n",
        "risk_2.size - risk_7.size"
      ],
      "metadata": {
        "id": "qOMtN5hcnSr5",
        "outputId": "ea3453c2-e644-469b-e32b-ac60729174e2",
        "colab": {
          "base_uri": "https://localhost:8080/"
        }
      },
      "execution_count": 76,
      "outputs": [
        {
          "output_type": "execute_result",
          "data": {
            "text/plain": [
              "6062"
            ]
          },
          "metadata": {},
          "execution_count": 76
        }
      ]
    },
    {
      "cell_type": "code",
      "source": [
        "#Criterio para establecer la perdida de data\n",
        "round((risk_2.size - risk_7.size)*100/risk_2.size,0)"
      ],
      "metadata": {
        "colab": {
          "base_uri": "https://localhost:8080/"
        },
        "id": "qWPCCLFocTtN",
        "outputId": "c378820f-6f21-4d7f-86a3-8a0f7571fd14"
      },
      "execution_count": 77,
      "outputs": [
        {
          "output_type": "execute_result",
          "data": {
            "text/plain": [
              "86.0"
            ]
          },
          "metadata": {},
          "execution_count": 77
        }
      ]
    },
    {
      "cell_type": "markdown",
      "source": [
        "Con esto realizado, eliminar desde 5 null hacía adelante, se procedería a perder el 86% de la data"
      ],
      "metadata": {
        "id": "i8D-JA9iniZJ"
      }
    },
    {
      "cell_type": "markdown",
      "source": [
        "## Imputaciones de datos"
      ],
      "metadata": {
        "id": "K0FOZZ4WUkrV"
      }
    },
    {
      "cell_type": "markdown",
      "source": [
        "Con base en lo visto anteriormente, una opción es eliminar los null en las columnas con una perdida del 31% de los datos (que sería la menor perdida).\n",
        "Sin embargo al ser demasiado el porcentaje de perdida, así que como propuesta se colocarán los datos faltantes según la moda."
      ],
      "metadata": {
        "id": "Eo8pJvLCTj4L"
      }
    },
    {
      "cell_type": "code",
      "source": [
        "#Se trabajará en base a estos datos null por cada columna\n",
        "risk_2.isnull().sum().sort_values(ascending = False)"
      ],
      "metadata": {
        "colab": {
          "base_uri": "https://localhost:8080/"
        },
        "id": "7Qwrn71CU7M5",
        "outputId": "5a276093-942f-4575-954f-cf845ccf6cdb"
      },
      "execution_count": 55,
      "outputs": [
        {
          "output_type": "execute_result",
          "data": {
            "text/plain": [
              "ESG Risk Level            127\n",
              "Controversy Level          99\n",
              "Total ESG Risk score       70\n",
              "Environment Risk Score     70\n",
              "Governance Risk Score      70\n",
              "Social Risk Score          70\n",
              "Controversy Score          70\n",
              "ESG Risk Percentile        70\n",
              "Full Time Employees         7\n",
              "Address                     2\n",
              "Sector                      2\n",
              "Industry                    2\n",
              "Description                 2\n",
              "Name                        0\n",
              "dtype: int64"
            ]
          },
          "metadata": {},
          "execution_count": 55
        }
      ]
    },
    {
      "cell_type": "markdown",
      "source": [
        "### Explicación 'Controversy Level'\n",
        "Se estudia por cuál medida realizar la imputación de la columna 'Controversy Level'\n",
        "- Se estudia hacerlo por la mediana pero los datos cambiarían considerablemente ya que los datos nulos son mayores que los existentes en la mediana que sería 'Significant' y esta ya no sería la mediana sino que cambiaría a 'low'.\n",
        "- Se estudia realizarlo por la media pero 'significant' luego de esto ya no sería la media sino sería 'low'\n",
        "- Se estudia por la moda para seguir aumentando el valor de 'Moderate' que en este momento es el que más se repite y se toma esto para proceder con la imputación."
      ],
      "metadata": {
        "id": "cvRV_07HVAF4"
      }
    },
    {
      "cell_type": "code",
      "source": [
        "# Obtén los valores únicos en la columna 'Controversy Level'\n",
        "unique_values = risk_2['Controversy Level'].unique()\n",
        "unique_values"
      ],
      "metadata": {
        "colab": {
          "base_uri": "https://localhost:8080/"
        },
        "id": "XR_V3ENEVEcf",
        "outputId": "ec961ce8-e8d2-464f-d495-b7ddfe6252af"
      },
      "execution_count": 123,
      "outputs": [
        {
          "output_type": "execute_result",
          "data": {
            "text/plain": [
              "array(['Low', 'Moderate', 'Significant', 'None', nan, 'High', 'Severe'],\n",
              "      dtype=object)"
            ]
          },
          "metadata": {},
          "execution_count": 123
        }
      ]
    },
    {
      "cell_type": "code",
      "source": [
        "# Calcula el porcentaje de cada valor único en la columna 'ESG Risk Level'\n",
        "value_counts = risk_2['Controversy Level'].value_counts()\n",
        "value_counts"
      ],
      "metadata": {
        "colab": {
          "base_uri": "https://localhost:8080/"
        },
        "id": "B8mYwllaUwuh",
        "outputId": "2943a8e9-912d-4256-b389-57df7e26054a"
      },
      "execution_count": 124,
      "outputs": [
        {
          "output_type": "execute_result",
          "data": {
            "text/plain": [
              "Moderate       197\n",
              "Low            105\n",
              "Significant     84\n",
              "High            15\n",
              "Severe           2\n",
              "None             1\n",
              "Name: Controversy Level, dtype: int64"
            ]
          },
          "metadata": {},
          "execution_count": 124
        }
      ]
    },
    {
      "cell_type": "code",
      "source": [
        "value_counts.mode()"
      ],
      "metadata": {
        "colab": {
          "base_uri": "https://localhost:8080/"
        },
        "id": "7qOI5VsqVvsF",
        "outputId": "c3722603-080f-4af6-98ce-4c170b2d9f9f"
      },
      "execution_count": 125,
      "outputs": [
        {
          "output_type": "execute_result",
          "data": {
            "text/plain": [
              "0      1\n",
              "1      2\n",
              "2     15\n",
              "3     84\n",
              "4    105\n",
              "5    197\n",
              "Name: Controversy Level, dtype: int64"
            ]
          },
          "metadata": {},
          "execution_count": 125
        }
      ]
    },
    {
      "cell_type": "code",
      "source": [
        "value_counts.median()"
      ],
      "metadata": {
        "colab": {
          "base_uri": "https://localhost:8080/"
        },
        "id": "6zBZdi9mVzJ4",
        "outputId": "708ca58e-a580-4334-c0b0-cb64e2de7a98"
      },
      "execution_count": 126,
      "outputs": [
        {
          "output_type": "execute_result",
          "data": {
            "text/plain": [
              "49.5"
            ]
          },
          "metadata": {},
          "execution_count": 126
        }
      ]
    },
    {
      "cell_type": "code",
      "source": [
        "round(value_counts.mean(),0)"
      ],
      "metadata": {
        "colab": {
          "base_uri": "https://localhost:8080/"
        },
        "id": "lFQl0_82V0bM",
        "outputId": "42cca04b-1e75-4ca3-fefb-17f24f84a68a"
      },
      "execution_count": 127,
      "outputs": [
        {
          "output_type": "execute_result",
          "data": {
            "text/plain": [
              "67.0"
            ]
          },
          "metadata": {},
          "execution_count": 127
        }
      ]
    },
    {
      "cell_type": "markdown",
      "source": [
        "### Explicación 'ESG Risk Level'\n",
        "\n",
        "Se estudia por cuál medida realizar la imputación de la columna 'ESG Risk Level'\n",
        "\n",
        "Se estudia hacerlo por la mediana pero los datos cambiarían considerablemente ya que los datos nulos son mayores que los existentes en la mediana que sería 'Negligible' y esta ya no sería la mediana sino que cambiaría a 'low'.\n",
        "Se estudia realizarlo por la media pero 'Negligible' luego de esto ya no sería la media sino sería 'low'\n",
        "Se estudia por la moda para seguir aumentando el valor de 'Medium' que en este momento es el que más se repite y se toma esto para proceder con la imputación."
      ],
      "metadata": {
        "id": "F9reQ1nnV8xm"
      }
    },
    {
      "cell_type": "code",
      "source": [
        "unique_values_ESG = risk_2['ESG Risk Level'].unique()\n",
        "unique_values_ESG"
      ],
      "metadata": {
        "colab": {
          "base_uri": "https://localhost:8080/"
        },
        "id": "27D0XtXHV_ap",
        "outputId": "a457a56e-075c-4521-f5b5-c3a4735b4c0c"
      },
      "execution_count": 128,
      "outputs": [
        {
          "output_type": "execute_result",
          "data": {
            "text/plain": [
              "array(['Low', nan, 'Negligible', 'Medium', 'Severe', 'High'], dtype=object)"
            ]
          },
          "metadata": {},
          "execution_count": 128
        }
      ]
    },
    {
      "cell_type": "code",
      "source": [
        "values_ESG_counts = risk_2['ESG Risk Level'].value_counts()\n",
        "values_ESG_counts"
      ],
      "metadata": {
        "colab": {
          "base_uri": "https://localhost:8080/"
        },
        "id": "swwHDs_uWGeC",
        "outputId": "cc39bdf5-d0f0-4ef7-b7b1-03c89015633c"
      },
      "execution_count": 129,
      "outputs": [
        {
          "output_type": "execute_result",
          "data": {
            "text/plain": [
              "Medium        134\n",
              "Low           131\n",
              "Negligible     58\n",
              "High           35\n",
              "Severe         18\n",
              "Name: ESG Risk Level, dtype: int64"
            ]
          },
          "metadata": {},
          "execution_count": 129
        }
      ]
    },
    {
      "cell_type": "code",
      "source": [
        "values_ESG_counts.median()"
      ],
      "metadata": {
        "colab": {
          "base_uri": "https://localhost:8080/"
        },
        "id": "kddazcnOWLS4",
        "outputId": "6ef4c39e-cd3a-49e7-f85f-c323e39e7eb7"
      },
      "execution_count": 130,
      "outputs": [
        {
          "output_type": "execute_result",
          "data": {
            "text/plain": [
              "58.0"
            ]
          },
          "metadata": {},
          "execution_count": 130
        }
      ]
    },
    {
      "cell_type": "code",
      "source": [
        "values_ESG_counts.mode()"
      ],
      "metadata": {
        "colab": {
          "base_uri": "https://localhost:8080/"
        },
        "id": "Rezq1NGDWMY_",
        "outputId": "99822db8-f4df-4515-ef13-904515b82fea"
      },
      "execution_count": 131,
      "outputs": [
        {
          "output_type": "execute_result",
          "data": {
            "text/plain": [
              "0     18\n",
              "1     35\n",
              "2     58\n",
              "3    131\n",
              "4    134\n",
              "Name: ESG Risk Level, dtype: int64"
            ]
          },
          "metadata": {},
          "execution_count": 131
        }
      ]
    },
    {
      "cell_type": "code",
      "source": [
        "round(values_ESG_counts.mean(),0)"
      ],
      "metadata": {
        "colab": {
          "base_uri": "https://localhost:8080/"
        },
        "id": "D5r6VsPiWPUZ",
        "outputId": "c9598d52-7533-458f-ec97-47017082b7c0"
      },
      "execution_count": 132,
      "outputs": [
        {
          "output_type": "execute_result",
          "data": {
            "text/plain": [
              "75.0"
            ]
          },
          "metadata": {},
          "execution_count": 132
        }
      ]
    },
    {
      "cell_type": "markdown",
      "source": [
        "## Imputar las demás variables cualitativas del dataframe con la moda de cada variable"
      ],
      "metadata": {
        "id": "qe7piADZ_6aa"
      }
    },
    {
      "cell_type": "code",
      "source": [
        "#Dataframe\n",
        "copy_ind_risk.info()"
      ],
      "metadata": {
        "colab": {
          "base_uri": "https://localhost:8080/"
        },
        "id": "dp8lBHP_N_R6",
        "outputId": "72aa60a6-ab2a-4b1d-a682-be5210442b8e"
      },
      "execution_count": 106,
      "outputs": [
        {
          "output_type": "stream",
          "name": "stdout",
          "text": [
            "<class 'pandas.core.frame.DataFrame'>\n",
            "RangeIndex: 503 entries, 0 to 502\n",
            "Data columns (total 15 columns):\n",
            " #   Column                  Non-Null Count  Dtype  \n",
            "---  ------                  --------------  -----  \n",
            " 0   Symbol                  503 non-null    object \n",
            " 1   Name                    503 non-null    object \n",
            " 2   Address                 501 non-null    object \n",
            " 3   Sector                  501 non-null    object \n",
            " 4   Industry                501 non-null    object \n",
            " 5   Full Time Employees     496 non-null    object \n",
            " 6   Description             501 non-null    object \n",
            " 7   Total ESG Risk score    433 non-null    float64\n",
            " 8   Environment Risk Score  433 non-null    float64\n",
            " 9   Governance Risk Score   433 non-null    float64\n",
            " 10  Social Risk Score       433 non-null    float64\n",
            " 11  Controversy Level       404 non-null    object \n",
            " 12  Controversy Score       433 non-null    float64\n",
            " 13  ESG Risk Percentile     433 non-null    object \n",
            " 14  ESG Risk Level          376 non-null    object \n",
            "dtypes: float64(5), object(10)\n",
            "memory usage: 59.1+ KB\n"
          ]
        }
      ]
    },
    {
      "cell_type": "code",
      "source": [
        "#Eliminación de la columna 'Symbol'\n",
        "copy_ind_risk.drop(columns=['Symbol'])\n",
        "copy_ind_risk.info()"
      ],
      "metadata": {
        "colab": {
          "base_uri": "https://localhost:8080/"
        },
        "id": "d1gpoxUKOQLB",
        "outputId": "850078ab-661c-4086-9963-20e954a0f232"
      },
      "execution_count": 109,
      "outputs": [
        {
          "output_type": "stream",
          "name": "stdout",
          "text": [
            "<class 'pandas.core.frame.DataFrame'>\n",
            "RangeIndex: 503 entries, 0 to 502\n",
            "Data columns (total 15 columns):\n",
            " #   Column                  Non-Null Count  Dtype  \n",
            "---  ------                  --------------  -----  \n",
            " 0   Symbol                  503 non-null    object \n",
            " 1   Name                    503 non-null    object \n",
            " 2   Address                 501 non-null    object \n",
            " 3   Sector                  501 non-null    object \n",
            " 4   Industry                501 non-null    object \n",
            " 5   Full Time Employees     496 non-null    object \n",
            " 6   Description             501 non-null    object \n",
            " 7   Total ESG Risk score    433 non-null    float64\n",
            " 8   Environment Risk Score  433 non-null    float64\n",
            " 9   Governance Risk Score   433 non-null    float64\n",
            " 10  Social Risk Score       433 non-null    float64\n",
            " 11  Controversy Level       404 non-null    object \n",
            " 12  Controversy Score       433 non-null    float64\n",
            " 13  ESG Risk Percentile     433 non-null    object \n",
            " 14  ESG Risk Level          376 non-null    object \n",
            "dtypes: float64(5), object(10)\n",
            "memory usage: 59.1+ KB\n"
          ]
        }
      ]
    },
    {
      "cell_type": "code",
      "source": [
        "def imputar_moda(copy_ind_risk, variables_cualitativas):\n",
        "\n",
        "  for variable in variables_cualitativas:\n",
        "    moda_variable = copy_ind_risk[variable].mode()[0]\n",
        "    copy_ind_risk[variable].fillna(moda_variable, inplace=True)\n",
        "\n",
        "  return copy_ind_risk"
      ],
      "metadata": {
        "id": "qhgv1L0d__rs"
      },
      "execution_count": 112,
      "outputs": []
    },
    {
      "cell_type": "code",
      "source": [
        "variables_cualitativas = list(copy_ind_risk.select_dtypes('object').columns)"
      ],
      "metadata": {
        "id": "t_0nEP90PiaK"
      },
      "execution_count": 111,
      "outputs": []
    },
    {
      "cell_type": "code",
      "source": [
        "copy_ind_risk = imputar_moda(copy_ind_risk = copy_ind_risk,\n",
        "                      variables_cualitativas = variables_cualitativas\n",
        "                      )"
      ],
      "metadata": {
        "id": "-n_tWDjQPunh"
      },
      "execution_count": 113,
      "outputs": []
    },
    {
      "cell_type": "code",
      "source": [
        "copy_ind_risk.info()"
      ],
      "metadata": {
        "colab": {
          "base_uri": "https://localhost:8080/"
        },
        "id": "Og2tCkAoQE9F",
        "outputId": "6cc1b734-0296-40b9-82e2-8ab0be39ea35"
      },
      "execution_count": 114,
      "outputs": [
        {
          "output_type": "stream",
          "name": "stdout",
          "text": [
            "<class 'pandas.core.frame.DataFrame'>\n",
            "RangeIndex: 503 entries, 0 to 502\n",
            "Data columns (total 15 columns):\n",
            " #   Column                  Non-Null Count  Dtype  \n",
            "---  ------                  --------------  -----  \n",
            " 0   Symbol                  503 non-null    object \n",
            " 1   Name                    503 non-null    object \n",
            " 2   Address                 503 non-null    object \n",
            " 3   Sector                  503 non-null    object \n",
            " 4   Industry                503 non-null    object \n",
            " 5   Full Time Employees     503 non-null    object \n",
            " 6   Description             503 non-null    object \n",
            " 7   Total ESG Risk score    433 non-null    float64\n",
            " 8   Environment Risk Score  433 non-null    float64\n",
            " 9   Governance Risk Score   433 non-null    float64\n",
            " 10  Social Risk Score       433 non-null    float64\n",
            " 11  Controversy Level       503 non-null    object \n",
            " 12  Controversy Score       433 non-null    float64\n",
            " 13  ESG Risk Percentile     503 non-null    object \n",
            " 14  ESG Risk Level          503 non-null    object \n",
            "dtypes: float64(5), object(10)\n",
            "memory usage: 59.1+ KB\n"
          ]
        }
      ]
    },
    {
      "cell_type": "markdown",
      "source": [
        "### Imputar las demás variables cuantitativas del dataframe con la moda de cada variable"
      ],
      "metadata": {
        "id": "ebWI-dHvQLdC"
      }
    },
    {
      "cell_type": "code",
      "source": [
        "def impute_with_mode_col(risk_8, variables_cuantitativas):\n",
        "    for column in variables_cuantitativas:\n",
        "            mode_value = risk_8[column].mode()[0]\n",
        "            risk_8[column].fillna(mode_value, inplace=True)\n",
        "    return risk_8"
      ],
      "metadata": {
        "id": "_Dmme2mgQKoa"
      },
      "execution_count": 116,
      "outputs": []
    },
    {
      "cell_type": "code",
      "source": [
        "variables_cuantitativas = list(copy_ind_risk.select_dtypes('float64').columns)"
      ],
      "metadata": {
        "id": "9kXpavY4QSvl"
      },
      "execution_count": 117,
      "outputs": []
    },
    {
      "cell_type": "code",
      "source": [
        "risk_8 = impute_with_mode_col(risk_8 = copy_ind_risk,\n",
        "                          variables_cuantitativas = variables_cuantitativas\n",
        "                          )"
      ],
      "metadata": {
        "id": "oDY6fk2XQQoS"
      },
      "execution_count": 118,
      "outputs": []
    },
    {
      "cell_type": "code",
      "source": [
        "risk_8.info()"
      ],
      "metadata": {
        "colab": {
          "base_uri": "https://localhost:8080/"
        },
        "id": "QoC3wuiUSw6w",
        "outputId": "3c9691f0-5fbf-4c8a-edf6-df352ae3ef8b"
      },
      "execution_count": 119,
      "outputs": [
        {
          "output_type": "stream",
          "name": "stdout",
          "text": [
            "<class 'pandas.core.frame.DataFrame'>\n",
            "RangeIndex: 503 entries, 0 to 502\n",
            "Data columns (total 15 columns):\n",
            " #   Column                  Non-Null Count  Dtype  \n",
            "---  ------                  --------------  -----  \n",
            " 0   Symbol                  503 non-null    object \n",
            " 1   Name                    503 non-null    object \n",
            " 2   Address                 503 non-null    object \n",
            " 3   Sector                  503 non-null    object \n",
            " 4   Industry                503 non-null    object \n",
            " 5   Full Time Employees     503 non-null    object \n",
            " 6   Description             503 non-null    object \n",
            " 7   Total ESG Risk score    503 non-null    float64\n",
            " 8   Environment Risk Score  503 non-null    float64\n",
            " 9   Governance Risk Score   503 non-null    float64\n",
            " 10  Social Risk Score       503 non-null    float64\n",
            " 11  Controversy Level       503 non-null    object \n",
            " 12  Controversy Score       503 non-null    float64\n",
            " 13  ESG Risk Percentile     503 non-null    object \n",
            " 14  ESG Risk Level          503 non-null    object \n",
            "dtypes: float64(5), object(10)\n",
            "memory usage: 59.1+ KB\n"
          ]
        }
      ]
    }
  ]
}