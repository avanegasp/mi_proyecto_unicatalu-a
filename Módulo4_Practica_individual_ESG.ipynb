{
  "nbformat": 4,
  "nbformat_minor": 0,
  "metadata": {
    "colab": {
      "provenance": [],
      "authorship_tag": "ABX9TyPQJxhxK1Muwc2D4PaXiwK8",
      "include_colab_link": true
    },
    "kernelspec": {
      "name": "python3",
      "display_name": "Python 3"
    },
    "language_info": {
      "name": "python"
    }
  },
  "cells": [
    {
      "cell_type": "markdown",
      "metadata": {
        "id": "view-in-github",
        "colab_type": "text"
      },
      "source": [
        "<a href=\"https://colab.research.google.com/github/avanegasp/mi_proyecto_unicatalu-a/blob/main/M%C3%B3dulo4_Practica_individual_ESG.ipynb\" target=\"_parent\"><img src=\"https://colab.research.google.com/assets/colab-badge.svg\" alt=\"Open In Colab\"/></a>"
      ]
    },
    {
      "cell_type": "code",
      "execution_count": 2,
      "metadata": {
        "id": "J28x0TFjsieP"
      },
      "outputs": [],
      "source": [
        "import numpy as np\n",
        "import seaborn as sns\n",
        "import matplotlib.pyplot as plt\n",
        "import pandas as pd"
      ]
    },
    {
      "cell_type": "code",
      "source": [
        "risk = pd.read_csv('https://raw.githubusercontent.com/avanegasp/mi_proyecto_unicatalu-a/main/SP%20500%20ESG%20Risk%20Ratings.csv')"
      ],
      "metadata": {
        "id": "BjRlsza6xBD0"
      },
      "execution_count": 3,
      "outputs": []
    },
    {
      "cell_type": "code",
      "source": [
        "risk.head(3)"
      ],
      "metadata": {
        "colab": {
          "base_uri": "https://localhost:8080/",
          "height": 371
        },
        "id": "2eO3o9Qc3svP",
        "outputId": "b1ee4d37-0e16-4338-d128-8a78504daecc"
      },
      "execution_count": 4,
      "outputs": [
        {
          "output_type": "execute_result",
          "data": {
            "text/plain": [
              "  Symbol                         Name  \\\n",
              "0      A     Agilent Technologies Inc   \n",
              "1    AAL  American Airlines Group Inc   \n",
              "2    AAP       Advance Auto Parts Inc   \n",
              "\n",
              "                                             Address             Sector  \\\n",
              "0  5301 Stevens Creek Boulevard\\nSanta Clara, CA ...         Healthcare   \n",
              "1  1 Skyview Drive\\nFort Worth, TX 76155\\nUnited ...        Industrials   \n",
              "2  4200 Six Forks Road\\nRaleigh, NC 27609\\nUnited...  Consumer Cyclical   \n",
              "\n",
              "                 Industry Full Time Employees  \\\n",
              "0  Diagnostics & Research              18,000   \n",
              "1                Airlines             132,500   \n",
              "2        Specialty Retail              40,000   \n",
              "\n",
              "                                         Description  Total ESG Risk score  \\\n",
              "0  Agilent Technologies, Inc. provides applicatio...                  15.0   \n",
              "1  American Airlines Group Inc., through its subs...                  29.0   \n",
              "2  Advance Auto Parts, Inc. provides automotive r...                  12.0   \n",
              "\n",
              "   Environment Risk Score  Governance Risk Score  Social Risk Score  \\\n",
              "0                     0.3                    6.3                8.6   \n",
              "1                    12.0                    5.0               12.0   \n",
              "2                     0.0                    3.0                8.0   \n",
              "\n",
              "  Controversy Level  Controversy Score ESG Risk Percentile ESG Risk Level  \n",
              "0               Low                1.0     11th percentile            Low  \n",
              "1          Moderate                2.0     62nd percentile            NaN  \n",
              "2          Moderate                2.0      4th percentile     Negligible  "
            ],
            "text/html": [
              "\n",
              "  <div id=\"df-5ac4b611-0a45-4296-8e57-af35f69aff98\" class=\"colab-df-container\">\n",
              "    <div>\n",
              "<style scoped>\n",
              "    .dataframe tbody tr th:only-of-type {\n",
              "        vertical-align: middle;\n",
              "    }\n",
              "\n",
              "    .dataframe tbody tr th {\n",
              "        vertical-align: top;\n",
              "    }\n",
              "\n",
              "    .dataframe thead th {\n",
              "        text-align: right;\n",
              "    }\n",
              "</style>\n",
              "<table border=\"1\" class=\"dataframe\">\n",
              "  <thead>\n",
              "    <tr style=\"text-align: right;\">\n",
              "      <th></th>\n",
              "      <th>Symbol</th>\n",
              "      <th>Name</th>\n",
              "      <th>Address</th>\n",
              "      <th>Sector</th>\n",
              "      <th>Industry</th>\n",
              "      <th>Full Time Employees</th>\n",
              "      <th>Description</th>\n",
              "      <th>Total ESG Risk score</th>\n",
              "      <th>Environment Risk Score</th>\n",
              "      <th>Governance Risk Score</th>\n",
              "      <th>Social Risk Score</th>\n",
              "      <th>Controversy Level</th>\n",
              "      <th>Controversy Score</th>\n",
              "      <th>ESG Risk Percentile</th>\n",
              "      <th>ESG Risk Level</th>\n",
              "    </tr>\n",
              "  </thead>\n",
              "  <tbody>\n",
              "    <tr>\n",
              "      <th>0</th>\n",
              "      <td>A</td>\n",
              "      <td>Agilent Technologies Inc</td>\n",
              "      <td>5301 Stevens Creek Boulevard\\nSanta Clara, CA ...</td>\n",
              "      <td>Healthcare</td>\n",
              "      <td>Diagnostics &amp; Research</td>\n",
              "      <td>18,000</td>\n",
              "      <td>Agilent Technologies, Inc. provides applicatio...</td>\n",
              "      <td>15.0</td>\n",
              "      <td>0.3</td>\n",
              "      <td>6.3</td>\n",
              "      <td>8.6</td>\n",
              "      <td>Low</td>\n",
              "      <td>1.0</td>\n",
              "      <td>11th percentile</td>\n",
              "      <td>Low</td>\n",
              "    </tr>\n",
              "    <tr>\n",
              "      <th>1</th>\n",
              "      <td>AAL</td>\n",
              "      <td>American Airlines Group Inc</td>\n",
              "      <td>1 Skyview Drive\\nFort Worth, TX 76155\\nUnited ...</td>\n",
              "      <td>Industrials</td>\n",
              "      <td>Airlines</td>\n",
              "      <td>132,500</td>\n",
              "      <td>American Airlines Group Inc., through its subs...</td>\n",
              "      <td>29.0</td>\n",
              "      <td>12.0</td>\n",
              "      <td>5.0</td>\n",
              "      <td>12.0</td>\n",
              "      <td>Moderate</td>\n",
              "      <td>2.0</td>\n",
              "      <td>62nd percentile</td>\n",
              "      <td>NaN</td>\n",
              "    </tr>\n",
              "    <tr>\n",
              "      <th>2</th>\n",
              "      <td>AAP</td>\n",
              "      <td>Advance Auto Parts Inc</td>\n",
              "      <td>4200 Six Forks Road\\nRaleigh, NC 27609\\nUnited...</td>\n",
              "      <td>Consumer Cyclical</td>\n",
              "      <td>Specialty Retail</td>\n",
              "      <td>40,000</td>\n",
              "      <td>Advance Auto Parts, Inc. provides automotive r...</td>\n",
              "      <td>12.0</td>\n",
              "      <td>0.0</td>\n",
              "      <td>3.0</td>\n",
              "      <td>8.0</td>\n",
              "      <td>Moderate</td>\n",
              "      <td>2.0</td>\n",
              "      <td>4th percentile</td>\n",
              "      <td>Negligible</td>\n",
              "    </tr>\n",
              "  </tbody>\n",
              "</table>\n",
              "</div>\n",
              "    <div class=\"colab-df-buttons\">\n",
              "\n",
              "  <div class=\"colab-df-container\">\n",
              "    <button class=\"colab-df-convert\" onclick=\"convertToInteractive('df-5ac4b611-0a45-4296-8e57-af35f69aff98')\"\n",
              "            title=\"Convert this dataframe to an interactive table.\"\n",
              "            style=\"display:none;\">\n",
              "\n",
              "  <svg xmlns=\"http://www.w3.org/2000/svg\" height=\"24px\" viewBox=\"0 -960 960 960\">\n",
              "    <path d=\"M120-120v-720h720v720H120Zm60-500h600v-160H180v160Zm220 220h160v-160H400v160Zm0 220h160v-160H400v160ZM180-400h160v-160H180v160Zm440 0h160v-160H620v160ZM180-180h160v-160H180v160Zm440 0h160v-160H620v160Z\"/>\n",
              "  </svg>\n",
              "    </button>\n",
              "\n",
              "  <style>\n",
              "    .colab-df-container {\n",
              "      display:flex;\n",
              "      gap: 12px;\n",
              "    }\n",
              "\n",
              "    .colab-df-convert {\n",
              "      background-color: #E8F0FE;\n",
              "      border: none;\n",
              "      border-radius: 50%;\n",
              "      cursor: pointer;\n",
              "      display: none;\n",
              "      fill: #1967D2;\n",
              "      height: 32px;\n",
              "      padding: 0 0 0 0;\n",
              "      width: 32px;\n",
              "    }\n",
              "\n",
              "    .colab-df-convert:hover {\n",
              "      background-color: #E2EBFA;\n",
              "      box-shadow: 0px 1px 2px rgba(60, 64, 67, 0.3), 0px 1px 3px 1px rgba(60, 64, 67, 0.15);\n",
              "      fill: #174EA6;\n",
              "    }\n",
              "\n",
              "    .colab-df-buttons div {\n",
              "      margin-bottom: 4px;\n",
              "    }\n",
              "\n",
              "    [theme=dark] .colab-df-convert {\n",
              "      background-color: #3B4455;\n",
              "      fill: #D2E3FC;\n",
              "    }\n",
              "\n",
              "    [theme=dark] .colab-df-convert:hover {\n",
              "      background-color: #434B5C;\n",
              "      box-shadow: 0px 1px 3px 1px rgba(0, 0, 0, 0.15);\n",
              "      filter: drop-shadow(0px 1px 2px rgba(0, 0, 0, 0.3));\n",
              "      fill: #FFFFFF;\n",
              "    }\n",
              "  </style>\n",
              "\n",
              "    <script>\n",
              "      const buttonEl =\n",
              "        document.querySelector('#df-5ac4b611-0a45-4296-8e57-af35f69aff98 button.colab-df-convert');\n",
              "      buttonEl.style.display =\n",
              "        google.colab.kernel.accessAllowed ? 'block' : 'none';\n",
              "\n",
              "      async function convertToInteractive(key) {\n",
              "        const element = document.querySelector('#df-5ac4b611-0a45-4296-8e57-af35f69aff98');\n",
              "        const dataTable =\n",
              "          await google.colab.kernel.invokeFunction('convertToInteractive',\n",
              "                                                    [key], {});\n",
              "        if (!dataTable) return;\n",
              "\n",
              "        const docLinkHtml = 'Like what you see? Visit the ' +\n",
              "          '<a target=\"_blank\" href=https://colab.research.google.com/notebooks/data_table.ipynb>data table notebook</a>'\n",
              "          + ' to learn more about interactive tables.';\n",
              "        element.innerHTML = '';\n",
              "        dataTable['output_type'] = 'display_data';\n",
              "        await google.colab.output.renderOutput(dataTable, element);\n",
              "        const docLink = document.createElement('div');\n",
              "        docLink.innerHTML = docLinkHtml;\n",
              "        element.appendChild(docLink);\n",
              "      }\n",
              "    </script>\n",
              "  </div>\n",
              "\n",
              "\n",
              "<div id=\"df-fefbe4b2-7f51-4691-b901-6d7a2b456b8f\">\n",
              "  <button class=\"colab-df-quickchart\" onclick=\"quickchart('df-fefbe4b2-7f51-4691-b901-6d7a2b456b8f')\"\n",
              "            title=\"Suggest charts.\"\n",
              "            style=\"display:none;\">\n",
              "\n",
              "<svg xmlns=\"http://www.w3.org/2000/svg\" height=\"24px\"viewBox=\"0 0 24 24\"\n",
              "     width=\"24px\">\n",
              "    <g>\n",
              "        <path d=\"M19 3H5c-1.1 0-2 .9-2 2v14c0 1.1.9 2 2 2h14c1.1 0 2-.9 2-2V5c0-1.1-.9-2-2-2zM9 17H7v-7h2v7zm4 0h-2V7h2v10zm4 0h-2v-4h2v4z\"/>\n",
              "    </g>\n",
              "</svg>\n",
              "  </button>\n",
              "\n",
              "<style>\n",
              "  .colab-df-quickchart {\n",
              "      --bg-color: #E8F0FE;\n",
              "      --fill-color: #1967D2;\n",
              "      --hover-bg-color: #E2EBFA;\n",
              "      --hover-fill-color: #174EA6;\n",
              "      --disabled-fill-color: #AAA;\n",
              "      --disabled-bg-color: #DDD;\n",
              "  }\n",
              "\n",
              "  [theme=dark] .colab-df-quickchart {\n",
              "      --bg-color: #3B4455;\n",
              "      --fill-color: #D2E3FC;\n",
              "      --hover-bg-color: #434B5C;\n",
              "      --hover-fill-color: #FFFFFF;\n",
              "      --disabled-bg-color: #3B4455;\n",
              "      --disabled-fill-color: #666;\n",
              "  }\n",
              "\n",
              "  .colab-df-quickchart {\n",
              "    background-color: var(--bg-color);\n",
              "    border: none;\n",
              "    border-radius: 50%;\n",
              "    cursor: pointer;\n",
              "    display: none;\n",
              "    fill: var(--fill-color);\n",
              "    height: 32px;\n",
              "    padding: 0;\n",
              "    width: 32px;\n",
              "  }\n",
              "\n",
              "  .colab-df-quickchart:hover {\n",
              "    background-color: var(--hover-bg-color);\n",
              "    box-shadow: 0 1px 2px rgba(60, 64, 67, 0.3), 0 1px 3px 1px rgba(60, 64, 67, 0.15);\n",
              "    fill: var(--button-hover-fill-color);\n",
              "  }\n",
              "\n",
              "  .colab-df-quickchart-complete:disabled,\n",
              "  .colab-df-quickchart-complete:disabled:hover {\n",
              "    background-color: var(--disabled-bg-color);\n",
              "    fill: var(--disabled-fill-color);\n",
              "    box-shadow: none;\n",
              "  }\n",
              "\n",
              "  .colab-df-spinner {\n",
              "    border: 2px solid var(--fill-color);\n",
              "    border-color: transparent;\n",
              "    border-bottom-color: var(--fill-color);\n",
              "    animation:\n",
              "      spin 1s steps(1) infinite;\n",
              "  }\n",
              "\n",
              "  @keyframes spin {\n",
              "    0% {\n",
              "      border-color: transparent;\n",
              "      border-bottom-color: var(--fill-color);\n",
              "      border-left-color: var(--fill-color);\n",
              "    }\n",
              "    20% {\n",
              "      border-color: transparent;\n",
              "      border-left-color: var(--fill-color);\n",
              "      border-top-color: var(--fill-color);\n",
              "    }\n",
              "    30% {\n",
              "      border-color: transparent;\n",
              "      border-left-color: var(--fill-color);\n",
              "      border-top-color: var(--fill-color);\n",
              "      border-right-color: var(--fill-color);\n",
              "    }\n",
              "    40% {\n",
              "      border-color: transparent;\n",
              "      border-right-color: var(--fill-color);\n",
              "      border-top-color: var(--fill-color);\n",
              "    }\n",
              "    60% {\n",
              "      border-color: transparent;\n",
              "      border-right-color: var(--fill-color);\n",
              "    }\n",
              "    80% {\n",
              "      border-color: transparent;\n",
              "      border-right-color: var(--fill-color);\n",
              "      border-bottom-color: var(--fill-color);\n",
              "    }\n",
              "    90% {\n",
              "      border-color: transparent;\n",
              "      border-bottom-color: var(--fill-color);\n",
              "    }\n",
              "  }\n",
              "</style>\n",
              "\n",
              "  <script>\n",
              "    async function quickchart(key) {\n",
              "      const quickchartButtonEl =\n",
              "        document.querySelector('#' + key + ' button');\n",
              "      quickchartButtonEl.disabled = true;  // To prevent multiple clicks.\n",
              "      quickchartButtonEl.classList.add('colab-df-spinner');\n",
              "      try {\n",
              "        const charts = await google.colab.kernel.invokeFunction(\n",
              "            'suggestCharts', [key], {});\n",
              "      } catch (error) {\n",
              "        console.error('Error during call to suggestCharts:', error);\n",
              "      }\n",
              "      quickchartButtonEl.classList.remove('colab-df-spinner');\n",
              "      quickchartButtonEl.classList.add('colab-df-quickchart-complete');\n",
              "    }\n",
              "    (() => {\n",
              "      let quickchartButtonEl =\n",
              "        document.querySelector('#df-fefbe4b2-7f51-4691-b901-6d7a2b456b8f button');\n",
              "      quickchartButtonEl.style.display =\n",
              "        google.colab.kernel.accessAllowed ? 'block' : 'none';\n",
              "    })();\n",
              "  </script>\n",
              "</div>\n",
              "    </div>\n",
              "  </div>\n"
            ]
          },
          "metadata": {},
          "execution_count": 4
        }
      ]
    },
    {
      "cell_type": "code",
      "source": [
        "risk.info()"
      ],
      "metadata": {
        "colab": {
          "base_uri": "https://localhost:8080/"
        },
        "id": "F6J6lc8tyEee",
        "outputId": "e1d13581-e25f-4fd9-ee25-bab00906db18"
      },
      "execution_count": 5,
      "outputs": [
        {
          "output_type": "stream",
          "name": "stdout",
          "text": [
            "<class 'pandas.core.frame.DataFrame'>\n",
            "RangeIndex: 503 entries, 0 to 502\n",
            "Data columns (total 15 columns):\n",
            " #   Column                  Non-Null Count  Dtype  \n",
            "---  ------                  --------------  -----  \n",
            " 0   Symbol                  503 non-null    object \n",
            " 1   Name                    503 non-null    object \n",
            " 2   Address                 501 non-null    object \n",
            " 3   Sector                  501 non-null    object \n",
            " 4   Industry                501 non-null    object \n",
            " 5   Full Time Employees     496 non-null    object \n",
            " 6   Description             501 non-null    object \n",
            " 7   Total ESG Risk score    433 non-null    float64\n",
            " 8   Environment Risk Score  433 non-null    float64\n",
            " 9   Governance Risk Score   433 non-null    float64\n",
            " 10  Social Risk Score       433 non-null    float64\n",
            " 11  Controversy Level       404 non-null    object \n",
            " 12  Controversy Score       433 non-null    float64\n",
            " 13  ESG Risk Percentile     433 non-null    object \n",
            " 14  ESG Risk Level          376 non-null    object \n",
            "dtypes: float64(5), object(10)\n",
            "memory usage: 59.1+ KB\n"
          ]
        }
      ]
    },
    {
      "cell_type": "code",
      "source": [
        "risk.describe()"
      ],
      "metadata": {
        "colab": {
          "base_uri": "https://localhost:8080/",
          "height": 317
        },
        "id": "K0m8LXqNnycd",
        "outputId": "bd311691-5d85-4a0b-80dc-cd0f4e381c5a"
      },
      "execution_count": 6,
      "outputs": [
        {
          "output_type": "execute_result",
          "data": {
            "text/plain": [
              "       Total ESG Risk score  Environment Risk Score  Governance Risk Score  \\\n",
              "count            433.000000              433.000000             433.000000   \n",
              "mean              21.422633                5.678984               6.673903   \n",
              "std                7.264458                5.339965               2.201049   \n",
              "min                7.000000                0.000000               3.000000   \n",
              "25%               16.000000                1.500000               5.000000   \n",
              "50%               21.000000                3.800000               6.000000   \n",
              "75%               26.000000                8.900000               7.700000   \n",
              "max               46.000000               25.000000              15.500000   \n",
              "\n",
              "       Social Risk Score  Controversy Score  \n",
              "count         433.000000         433.000000  \n",
              "mean            9.045035           1.896074  \n",
              "std             3.813788           0.940748  \n",
              "min             1.100000           0.000000  \n",
              "25%             6.600000           1.000000  \n",
              "50%             8.700000           2.000000  \n",
              "75%            11.600000           2.000000  \n",
              "max            21.000000           5.000000  "
            ],
            "text/html": [
              "\n",
              "  <div id=\"df-cb0a62c4-01df-4076-9bfc-944929062df5\" class=\"colab-df-container\">\n",
              "    <div>\n",
              "<style scoped>\n",
              "    .dataframe tbody tr th:only-of-type {\n",
              "        vertical-align: middle;\n",
              "    }\n",
              "\n",
              "    .dataframe tbody tr th {\n",
              "        vertical-align: top;\n",
              "    }\n",
              "\n",
              "    .dataframe thead th {\n",
              "        text-align: right;\n",
              "    }\n",
              "</style>\n",
              "<table border=\"1\" class=\"dataframe\">\n",
              "  <thead>\n",
              "    <tr style=\"text-align: right;\">\n",
              "      <th></th>\n",
              "      <th>Total ESG Risk score</th>\n",
              "      <th>Environment Risk Score</th>\n",
              "      <th>Governance Risk Score</th>\n",
              "      <th>Social Risk Score</th>\n",
              "      <th>Controversy Score</th>\n",
              "    </tr>\n",
              "  </thead>\n",
              "  <tbody>\n",
              "    <tr>\n",
              "      <th>count</th>\n",
              "      <td>433.000000</td>\n",
              "      <td>433.000000</td>\n",
              "      <td>433.000000</td>\n",
              "      <td>433.000000</td>\n",
              "      <td>433.000000</td>\n",
              "    </tr>\n",
              "    <tr>\n",
              "      <th>mean</th>\n",
              "      <td>21.422633</td>\n",
              "      <td>5.678984</td>\n",
              "      <td>6.673903</td>\n",
              "      <td>9.045035</td>\n",
              "      <td>1.896074</td>\n",
              "    </tr>\n",
              "    <tr>\n",
              "      <th>std</th>\n",
              "      <td>7.264458</td>\n",
              "      <td>5.339965</td>\n",
              "      <td>2.201049</td>\n",
              "      <td>3.813788</td>\n",
              "      <td>0.940748</td>\n",
              "    </tr>\n",
              "    <tr>\n",
              "      <th>min</th>\n",
              "      <td>7.000000</td>\n",
              "      <td>0.000000</td>\n",
              "      <td>3.000000</td>\n",
              "      <td>1.100000</td>\n",
              "      <td>0.000000</td>\n",
              "    </tr>\n",
              "    <tr>\n",
              "      <th>25%</th>\n",
              "      <td>16.000000</td>\n",
              "      <td>1.500000</td>\n",
              "      <td>5.000000</td>\n",
              "      <td>6.600000</td>\n",
              "      <td>1.000000</td>\n",
              "    </tr>\n",
              "    <tr>\n",
              "      <th>50%</th>\n",
              "      <td>21.000000</td>\n",
              "      <td>3.800000</td>\n",
              "      <td>6.000000</td>\n",
              "      <td>8.700000</td>\n",
              "      <td>2.000000</td>\n",
              "    </tr>\n",
              "    <tr>\n",
              "      <th>75%</th>\n",
              "      <td>26.000000</td>\n",
              "      <td>8.900000</td>\n",
              "      <td>7.700000</td>\n",
              "      <td>11.600000</td>\n",
              "      <td>2.000000</td>\n",
              "    </tr>\n",
              "    <tr>\n",
              "      <th>max</th>\n",
              "      <td>46.000000</td>\n",
              "      <td>25.000000</td>\n",
              "      <td>15.500000</td>\n",
              "      <td>21.000000</td>\n",
              "      <td>5.000000</td>\n",
              "    </tr>\n",
              "  </tbody>\n",
              "</table>\n",
              "</div>\n",
              "    <div class=\"colab-df-buttons\">\n",
              "\n",
              "  <div class=\"colab-df-container\">\n",
              "    <button class=\"colab-df-convert\" onclick=\"convertToInteractive('df-cb0a62c4-01df-4076-9bfc-944929062df5')\"\n",
              "            title=\"Convert this dataframe to an interactive table.\"\n",
              "            style=\"display:none;\">\n",
              "\n",
              "  <svg xmlns=\"http://www.w3.org/2000/svg\" height=\"24px\" viewBox=\"0 -960 960 960\">\n",
              "    <path d=\"M120-120v-720h720v720H120Zm60-500h600v-160H180v160Zm220 220h160v-160H400v160Zm0 220h160v-160H400v160ZM180-400h160v-160H180v160Zm440 0h160v-160H620v160ZM180-180h160v-160H180v160Zm440 0h160v-160H620v160Z\"/>\n",
              "  </svg>\n",
              "    </button>\n",
              "\n",
              "  <style>\n",
              "    .colab-df-container {\n",
              "      display:flex;\n",
              "      gap: 12px;\n",
              "    }\n",
              "\n",
              "    .colab-df-convert {\n",
              "      background-color: #E8F0FE;\n",
              "      border: none;\n",
              "      border-radius: 50%;\n",
              "      cursor: pointer;\n",
              "      display: none;\n",
              "      fill: #1967D2;\n",
              "      height: 32px;\n",
              "      padding: 0 0 0 0;\n",
              "      width: 32px;\n",
              "    }\n",
              "\n",
              "    .colab-df-convert:hover {\n",
              "      background-color: #E2EBFA;\n",
              "      box-shadow: 0px 1px 2px rgba(60, 64, 67, 0.3), 0px 1px 3px 1px rgba(60, 64, 67, 0.15);\n",
              "      fill: #174EA6;\n",
              "    }\n",
              "\n",
              "    .colab-df-buttons div {\n",
              "      margin-bottom: 4px;\n",
              "    }\n",
              "\n",
              "    [theme=dark] .colab-df-convert {\n",
              "      background-color: #3B4455;\n",
              "      fill: #D2E3FC;\n",
              "    }\n",
              "\n",
              "    [theme=dark] .colab-df-convert:hover {\n",
              "      background-color: #434B5C;\n",
              "      box-shadow: 0px 1px 3px 1px rgba(0, 0, 0, 0.15);\n",
              "      filter: drop-shadow(0px 1px 2px rgba(0, 0, 0, 0.3));\n",
              "      fill: #FFFFFF;\n",
              "    }\n",
              "  </style>\n",
              "\n",
              "    <script>\n",
              "      const buttonEl =\n",
              "        document.querySelector('#df-cb0a62c4-01df-4076-9bfc-944929062df5 button.colab-df-convert');\n",
              "      buttonEl.style.display =\n",
              "        google.colab.kernel.accessAllowed ? 'block' : 'none';\n",
              "\n",
              "      async function convertToInteractive(key) {\n",
              "        const element = document.querySelector('#df-cb0a62c4-01df-4076-9bfc-944929062df5');\n",
              "        const dataTable =\n",
              "          await google.colab.kernel.invokeFunction('convertToInteractive',\n",
              "                                                    [key], {});\n",
              "        if (!dataTable) return;\n",
              "\n",
              "        const docLinkHtml = 'Like what you see? Visit the ' +\n",
              "          '<a target=\"_blank\" href=https://colab.research.google.com/notebooks/data_table.ipynb>data table notebook</a>'\n",
              "          + ' to learn more about interactive tables.';\n",
              "        element.innerHTML = '';\n",
              "        dataTable['output_type'] = 'display_data';\n",
              "        await google.colab.output.renderOutput(dataTable, element);\n",
              "        const docLink = document.createElement('div');\n",
              "        docLink.innerHTML = docLinkHtml;\n",
              "        element.appendChild(docLink);\n",
              "      }\n",
              "    </script>\n",
              "  </div>\n",
              "\n",
              "\n",
              "<div id=\"df-cc975537-22e4-4dd7-8e45-f016133495d5\">\n",
              "  <button class=\"colab-df-quickchart\" onclick=\"quickchart('df-cc975537-22e4-4dd7-8e45-f016133495d5')\"\n",
              "            title=\"Suggest charts.\"\n",
              "            style=\"display:none;\">\n",
              "\n",
              "<svg xmlns=\"http://www.w3.org/2000/svg\" height=\"24px\"viewBox=\"0 0 24 24\"\n",
              "     width=\"24px\">\n",
              "    <g>\n",
              "        <path d=\"M19 3H5c-1.1 0-2 .9-2 2v14c0 1.1.9 2 2 2h14c1.1 0 2-.9 2-2V5c0-1.1-.9-2-2-2zM9 17H7v-7h2v7zm4 0h-2V7h2v10zm4 0h-2v-4h2v4z\"/>\n",
              "    </g>\n",
              "</svg>\n",
              "  </button>\n",
              "\n",
              "<style>\n",
              "  .colab-df-quickchart {\n",
              "      --bg-color: #E8F0FE;\n",
              "      --fill-color: #1967D2;\n",
              "      --hover-bg-color: #E2EBFA;\n",
              "      --hover-fill-color: #174EA6;\n",
              "      --disabled-fill-color: #AAA;\n",
              "      --disabled-bg-color: #DDD;\n",
              "  }\n",
              "\n",
              "  [theme=dark] .colab-df-quickchart {\n",
              "      --bg-color: #3B4455;\n",
              "      --fill-color: #D2E3FC;\n",
              "      --hover-bg-color: #434B5C;\n",
              "      --hover-fill-color: #FFFFFF;\n",
              "      --disabled-bg-color: #3B4455;\n",
              "      --disabled-fill-color: #666;\n",
              "  }\n",
              "\n",
              "  .colab-df-quickchart {\n",
              "    background-color: var(--bg-color);\n",
              "    border: none;\n",
              "    border-radius: 50%;\n",
              "    cursor: pointer;\n",
              "    display: none;\n",
              "    fill: var(--fill-color);\n",
              "    height: 32px;\n",
              "    padding: 0;\n",
              "    width: 32px;\n",
              "  }\n",
              "\n",
              "  .colab-df-quickchart:hover {\n",
              "    background-color: var(--hover-bg-color);\n",
              "    box-shadow: 0 1px 2px rgba(60, 64, 67, 0.3), 0 1px 3px 1px rgba(60, 64, 67, 0.15);\n",
              "    fill: var(--button-hover-fill-color);\n",
              "  }\n",
              "\n",
              "  .colab-df-quickchart-complete:disabled,\n",
              "  .colab-df-quickchart-complete:disabled:hover {\n",
              "    background-color: var(--disabled-bg-color);\n",
              "    fill: var(--disabled-fill-color);\n",
              "    box-shadow: none;\n",
              "  }\n",
              "\n",
              "  .colab-df-spinner {\n",
              "    border: 2px solid var(--fill-color);\n",
              "    border-color: transparent;\n",
              "    border-bottom-color: var(--fill-color);\n",
              "    animation:\n",
              "      spin 1s steps(1) infinite;\n",
              "  }\n",
              "\n",
              "  @keyframes spin {\n",
              "    0% {\n",
              "      border-color: transparent;\n",
              "      border-bottom-color: var(--fill-color);\n",
              "      border-left-color: var(--fill-color);\n",
              "    }\n",
              "    20% {\n",
              "      border-color: transparent;\n",
              "      border-left-color: var(--fill-color);\n",
              "      border-top-color: var(--fill-color);\n",
              "    }\n",
              "    30% {\n",
              "      border-color: transparent;\n",
              "      border-left-color: var(--fill-color);\n",
              "      border-top-color: var(--fill-color);\n",
              "      border-right-color: var(--fill-color);\n",
              "    }\n",
              "    40% {\n",
              "      border-color: transparent;\n",
              "      border-right-color: var(--fill-color);\n",
              "      border-top-color: var(--fill-color);\n",
              "    }\n",
              "    60% {\n",
              "      border-color: transparent;\n",
              "      border-right-color: var(--fill-color);\n",
              "    }\n",
              "    80% {\n",
              "      border-color: transparent;\n",
              "      border-right-color: var(--fill-color);\n",
              "      border-bottom-color: var(--fill-color);\n",
              "    }\n",
              "    90% {\n",
              "      border-color: transparent;\n",
              "      border-bottom-color: var(--fill-color);\n",
              "    }\n",
              "  }\n",
              "</style>\n",
              "\n",
              "  <script>\n",
              "    async function quickchart(key) {\n",
              "      const quickchartButtonEl =\n",
              "        document.querySelector('#' + key + ' button');\n",
              "      quickchartButtonEl.disabled = true;  // To prevent multiple clicks.\n",
              "      quickchartButtonEl.classList.add('colab-df-spinner');\n",
              "      try {\n",
              "        const charts = await google.colab.kernel.invokeFunction(\n",
              "            'suggestCharts', [key], {});\n",
              "      } catch (error) {\n",
              "        console.error('Error during call to suggestCharts:', error);\n",
              "      }\n",
              "      quickchartButtonEl.classList.remove('colab-df-spinner');\n",
              "      quickchartButtonEl.classList.add('colab-df-quickchart-complete');\n",
              "    }\n",
              "    (() => {\n",
              "      let quickchartButtonEl =\n",
              "        document.querySelector('#df-cc975537-22e4-4dd7-8e45-f016133495d5 button');\n",
              "      quickchartButtonEl.style.display =\n",
              "        google.colab.kernel.accessAllowed ? 'block' : 'none';\n",
              "    })();\n",
              "  </script>\n",
              "</div>\n",
              "    </div>\n",
              "  </div>\n"
            ]
          },
          "metadata": {},
          "execution_count": 6
        }
      ]
    },
    {
      "cell_type": "code",
      "source": [
        "risk.describe(include='object')"
      ],
      "metadata": {
        "colab": {
          "base_uri": "https://localhost:8080/",
          "height": 299
        },
        "id": "pYCJ_NyayAQM",
        "outputId": "f8292891-ee21-469a-986b-6396de2a747f"
      },
      "execution_count": 7,
      "outputs": [
        {
          "output_type": "execute_result",
          "data": {
            "text/plain": [
              "       Symbol                      Name  \\\n",
              "count     503                       503   \n",
              "unique    503                       503   \n",
              "top         A  Agilent Technologies Inc   \n",
              "freq        1                         1   \n",
              "\n",
              "                                                  Address      Sector  \\\n",
              "count                                                 501         501   \n",
              "unique                                                498          11   \n",
              "top     1211 Avenue of the Americas\\nNew York, NY 1003...  Technology   \n",
              "freq                                                    2          75   \n",
              "\n",
              "                            Industry Full Time Employees  \\\n",
              "count                            501                 496   \n",
              "unique                           114                 398   \n",
              "top     Utilities—Regulated Electric              25,000   \n",
              "freq                              23                   5   \n",
              "\n",
              "                                              Description Controversy Level  \\\n",
              "count                                                 501               404   \n",
              "unique                                                498                 6   \n",
              "top     Fox Corporation operates as a news, sports, an...          Moderate   \n",
              "freq                                                    2               197   \n",
              "\n",
              "       ESG Risk Percentile ESG Risk Level  \n",
              "count                  433            376  \n",
              "unique                  87              5  \n",
              "top        13th percentile         Medium  \n",
              "freq                    18            134  "
            ],
            "text/html": [
              "\n",
              "  <div id=\"df-2597f759-b810-4473-ac43-6cebcc7d9585\" class=\"colab-df-container\">\n",
              "    <div>\n",
              "<style scoped>\n",
              "    .dataframe tbody tr th:only-of-type {\n",
              "        vertical-align: middle;\n",
              "    }\n",
              "\n",
              "    .dataframe tbody tr th {\n",
              "        vertical-align: top;\n",
              "    }\n",
              "\n",
              "    .dataframe thead th {\n",
              "        text-align: right;\n",
              "    }\n",
              "</style>\n",
              "<table border=\"1\" class=\"dataframe\">\n",
              "  <thead>\n",
              "    <tr style=\"text-align: right;\">\n",
              "      <th></th>\n",
              "      <th>Symbol</th>\n",
              "      <th>Name</th>\n",
              "      <th>Address</th>\n",
              "      <th>Sector</th>\n",
              "      <th>Industry</th>\n",
              "      <th>Full Time Employees</th>\n",
              "      <th>Description</th>\n",
              "      <th>Controversy Level</th>\n",
              "      <th>ESG Risk Percentile</th>\n",
              "      <th>ESG Risk Level</th>\n",
              "    </tr>\n",
              "  </thead>\n",
              "  <tbody>\n",
              "    <tr>\n",
              "      <th>count</th>\n",
              "      <td>503</td>\n",
              "      <td>503</td>\n",
              "      <td>501</td>\n",
              "      <td>501</td>\n",
              "      <td>501</td>\n",
              "      <td>496</td>\n",
              "      <td>501</td>\n",
              "      <td>404</td>\n",
              "      <td>433</td>\n",
              "      <td>376</td>\n",
              "    </tr>\n",
              "    <tr>\n",
              "      <th>unique</th>\n",
              "      <td>503</td>\n",
              "      <td>503</td>\n",
              "      <td>498</td>\n",
              "      <td>11</td>\n",
              "      <td>114</td>\n",
              "      <td>398</td>\n",
              "      <td>498</td>\n",
              "      <td>6</td>\n",
              "      <td>87</td>\n",
              "      <td>5</td>\n",
              "    </tr>\n",
              "    <tr>\n",
              "      <th>top</th>\n",
              "      <td>A</td>\n",
              "      <td>Agilent Technologies Inc</td>\n",
              "      <td>1211 Avenue of the Americas\\nNew York, NY 1003...</td>\n",
              "      <td>Technology</td>\n",
              "      <td>Utilities—Regulated Electric</td>\n",
              "      <td>25,000</td>\n",
              "      <td>Fox Corporation operates as a news, sports, an...</td>\n",
              "      <td>Moderate</td>\n",
              "      <td>13th percentile</td>\n",
              "      <td>Medium</td>\n",
              "    </tr>\n",
              "    <tr>\n",
              "      <th>freq</th>\n",
              "      <td>1</td>\n",
              "      <td>1</td>\n",
              "      <td>2</td>\n",
              "      <td>75</td>\n",
              "      <td>23</td>\n",
              "      <td>5</td>\n",
              "      <td>2</td>\n",
              "      <td>197</td>\n",
              "      <td>18</td>\n",
              "      <td>134</td>\n",
              "    </tr>\n",
              "  </tbody>\n",
              "</table>\n",
              "</div>\n",
              "    <div class=\"colab-df-buttons\">\n",
              "\n",
              "  <div class=\"colab-df-container\">\n",
              "    <button class=\"colab-df-convert\" onclick=\"convertToInteractive('df-2597f759-b810-4473-ac43-6cebcc7d9585')\"\n",
              "            title=\"Convert this dataframe to an interactive table.\"\n",
              "            style=\"display:none;\">\n",
              "\n",
              "  <svg xmlns=\"http://www.w3.org/2000/svg\" height=\"24px\" viewBox=\"0 -960 960 960\">\n",
              "    <path d=\"M120-120v-720h720v720H120Zm60-500h600v-160H180v160Zm220 220h160v-160H400v160Zm0 220h160v-160H400v160ZM180-400h160v-160H180v160Zm440 0h160v-160H620v160ZM180-180h160v-160H180v160Zm440 0h160v-160H620v160Z\"/>\n",
              "  </svg>\n",
              "    </button>\n",
              "\n",
              "  <style>\n",
              "    .colab-df-container {\n",
              "      display:flex;\n",
              "      gap: 12px;\n",
              "    }\n",
              "\n",
              "    .colab-df-convert {\n",
              "      background-color: #E8F0FE;\n",
              "      border: none;\n",
              "      border-radius: 50%;\n",
              "      cursor: pointer;\n",
              "      display: none;\n",
              "      fill: #1967D2;\n",
              "      height: 32px;\n",
              "      padding: 0 0 0 0;\n",
              "      width: 32px;\n",
              "    }\n",
              "\n",
              "    .colab-df-convert:hover {\n",
              "      background-color: #E2EBFA;\n",
              "      box-shadow: 0px 1px 2px rgba(60, 64, 67, 0.3), 0px 1px 3px 1px rgba(60, 64, 67, 0.15);\n",
              "      fill: #174EA6;\n",
              "    }\n",
              "\n",
              "    .colab-df-buttons div {\n",
              "      margin-bottom: 4px;\n",
              "    }\n",
              "\n",
              "    [theme=dark] .colab-df-convert {\n",
              "      background-color: #3B4455;\n",
              "      fill: #D2E3FC;\n",
              "    }\n",
              "\n",
              "    [theme=dark] .colab-df-convert:hover {\n",
              "      background-color: #434B5C;\n",
              "      box-shadow: 0px 1px 3px 1px rgba(0, 0, 0, 0.15);\n",
              "      filter: drop-shadow(0px 1px 2px rgba(0, 0, 0, 0.3));\n",
              "      fill: #FFFFFF;\n",
              "    }\n",
              "  </style>\n",
              "\n",
              "    <script>\n",
              "      const buttonEl =\n",
              "        document.querySelector('#df-2597f759-b810-4473-ac43-6cebcc7d9585 button.colab-df-convert');\n",
              "      buttonEl.style.display =\n",
              "        google.colab.kernel.accessAllowed ? 'block' : 'none';\n",
              "\n",
              "      async function convertToInteractive(key) {\n",
              "        const element = document.querySelector('#df-2597f759-b810-4473-ac43-6cebcc7d9585');\n",
              "        const dataTable =\n",
              "          await google.colab.kernel.invokeFunction('convertToInteractive',\n",
              "                                                    [key], {});\n",
              "        if (!dataTable) return;\n",
              "\n",
              "        const docLinkHtml = 'Like what you see? Visit the ' +\n",
              "          '<a target=\"_blank\" href=https://colab.research.google.com/notebooks/data_table.ipynb>data table notebook</a>'\n",
              "          + ' to learn more about interactive tables.';\n",
              "        element.innerHTML = '';\n",
              "        dataTable['output_type'] = 'display_data';\n",
              "        await google.colab.output.renderOutput(dataTable, element);\n",
              "        const docLink = document.createElement('div');\n",
              "        docLink.innerHTML = docLinkHtml;\n",
              "        element.appendChild(docLink);\n",
              "      }\n",
              "    </script>\n",
              "  </div>\n",
              "\n",
              "\n",
              "<div id=\"df-c506bf80-fd9c-46b1-867f-ebcb7e3fd020\">\n",
              "  <button class=\"colab-df-quickchart\" onclick=\"quickchart('df-c506bf80-fd9c-46b1-867f-ebcb7e3fd020')\"\n",
              "            title=\"Suggest charts.\"\n",
              "            style=\"display:none;\">\n",
              "\n",
              "<svg xmlns=\"http://www.w3.org/2000/svg\" height=\"24px\"viewBox=\"0 0 24 24\"\n",
              "     width=\"24px\">\n",
              "    <g>\n",
              "        <path d=\"M19 3H5c-1.1 0-2 .9-2 2v14c0 1.1.9 2 2 2h14c1.1 0 2-.9 2-2V5c0-1.1-.9-2-2-2zM9 17H7v-7h2v7zm4 0h-2V7h2v10zm4 0h-2v-4h2v4z\"/>\n",
              "    </g>\n",
              "</svg>\n",
              "  </button>\n",
              "\n",
              "<style>\n",
              "  .colab-df-quickchart {\n",
              "      --bg-color: #E8F0FE;\n",
              "      --fill-color: #1967D2;\n",
              "      --hover-bg-color: #E2EBFA;\n",
              "      --hover-fill-color: #174EA6;\n",
              "      --disabled-fill-color: #AAA;\n",
              "      --disabled-bg-color: #DDD;\n",
              "  }\n",
              "\n",
              "  [theme=dark] .colab-df-quickchart {\n",
              "      --bg-color: #3B4455;\n",
              "      --fill-color: #D2E3FC;\n",
              "      --hover-bg-color: #434B5C;\n",
              "      --hover-fill-color: #FFFFFF;\n",
              "      --disabled-bg-color: #3B4455;\n",
              "      --disabled-fill-color: #666;\n",
              "  }\n",
              "\n",
              "  .colab-df-quickchart {\n",
              "    background-color: var(--bg-color);\n",
              "    border: none;\n",
              "    border-radius: 50%;\n",
              "    cursor: pointer;\n",
              "    display: none;\n",
              "    fill: var(--fill-color);\n",
              "    height: 32px;\n",
              "    padding: 0;\n",
              "    width: 32px;\n",
              "  }\n",
              "\n",
              "  .colab-df-quickchart:hover {\n",
              "    background-color: var(--hover-bg-color);\n",
              "    box-shadow: 0 1px 2px rgba(60, 64, 67, 0.3), 0 1px 3px 1px rgba(60, 64, 67, 0.15);\n",
              "    fill: var(--button-hover-fill-color);\n",
              "  }\n",
              "\n",
              "  .colab-df-quickchart-complete:disabled,\n",
              "  .colab-df-quickchart-complete:disabled:hover {\n",
              "    background-color: var(--disabled-bg-color);\n",
              "    fill: var(--disabled-fill-color);\n",
              "    box-shadow: none;\n",
              "  }\n",
              "\n",
              "  .colab-df-spinner {\n",
              "    border: 2px solid var(--fill-color);\n",
              "    border-color: transparent;\n",
              "    border-bottom-color: var(--fill-color);\n",
              "    animation:\n",
              "      spin 1s steps(1) infinite;\n",
              "  }\n",
              "\n",
              "  @keyframes spin {\n",
              "    0% {\n",
              "      border-color: transparent;\n",
              "      border-bottom-color: var(--fill-color);\n",
              "      border-left-color: var(--fill-color);\n",
              "    }\n",
              "    20% {\n",
              "      border-color: transparent;\n",
              "      border-left-color: var(--fill-color);\n",
              "      border-top-color: var(--fill-color);\n",
              "    }\n",
              "    30% {\n",
              "      border-color: transparent;\n",
              "      border-left-color: var(--fill-color);\n",
              "      border-top-color: var(--fill-color);\n",
              "      border-right-color: var(--fill-color);\n",
              "    }\n",
              "    40% {\n",
              "      border-color: transparent;\n",
              "      border-right-color: var(--fill-color);\n",
              "      border-top-color: var(--fill-color);\n",
              "    }\n",
              "    60% {\n",
              "      border-color: transparent;\n",
              "      border-right-color: var(--fill-color);\n",
              "    }\n",
              "    80% {\n",
              "      border-color: transparent;\n",
              "      border-right-color: var(--fill-color);\n",
              "      border-bottom-color: var(--fill-color);\n",
              "    }\n",
              "    90% {\n",
              "      border-color: transparent;\n",
              "      border-bottom-color: var(--fill-color);\n",
              "    }\n",
              "  }\n",
              "</style>\n",
              "\n",
              "  <script>\n",
              "    async function quickchart(key) {\n",
              "      const quickchartButtonEl =\n",
              "        document.querySelector('#' + key + ' button');\n",
              "      quickchartButtonEl.disabled = true;  // To prevent multiple clicks.\n",
              "      quickchartButtonEl.classList.add('colab-df-spinner');\n",
              "      try {\n",
              "        const charts = await google.colab.kernel.invokeFunction(\n",
              "            'suggestCharts', [key], {});\n",
              "      } catch (error) {\n",
              "        console.error('Error during call to suggestCharts:', error);\n",
              "      }\n",
              "      quickchartButtonEl.classList.remove('colab-df-spinner');\n",
              "      quickchartButtonEl.classList.add('colab-df-quickchart-complete');\n",
              "    }\n",
              "    (() => {\n",
              "      let quickchartButtonEl =\n",
              "        document.querySelector('#df-c506bf80-fd9c-46b1-867f-ebcb7e3fd020 button');\n",
              "      quickchartButtonEl.style.display =\n",
              "        google.colab.kernel.accessAllowed ? 'block' : 'none';\n",
              "    })();\n",
              "  </script>\n",
              "</div>\n",
              "    </div>\n",
              "  </div>\n"
            ]
          },
          "metadata": {},
          "execution_count": 7
        }
      ]
    },
    {
      "cell_type": "code",
      "source": [
        "#Genero una copia de mi dataset\n",
        "copy_risk = risk"
      ],
      "metadata": {
        "id": "xmyDZuk94V2p"
      },
      "execution_count": 8,
      "outputs": []
    },
    {
      "cell_type": "code",
      "source": [
        "copy_risk.info()"
      ],
      "metadata": {
        "colab": {
          "base_uri": "https://localhost:8080/"
        },
        "id": "9ovhCYkRXFQ9",
        "outputId": "a31f7356-8773-4f7b-de01-066e7cf2a904"
      },
      "execution_count": 9,
      "outputs": [
        {
          "output_type": "stream",
          "name": "stdout",
          "text": [
            "<class 'pandas.core.frame.DataFrame'>\n",
            "RangeIndex: 503 entries, 0 to 502\n",
            "Data columns (total 15 columns):\n",
            " #   Column                  Non-Null Count  Dtype  \n",
            "---  ------                  --------------  -----  \n",
            " 0   Symbol                  503 non-null    object \n",
            " 1   Name                    503 non-null    object \n",
            " 2   Address                 501 non-null    object \n",
            " 3   Sector                  501 non-null    object \n",
            " 4   Industry                501 non-null    object \n",
            " 5   Full Time Employees     496 non-null    object \n",
            " 6   Description             501 non-null    object \n",
            " 7   Total ESG Risk score    433 non-null    float64\n",
            " 8   Environment Risk Score  433 non-null    float64\n",
            " 9   Governance Risk Score   433 non-null    float64\n",
            " 10  Social Risk Score       433 non-null    float64\n",
            " 11  Controversy Level       404 non-null    object \n",
            " 12  Controversy Score       433 non-null    float64\n",
            " 13  ESG Risk Percentile     433 non-null    object \n",
            " 14  ESG Risk Level          376 non-null    object \n",
            "dtypes: float64(5), object(10)\n",
            "memory usage: 59.1+ KB\n"
          ]
        }
      ]
    },
    {
      "cell_type": "code",
      "source": [
        "risk_2 = risk.drop(columns=['Symbol'])"
      ],
      "metadata": {
        "id": "F4DA23fxWs0b"
      },
      "execution_count": 10,
      "outputs": []
    },
    {
      "cell_type": "code",
      "source": [
        "risk_2.info()"
      ],
      "metadata": {
        "colab": {
          "base_uri": "https://localhost:8080/"
        },
        "id": "v0nU2inHXBDg",
        "outputId": "45001d32-875b-4afe-e571-efd6c75be122"
      },
      "execution_count": 11,
      "outputs": [
        {
          "output_type": "stream",
          "name": "stdout",
          "text": [
            "<class 'pandas.core.frame.DataFrame'>\n",
            "RangeIndex: 503 entries, 0 to 502\n",
            "Data columns (total 14 columns):\n",
            " #   Column                  Non-Null Count  Dtype  \n",
            "---  ------                  --------------  -----  \n",
            " 0   Name                    503 non-null    object \n",
            " 1   Address                 501 non-null    object \n",
            " 2   Sector                  501 non-null    object \n",
            " 3   Industry                501 non-null    object \n",
            " 4   Full Time Employees     496 non-null    object \n",
            " 5   Description             501 non-null    object \n",
            " 6   Total ESG Risk score    433 non-null    float64\n",
            " 7   Environment Risk Score  433 non-null    float64\n",
            " 8   Governance Risk Score   433 non-null    float64\n",
            " 9   Social Risk Score       433 non-null    float64\n",
            " 10  Controversy Level       404 non-null    object \n",
            " 11  Controversy Score       433 non-null    float64\n",
            " 12  ESG Risk Percentile     433 non-null    object \n",
            " 13  ESG Risk Level          376 non-null    object \n",
            "dtypes: float64(5), object(9)\n",
            "memory usage: 55.1+ KB\n"
          ]
        }
      ]
    },
    {
      "cell_type": "markdown",
      "source": [
        "## Detección y corrección de datos atípicos"
      ],
      "metadata": {
        "id": "a8tAXzQMXX98"
      }
    },
    {
      "cell_type": "markdown",
      "source": [
        "### Controversy Score"
      ],
      "metadata": {
        "id": "WhRbo-PoAYUL"
      }
    },
    {
      "cell_type": "code",
      "source": [
        "sns.boxplot(data=risk_2, x='Controversy Score')"
      ],
      "metadata": {
        "colab": {
          "base_uri": "https://localhost:8080/",
          "height": 466
        },
        "id": "k3_fyQ2ZAZdK",
        "outputId": "d8901d1e-2188-42f7-cb2b-1c2998a8a079"
      },
      "execution_count": 12,
      "outputs": [
        {
          "output_type": "execute_result",
          "data": {
            "text/plain": [
              "<Axes: xlabel='Controversy Score'>"
            ]
          },
          "metadata": {},
          "execution_count": 12
        },
        {
          "output_type": "display_data",
          "data": {
            "text/plain": [
              "<Figure size 640x480 with 1 Axes>"
            ],
            "image/png": "[encoded data removed]"
          },
          "metadata": {}
        }
      ]
    },
    {
      "cell_type": "code",
      "source": [
        "#La media y mediana son tan cercanas que no se nota la mediana en el gráfico\n",
        "risk_2['Controversy Score'].describe()"
      ],
      "metadata": {
        "colab": {
          "base_uri": "https://localhost:8080/"
        },
        "id": "GBZ6QIyFKN9k",
        "outputId": "b6e7de9b-5911-4d37-c07b-f204e9f58014"
      },
      "execution_count": 13,
      "outputs": [
        {
          "output_type": "execute_result",
          "data": {
            "text/plain": [
              "count    433.000000\n",
              "mean       1.896074\n",
              "std        0.940748\n",
              "min        0.000000\n",
              "25%        1.000000\n",
              "50%        2.000000\n",
              "75%        2.000000\n",
              "max        5.000000\n",
              "Name: Controversy Score, dtype: float64"
            ]
          },
          "metadata": {},
          "execution_count": 13
        }
      ]
    },
    {
      "cell_type": "code",
      "source": [
        "sns.countplot(data=risk_2, x='Controversy Score', order=[2.0,1.0,3.0,0.0,4.0,5.0])"
      ],
      "metadata": {
        "colab": {
          "base_uri": "https://localhost:8080/",
          "height": 466
        },
        "id": "-Byk_HNHBQgF",
        "outputId": "03ca1c70-2fda-4473-a4d4-073827e47141"
      },
      "execution_count": 14,
      "outputs": [
        {
          "output_type": "execute_result",
          "data": {
            "text/plain": [
              "<Axes: xlabel='Controversy Score', ylabel='count'>"
            ]
          },
          "metadata": {},
          "execution_count": 14
        },
        {
          "output_type": "display_data",
          "data": {
            "text/plain": [
              "<Figure size 640x480 with 1 Axes>"
            ],
            "image/png": "[encoded data removed]"
          },
          "metadata": {}
        }
      ]
    },
    {
      "cell_type": "code",
      "source": [
        "#Hay que tener en cuenta la relación de controversy level y controversy score *revisar\n",
        "risk.loc[risk['Controversy Score']>3].head(1)"
      ],
      "metadata": {
        "colab": {
          "base_uri": "https://localhost:8080/",
          "height": 239
        },
        "id": "4l6i_HcTAfL2",
        "outputId": "e1eaa5b6-07ea-4b6a-df42-76cb0c80fb70"
      },
      "execution_count": null,
      "outputs": [
        {
          "output_type": "execute_result",
          "data": {
            "text/plain": [
              "   Symbol                     Name  \\\n",
              "45   ATVI  Activision Blizzard Inc   \n",
              "\n",
              "                                              Address                  Sector  \\\n",
              "45  2701 Olympic Boulevard Building B\\nSanta Monic...  Communication Services   \n",
              "\n",
              "                          Industry Full Time Employees  \\\n",
              "45  Electronic Gaming & Multimedia              13,000   \n",
              "\n",
              "                                          Description  Total ESG Risk score  \\\n",
              "45  Activision Blizzard, Inc., together with its s...                  19.0   \n",
              "\n",
              "    Environment Risk Score  Governance Risk Score  Social Risk Score  \\\n",
              "45                     0.2                    6.3               12.5   \n",
              "\n",
              "   Controversy Level  Controversy Score ESG Risk Percentile ESG Risk Level  \n",
              "45              High                4.0     22nd percentile            Low  "
            ],
            "text/html": [
              "\n",
              "  <div id=\"df-00b3ea68-4a3e-4155-9605-486c19d258a6\" class=\"colab-df-container\">\n",
              "    <div>\n",
              "<style scoped>\n",
              "    .dataframe tbody tr th:only-of-type {\n",
              "        vertical-align: middle;\n",
              "    }\n",
              "\n",
              "    .dataframe tbody tr th {\n",
              "        vertical-align: top;\n",
              "    }\n",
              "\n",
              "    .dataframe thead th {\n",
              "        text-align: right;\n",
              "    }\n",
              "</style>\n",
              "<table border=\"1\" class=\"dataframe\">\n",
              "  <thead>\n",
              "    <tr style=\"text-align: right;\">\n",
              "      <th></th>\n",
              "      <th>Symbol</th>\n",
              "      <th>Name</th>\n",
              "      <th>Address</th>\n",
              "      <th>Sector</th>\n",
              "      <th>Industry</th>\n",
              "      <th>Full Time Employees</th>\n",
              "      <th>Description</th>\n",
              "      <th>Total ESG Risk score</th>\n",
              "      <th>Environment Risk Score</th>\n",
              "      <th>Governance Risk Score</th>\n",
              "      <th>Social Risk Score</th>\n",
              "      <th>Controversy Level</th>\n",
              "      <th>Controversy Score</th>\n",
              "      <th>ESG Risk Percentile</th>\n",
              "      <th>ESG Risk Level</th>\n",
              "    </tr>\n",
              "  </thead>\n",
              "  <tbody>\n",
              "    <tr>\n",
              "      <th>45</th>\n",
              "      <td>ATVI</td>\n",
              "      <td>Activision Blizzard Inc</td>\n",
              "      <td>2701 Olympic Boulevard Building B\\nSanta Monic...</td>\n",
              "      <td>Communication Services</td>\n",
              "      <td>Electronic Gaming &amp; Multimedia</td>\n",
              "      <td>13,000</td>\n",
              "      <td>Activision Blizzard, Inc., together with its s...</td>\n",
              "      <td>19.0</td>\n",
              "      <td>0.2</td>\n",
              "      <td>6.3</td>\n",
              "      <td>12.5</td>\n",
              "      <td>High</td>\n",
              "      <td>4.0</td>\n",
              "      <td>22nd percentile</td>\n",
              "      <td>Low</td>\n",
              "    </tr>\n",
              "  </tbody>\n",
              "</table>\n",
              "</div>\n",
              "    <div class=\"colab-df-buttons\">\n",
              "\n",
              "  <div class=\"colab-df-container\">\n",
              "    <button class=\"colab-df-convert\" onclick=\"convertToInteractive('df-00b3ea68-4a3e-4155-9605-486c19d258a6')\"\n",
              "            title=\"Convert this dataframe to an interactive table.\"\n",
              "            style=\"display:none;\">\n",
              "\n",
              "  <svg xmlns=\"http://www.w3.org/2000/svg\" height=\"24px\" viewBox=\"0 -960 960 960\">\n",
              "    <path d=\"M120-120v-720h720v720H120Zm60-500h600v-160H180v160Zm220 220h160v-160H400v160Zm0 220h160v-160H400v160ZM180-400h160v-160H180v160Zm440 0h160v-160H620v160ZM180-180h160v-160H180v160Zm440 0h160v-160H620v160Z\"/>\n",
              "  </svg>\n",
              "    </button>\n",
              "\n",
              "  <style>\n",
              "    .colab-df-container {\n",
              "      display:flex;\n",
              "      gap: 12px;\n",
              "    }\n",
              "\n",
              "    .colab-df-convert {\n",
              "      background-color: #E8F0FE;\n",
              "      border: none;\n",
              "      border-radius: 50%;\n",
              "      cursor: pointer;\n",
              "      display: none;\n",
              "      fill: #1967D2;\n",
              "      height: 32px;\n",
              "      padding: 0 0 0 0;\n",
              "      width: 32px;\n",
              "    }\n",
              "\n",
              "    .colab-df-convert:hover {\n",
              "      background-color: #E2EBFA;\n",
              "      box-shadow: 0px 1px 2px rgba(60, 64, 67, 0.3), 0px 1px 3px 1px rgba(60, 64, 67, 0.15);\n",
              "      fill: #174EA6;\n",
              "    }\n",
              "\n",
              "    .colab-df-buttons div {\n",
              "      margin-bottom: 4px;\n",
              "    }\n",
              "\n",
              "    [theme=dark] .colab-df-convert {\n",
              "      background-color: #3B4455;\n",
              "      fill: #D2E3FC;\n",
              "    }\n",
              "\n",
              "    [theme=dark] .colab-df-convert:hover {\n",
              "      background-color: #434B5C;\n",
              "      box-shadow: 0px 1px 3px 1px rgba(0, 0, 0, 0.15);\n",
              "      filter: drop-shadow(0px 1px 2px rgba(0, 0, 0, 0.3));\n",
              "      fill: #FFFFFF;\n",
              "    }\n",
              "  </style>\n",
              "\n",
              "    <script>\n",
              "      const buttonEl =\n",
              "        document.querySelector('#df-00b3ea68-4a3e-4155-9605-486c19d258a6 button.colab-df-convert');\n",
              "      buttonEl.style.display =\n",
              "        google.colab.kernel.accessAllowed ? 'block' : 'none';\n",
              "\n",
              "      async function convertToInteractive(key) {\n",
              "        const element = document.querySelector('#df-00b3ea68-4a3e-4155-9605-486c19d258a6');\n",
              "        const dataTable =\n",
              "          await google.colab.kernel.invokeFunction('convertToInteractive',\n",
              "                                                    [key], {});\n",
              "        if (!dataTable) return;\n",
              "\n",
              "        const docLinkHtml = 'Like what you see? Visit the ' +\n",
              "          '<a target=\"_blank\" href=https://colab.research.google.com/notebooks/data_table.ipynb>data table notebook</a>'\n",
              "          + ' to learn more about interactive tables.';\n",
              "        element.innerHTML = '';\n",
              "        dataTable['output_type'] = 'display_data';\n",
              "        await google.colab.output.renderOutput(dataTable, element);\n",
              "        const docLink = document.createElement('div');\n",
              "        docLink.innerHTML = docLinkHtml;\n",
              "        element.appendChild(docLink);\n",
              "      }\n",
              "    </script>\n",
              "  </div>\n",
              "\n",
              "    </div>\n",
              "  </div>\n"
            ]
          },
          "metadata": {},
          "execution_count": 91
        }
      ]
    },
    {
      "cell_type": "markdown",
      "source": [
        "### Total ESG Risk score"
      ],
      "metadata": {
        "id": "xkmaqLu3-7eZ"
      }
    },
    {
      "cell_type": "code",
      "source": [
        "sns.boxplot(data=risk, x='Total ESG Risk score')"
      ],
      "metadata": {
        "colab": {
          "base_uri": "https://localhost:8080/",
          "height": 466
        },
        "id": "m0vvc9CK5zN6",
        "outputId": "dd477561-c463-41ad-ce50-5c810f811923"
      },
      "execution_count": null,
      "outputs": [
        {
          "output_type": "execute_result",
          "data": {
            "text/plain": [
              "<Axes: xlabel='Total ESG Risk score'>"
            ]
          },
          "metadata": {},
          "execution_count": 66
        },
        {
          "output_type": "display_data",
          "data": {
            "text/plain": [
              "<Figure size 640x480 with 1 Axes>"
            ],
            "image/png": "[encoded data removed]"
          },
          "metadata": {}
        }
      ]
    },
    {
      "cell_type": "code",
      "source": [
        "#Se hace un filtro para revisar los datos atípicos pero no se notan números anormales\n",
        "risk.loc[risk['Total ESG Risk score']> 40]"
      ],
      "metadata": {
        "colab": {
          "base_uri": "https://localhost:8080/",
          "height": 490
        },
        "id": "t4iXLBLC6Ymu",
        "outputId": "769e97b5-497e-4dca-d838-c0fe2f6f3d87"
      },
      "execution_count": null,
      "outputs": [
        {
          "output_type": "execute_result",
          "data": {
            "text/plain": [
              "    Symbol                       Name  \\\n",
              "122   CTRA         Coterra Energy Inc   \n",
              "200     GE        General Electric Co   \n",
              "318    MRO          Marathon Oil Corp   \n",
              "357    OXY  Occidental Petroleum Corp   \n",
              "\n",
              "                                               Address       Sector  \\\n",
              "122  Three Memorial City Plaza\\nSuite 1400 840 Gess...       Energy   \n",
              "200  5 Necco Street\\nBoston, MA 02210\\nUnited State...  Industrials   \n",
              "318  990 Town and Country Boulevard\\nHouston, TX 77...       Energy   \n",
              "357  5 Greenway Plaza\\nSuite 110\\nHouston, TX 77046...       Energy   \n",
              "\n",
              "                           Industry Full Time Employees  \\\n",
              "122                   Oil & Gas E&P                 981   \n",
              "200  Specialty Industrial Machinery             172,000   \n",
              "318                   Oil & Gas E&P               1,570   \n",
              "357                   Oil & Gas E&P              11,973   \n",
              "\n",
              "                                           Description  Total ESG Risk score  \\\n",
              "122  Coterra Energy Inc., an independent oil and ga...                  46.0   \n",
              "200  General Electric Company operates as a high-te...                  41.0   \n",
              "318  Marathon Oil Corporation operates as an indepe...                  42.0   \n",
              "357  Occidental Petroleum Corporation, together wit...                  43.0   \n",
              "\n",
              "     Environment Risk Score  Governance Risk Score  Social Risk Score  \\\n",
              "122                    24.1                    8.8               13.1   \n",
              "200                    14.1                   11.6               15.0   \n",
              "318                    23.9                    8.0               10.1   \n",
              "357                    25.0                    7.0               12.0   \n",
              "\n",
              "    Controversy Level  Controversy Score ESG Risk Percentile ESG Risk Level  \n",
              "122          Moderate                2.0     96th percentile         Severe  \n",
              "200       Significant                3.0     90th percentile         Severe  \n",
              "318          Moderate                2.0     92nd percentile         Severe  \n",
              "357          Moderate                2.0     93rd percentile            NaN  "
            ],
            "text/html": [
              "\n",
              "  <div id=\"df-14d05bde-4df1-4837-ba4c-01024e0174ba\" class=\"colab-df-container\">\n",
              "    <div>\n",
              "<style scoped>\n",
              "    .dataframe tbody tr th:only-of-type {\n",
              "        vertical-align: middle;\n",
              "    }\n",
              "\n",
              "    .dataframe tbody tr th {\n",
              "        vertical-align: top;\n",
              "    }\n",
              "\n",
              "    .dataframe thead th {\n",
              "        text-align: right;\n",
              "    }\n",
              "</style>\n",
              "<table border=\"1\" class=\"dataframe\">\n",
              "  <thead>\n",
              "    <tr style=\"text-align: right;\">\n",
              "      <th></th>\n",
              "      <th>Symbol</th>\n",
              "      <th>Name</th>\n",
              "      <th>Address</th>\n",
              "      <th>Sector</th>\n",
              "      <th>Industry</th>\n",
              "      <th>Full Time Employees</th>\n",
              "      <th>Description</th>\n",
              "      <th>Total ESG Risk score</th>\n",
              "      <th>Environment Risk Score</th>\n",
              "      <th>Governance Risk Score</th>\n",
              "      <th>Social Risk Score</th>\n",
              "      <th>Controversy Level</th>\n",
              "      <th>Controversy Score</th>\n",
              "      <th>ESG Risk Percentile</th>\n",
              "      <th>ESG Risk Level</th>\n",
              "    </tr>\n",
              "  </thead>\n",
              "  <tbody>\n",
              "    <tr>\n",
              "      <th>122</th>\n",
              "      <td>CTRA</td>\n",
              "      <td>Coterra Energy Inc</td>\n",
              "      <td>Three Memorial City Plaza\\nSuite 1400 840 Gess...</td>\n",
              "      <td>Energy</td>\n",
              "      <td>Oil &amp; Gas E&amp;P</td>\n",
              "      <td>981</td>\n",
              "      <td>Coterra Energy Inc., an independent oil and ga...</td>\n",
              "      <td>46.0</td>\n",
              "      <td>24.1</td>\n",
              "      <td>8.8</td>\n",
              "      <td>13.1</td>\n",
              "      <td>Moderate</td>\n",
              "      <td>2.0</td>\n",
              "      <td>96th percentile</td>\n",
              "      <td>Severe</td>\n",
              "    </tr>\n",
              "    <tr>\n",
              "      <th>200</th>\n",
              "      <td>GE</td>\n",
              "      <td>General Electric Co</td>\n",
              "      <td>5 Necco Street\\nBoston, MA 02210\\nUnited State...</td>\n",
              "      <td>Industrials</td>\n",
              "      <td>Specialty Industrial Machinery</td>\n",
              "      <td>172,000</td>\n",
              "      <td>General Electric Company operates as a high-te...</td>\n",
              "      <td>41.0</td>\n",
              "      <td>14.1</td>\n",
              "      <td>11.6</td>\n",
              "      <td>15.0</td>\n",
              "      <td>Significant</td>\n",
              "      <td>3.0</td>\n",
              "      <td>90th percentile</td>\n",
              "      <td>Severe</td>\n",
              "    </tr>\n",
              "    <tr>\n",
              "      <th>318</th>\n",
              "      <td>MRO</td>\n",
              "      <td>Marathon Oil Corp</td>\n",
              "      <td>990 Town and Country Boulevard\\nHouston, TX 77...</td>\n",
              "      <td>Energy</td>\n",
              "      <td>Oil &amp; Gas E&amp;P</td>\n",
              "      <td>1,570</td>\n",
              "      <td>Marathon Oil Corporation operates as an indepe...</td>\n",
              "      <td>42.0</td>\n",
              "      <td>23.9</td>\n",
              "      <td>8.0</td>\n",
              "      <td>10.1</td>\n",
              "      <td>Moderate</td>\n",
              "      <td>2.0</td>\n",
              "      <td>92nd percentile</td>\n",
              "      <td>Severe</td>\n",
              "    </tr>\n",
              "    <tr>\n",
              "      <th>357</th>\n",
              "      <td>OXY</td>\n",
              "      <td>Occidental Petroleum Corp</td>\n",
              "      <td>5 Greenway Plaza\\nSuite 110\\nHouston, TX 77046...</td>\n",
              "      <td>Energy</td>\n",
              "      <td>Oil &amp; Gas E&amp;P</td>\n",
              "      <td>11,973</td>\n",
              "      <td>Occidental Petroleum Corporation, together wit...</td>\n",
              "      <td>43.0</td>\n",
              "      <td>25.0</td>\n",
              "      <td>7.0</td>\n",
              "      <td>12.0</td>\n",
              "      <td>Moderate</td>\n",
              "      <td>2.0</td>\n",
              "      <td>93rd percentile</td>\n",
              "      <td>NaN</td>\n",
              "    </tr>\n",
              "  </tbody>\n",
              "</table>\n",
              "</div>\n",
              "    <div class=\"colab-df-buttons\">\n",
              "\n",
              "  <div class=\"colab-df-container\">\n",
              "    <button class=\"colab-df-convert\" onclick=\"convertToInteractive('df-14d05bde-4df1-4837-ba4c-01024e0174ba')\"\n",
              "            title=\"Convert this dataframe to an interactive table.\"\n",
              "            style=\"display:none;\">\n",
              "\n",
              "  <svg xmlns=\"http://www.w3.org/2000/svg\" height=\"24px\" viewBox=\"0 -960 960 960\">\n",
              "    <path d=\"M120-120v-720h720v720H120Zm60-500h600v-160H180v160Zm220 220h160v-160H400v160Zm0 220h160v-160H400v160ZM180-400h160v-160H180v160Zm440 0h160v-160H620v160ZM180-180h160v-160H180v160Zm440 0h160v-160H620v160Z\"/>\n",
              "  </svg>\n",
              "    </button>\n",
              "\n",
              "  <style>\n",
              "    .colab-df-container {\n",
              "      display:flex;\n",
              "      gap: 12px;\n",
              "    }\n",
              "\n",
              "    .colab-df-convert {\n",
              "      background-color: #E8F0FE;\n",
              "      border: none;\n",
              "      border-radius: 50%;\n",
              "      cursor: pointer;\n",
              "      display: none;\n",
              "      fill: #1967D2;\n",
              "      height: 32px;\n",
              "      padding: 0 0 0 0;\n",
              "      width: 32px;\n",
              "    }\n",
              "\n",
              "    .colab-df-convert:hover {\n",
              "      background-color: #E2EBFA;\n",
              "      box-shadow: 0px 1px 2px rgba(60, 64, 67, 0.3), 0px 1px 3px 1px rgba(60, 64, 67, 0.15);\n",
              "      fill: #174EA6;\n",
              "    }\n",
              "\n",
              "    .colab-df-buttons div {\n",
              "      margin-bottom: 4px;\n",
              "    }\n",
              "\n",
              "    [theme=dark] .colab-df-convert {\n",
              "      background-color: #3B4455;\n",
              "      fill: #D2E3FC;\n",
              "    }\n",
              "\n",
              "    [theme=dark] .colab-df-convert:hover {\n",
              "      background-color: #434B5C;\n",
              "      box-shadow: 0px 1px 3px 1px rgba(0, 0, 0, 0.15);\n",
              "      filter: drop-shadow(0px 1px 2px rgba(0, 0, 0, 0.3));\n",
              "      fill: #FFFFFF;\n",
              "    }\n",
              "  </style>\n",
              "\n",
              "    <script>\n",
              "      const buttonEl =\n",
              "        document.querySelector('#df-14d05bde-4df1-4837-ba4c-01024e0174ba button.colab-df-convert');\n",
              "      buttonEl.style.display =\n",
              "        google.colab.kernel.accessAllowed ? 'block' : 'none';\n",
              "\n",
              "      async function convertToInteractive(key) {\n",
              "        const element = document.querySelector('#df-14d05bde-4df1-4837-ba4c-01024e0174ba');\n",
              "        const dataTable =\n",
              "          await google.colab.kernel.invokeFunction('convertToInteractive',\n",
              "                                                    [key], {});\n",
              "        if (!dataTable) return;\n",
              "\n",
              "        const docLinkHtml = 'Like what you see? Visit the ' +\n",
              "          '<a target=\"_blank\" href=https://colab.research.google.com/notebooks/data_table.ipynb>data table notebook</a>'\n",
              "          + ' to learn more about interactive tables.';\n",
              "        element.innerHTML = '';\n",
              "        dataTable['output_type'] = 'display_data';\n",
              "        await google.colab.output.renderOutput(dataTable, element);\n",
              "        const docLink = document.createElement('div');\n",
              "        docLink.innerHTML = docLinkHtml;\n",
              "        element.appendChild(docLink);\n",
              "      }\n",
              "    </script>\n",
              "  </div>\n",
              "\n",
              "    </div>\n",
              "  </div>\n"
            ]
          },
          "metadata": {},
          "execution_count": 71
        }
      ]
    },
    {
      "cell_type": "markdown",
      "source": [
        "### Environment Risk Score"
      ],
      "metadata": {
        "id": "gp6C8Fol-3dr"
      }
    },
    {
      "cell_type": "code",
      "source": [
        "sns.boxplot(data=risk, x='Environment Risk Score')"
      ],
      "metadata": {
        "colab": {
          "base_uri": "https://localhost:8080/",
          "height": 466
        },
        "id": "3FOmg5qB7_Gg",
        "outputId": "a1b93071-1453-4f92-c12c-f402a88c26f4"
      },
      "execution_count": null,
      "outputs": [
        {
          "output_type": "execute_result",
          "data": {
            "text/plain": [
              "<Axes: xlabel='Environment Risk Score'>"
            ]
          },
          "metadata": {},
          "execution_count": 74
        },
        {
          "output_type": "display_data",
          "data": {
            "text/plain": [
              "<Figure size 640x480 with 1 Axes>"
            ],
            "image/png": "[encoded data removed]"
          },
          "metadata": {}
        }
      ]
    },
    {
      "cell_type": "code",
      "source": [
        "risk.loc[risk['Environment Risk Score']> 20].head(2)"
      ],
      "metadata": {
        "colab": {
          "base_uri": "https://localhost:8080/",
          "height": 323
        },
        "id": "rS8JI46_8HY7",
        "outputId": "b990b9ff-806d-4e30-bf7a-1c77809fdfcf"
      },
      "execution_count": null,
      "outputs": [
        {
          "output_type": "execute_result",
          "data": {
            "text/plain": [
              "    Symbol                Name  \\\n",
              "39     APA            Apa Corp   \n",
              "122   CTRA  Coterra Energy Inc   \n",
              "\n",
              "                                               Address  Sector       Industry  \\\n",
              "39   2000 Post Oak Boulevard\\nSuite 100 One Post Oa...  Energy  Oil & Gas E&P   \n",
              "122  Three Memorial City Plaza\\nSuite 1400 840 Gess...  Energy  Oil & Gas E&P   \n",
              "\n",
              "    Full Time Employees                                        Description  \\\n",
              "39                2,273  APA Corporation, through its subsidiaries, exp...   \n",
              "122                 981  Coterra Energy Inc., an independent oil and ga...   \n",
              "\n",
              "     Total ESG Risk score  Environment Risk Score  Governance Risk Score  \\\n",
              "39                   39.0                    22.0                    8.0   \n",
              "122                  46.0                    24.1                    8.8   \n",
              "\n",
              "     Social Risk Score Controversy Level  Controversy Score  \\\n",
              "39                 8.9          Moderate                2.0   \n",
              "122               13.1          Moderate                2.0   \n",
              "\n",
              "    ESG Risk Percentile ESG Risk Level  \n",
              "39      83rd percentile           High  \n",
              "122     96th percentile         Severe  "
            ],
            "text/html": [
              "\n",
              "  <div id=\"df-c0d2da66-3af6-4b47-b74f-abda4087005d\" class=\"colab-df-container\">\n",
              "    <div>\n",
              "<style scoped>\n",
              "    .dataframe tbody tr th:only-of-type {\n",
              "        vertical-align: middle;\n",
              "    }\n",
              "\n",
              "    .dataframe tbody tr th {\n",
              "        vertical-align: top;\n",
              "    }\n",
              "\n",
              "    .dataframe thead th {\n",
              "        text-align: right;\n",
              "    }\n",
              "</style>\n",
              "<table border=\"1\" class=\"dataframe\">\n",
              "  <thead>\n",
              "    <tr style=\"text-align: right;\">\n",
              "      <th></th>\n",
              "      <th>Symbol</th>\n",
              "      <th>Name</th>\n",
              "      <th>Address</th>\n",
              "      <th>Sector</th>\n",
              "      <th>Industry</th>\n",
              "      <th>Full Time Employees</th>\n",
              "      <th>Description</th>\n",
              "      <th>Total ESG Risk score</th>\n",
              "      <th>Environment Risk Score</th>\n",
              "      <th>Governance Risk Score</th>\n",
              "      <th>Social Risk Score</th>\n",
              "      <th>Controversy Level</th>\n",
              "      <th>Controversy Score</th>\n",
              "      <th>ESG Risk Percentile</th>\n",
              "      <th>ESG Risk Level</th>\n",
              "    </tr>\n",
              "  </thead>\n",
              "  <tbody>\n",
              "    <tr>\n",
              "      <th>39</th>\n",
              "      <td>APA</td>\n",
              "      <td>Apa Corp</td>\n",
              "      <td>2000 Post Oak Boulevard\\nSuite 100 One Post Oa...</td>\n",
              "      <td>Energy</td>\n",
              "      <td>Oil &amp; Gas E&amp;P</td>\n",
              "      <td>2,273</td>\n",
              "      <td>APA Corporation, through its subsidiaries, exp...</td>\n",
              "      <td>39.0</td>\n",
              "      <td>22.0</td>\n",
              "      <td>8.0</td>\n",
              "      <td>8.9</td>\n",
              "      <td>Moderate</td>\n",
              "      <td>2.0</td>\n",
              "      <td>83rd percentile</td>\n",
              "      <td>High</td>\n",
              "    </tr>\n",
              "    <tr>\n",
              "      <th>122</th>\n",
              "      <td>CTRA</td>\n",
              "      <td>Coterra Energy Inc</td>\n",
              "      <td>Three Memorial City Plaza\\nSuite 1400 840 Gess...</td>\n",
              "      <td>Energy</td>\n",
              "      <td>Oil &amp; Gas E&amp;P</td>\n",
              "      <td>981</td>\n",
              "      <td>Coterra Energy Inc., an independent oil and ga...</td>\n",
              "      <td>46.0</td>\n",
              "      <td>24.1</td>\n",
              "      <td>8.8</td>\n",
              "      <td>13.1</td>\n",
              "      <td>Moderate</td>\n",
              "      <td>2.0</td>\n",
              "      <td>96th percentile</td>\n",
              "      <td>Severe</td>\n",
              "    </tr>\n",
              "  </tbody>\n",
              "</table>\n",
              "</div>\n",
              "    <div class=\"colab-df-buttons\">\n",
              "\n",
              "  <div class=\"colab-df-container\">\n",
              "    <button class=\"colab-df-convert\" onclick=\"convertToInteractive('df-c0d2da66-3af6-4b47-b74f-abda4087005d')\"\n",
              "            title=\"Convert this dataframe to an interactive table.\"\n",
              "            style=\"display:none;\">\n",
              "\n",
              "  <svg xmlns=\"http://www.w3.org/2000/svg\" height=\"24px\" viewBox=\"0 -960 960 960\">\n",
              "    <path d=\"M120-120v-720h720v720H120Zm60-500h600v-160H180v160Zm220 220h160v-160H400v160Zm0 220h160v-160H400v160ZM180-400h160v-160H180v160Zm440 0h160v-160H620v160ZM180-180h160v-160H180v160Zm440 0h160v-160H620v160Z\"/>\n",
              "  </svg>\n",
              "    </button>\n",
              "\n",
              "  <style>\n",
              "    .colab-df-container {\n",
              "      display:flex;\n",
              "      gap: 12px;\n",
              "    }\n",
              "\n",
              "    .colab-df-convert {\n",
              "      background-color: #E8F0FE;\n",
              "      border: none;\n",
              "      border-radius: 50%;\n",
              "      cursor: pointer;\n",
              "      display: none;\n",
              "      fill: #1967D2;\n",
              "      height: 32px;\n",
              "      padding: 0 0 0 0;\n",
              "      width: 32px;\n",
              "    }\n",
              "\n",
              "    .colab-df-convert:hover {\n",
              "      background-color: #E2EBFA;\n",
              "      box-shadow: 0px 1px 2px rgba(60, 64, 67, 0.3), 0px 1px 3px 1px rgba(60, 64, 67, 0.15);\n",
              "      fill: #174EA6;\n",
              "    }\n",
              "\n",
              "    .colab-df-buttons div {\n",
              "      margin-bottom: 4px;\n",
              "    }\n",
              "\n",
              "    [theme=dark] .colab-df-convert {\n",
              "      background-color: #3B4455;\n",
              "      fill: #D2E3FC;\n",
              "    }\n",
              "\n",
              "    [theme=dark] .colab-df-convert:hover {\n",
              "      background-color: #434B5C;\n",
              "      box-shadow: 0px 1px 3px 1px rgba(0, 0, 0, 0.15);\n",
              "      filter: drop-shadow(0px 1px 2px rgba(0, 0, 0, 0.3));\n",
              "      fill: #FFFFFF;\n",
              "    }\n",
              "  </style>\n",
              "\n",
              "    <script>\n",
              "      const buttonEl =\n",
              "        document.querySelector('#df-c0d2da66-3af6-4b47-b74f-abda4087005d button.colab-df-convert');\n",
              "      buttonEl.style.display =\n",
              "        google.colab.kernel.accessAllowed ? 'block' : 'none';\n",
              "\n",
              "      async function convertToInteractive(key) {\n",
              "        const element = document.querySelector('#df-c0d2da66-3af6-4b47-b74f-abda4087005d');\n",
              "        const dataTable =\n",
              "          await google.colab.kernel.invokeFunction('convertToInteractive',\n",
              "                                                    [key], {});\n",
              "        if (!dataTable) return;\n",
              "\n",
              "        const docLinkHtml = 'Like what you see? Visit the ' +\n",
              "          '<a target=\"_blank\" href=https://colab.research.google.com/notebooks/data_table.ipynb>data table notebook</a>'\n",
              "          + ' to learn more about interactive tables.';\n",
              "        element.innerHTML = '';\n",
              "        dataTable['output_type'] = 'display_data';\n",
              "        await google.colab.output.renderOutput(dataTable, element);\n",
              "        const docLink = document.createElement('div');\n",
              "        docLink.innerHTML = docLinkHtml;\n",
              "        element.appendChild(docLink);\n",
              "      }\n",
              "    </script>\n",
              "  </div>\n",
              "\n",
              "    </div>\n",
              "  </div>\n"
            ]
          },
          "metadata": {},
          "execution_count": 6
        }
      ]
    },
    {
      "cell_type": "markdown",
      "source": [
        "### Governance Risk Score"
      ],
      "metadata": {
        "id": "umrsqruS_eb5"
      }
    },
    {
      "cell_type": "code",
      "source": [
        "sns.boxplot(data=risk, x='Governance Risk Score')"
      ],
      "metadata": {
        "colab": {
          "base_uri": "https://localhost:8080/",
          "height": 466
        },
        "id": "YwEY88k-_eEq",
        "outputId": "7dafc504-d46b-4c84-ab1a-3a7eb584ec51"
      },
      "execution_count": null,
      "outputs": [
        {
          "output_type": "execute_result",
          "data": {
            "text/plain": [
              "<Axes: xlabel='Governance Risk Score'>"
            ]
          },
          "metadata": {},
          "execution_count": 81
        },
        {
          "output_type": "display_data",
          "data": {
            "text/plain": [
              "<Figure size 640x480 with 1 Axes>"
            ],
            "image/png": "[encoded data removed]"
          },
          "metadata": {}
        }
      ]
    },
    {
      "cell_type": "code",
      "source": [
        "risk.loc[risk['Governance Risk Score']> 11].head()"
      ],
      "metadata": {
        "colab": {
          "base_uri": "https://localhost:8080/",
          "height": 573
        },
        "id": "LPnso7Yf-i_f",
        "outputId": "ed75652f-a7fe-4021-9367-6d6f4c39f418"
      },
      "execution_count": null,
      "outputs": [
        {
          "output_type": "execute_result",
          "data": {
            "text/plain": [
              "   Symbol                          Name  \\\n",
              "7    ACGL        Arch Capital Group Ltd   \n",
              "18    AIG  American International Group   \n",
              "32    AMP      Ameriprise Financial Inc   \n",
              "54    BAC          Bank of America Corp   \n",
              "65     BK  Bank of New York Mellon Corp   \n",
              "\n",
              "                                              Address              Sector  \\\n",
              "7   Waterloo House\\nGround Floor 100 Pitts Bay Roa...  Financial Services   \n",
              "18  1271 Avenue of the Americas\\nNew York, NY 1002...  Financial Services   \n",
              "32  1099 Ameriprise Financial Center\\nMinneapolis,...  Financial Services   \n",
              "54  Bank of America Corporate Center\\n100 North Tr...  Financial Services   \n",
              "65  240 Greenwich Street\\nNew York, NY 10286\\nUnit...  Financial Services   \n",
              "\n",
              "                 Industry Full Time Employees  \\\n",
              "7   Insurance—Diversified               5,800   \n",
              "18  Insurance—Diversified              26,200   \n",
              "32       Asset Management              13,500   \n",
              "54      Banks—Diversified             216,000   \n",
              "65       Asset Management              53,200   \n",
              "\n",
              "                                          Description  Total ESG Risk score  \\\n",
              "7   Arch Capital Group Ltd., together with its sub...                  21.0   \n",
              "18  American International Group, Inc. offers insu...                  25.0   \n",
              "32  Ameriprise Financial, Inc., through its subsid...                  23.0   \n",
              "54  Bank of America Corporation, through its subsi...                  27.0   \n",
              "65  The Bank of New York Mellon Corporation provid...                  21.0   \n",
              "\n",
              "    Environment Risk Score  Governance Risk Score  Social Risk Score  \\\n",
              "7                      1.0                   12.0                7.0   \n",
              "18                     2.0                   14.0               10.0   \n",
              "32                     2.6                   12.8                7.2   \n",
              "54                     1.6                   11.2               14.4   \n",
              "65                     1.1                   11.2                9.2   \n",
              "\n",
              "   Controversy Level  Controversy Score ESG Risk Percentile ESG Risk Level  \n",
              "7           Moderate                2.0     28th percentile            NaN  \n",
              "18          Moderate                2.0     45th percentile            NaN  \n",
              "32          Moderate                2.0     35th percentile         Medium  \n",
              "54       Significant                3.0     52nd percentile         Medium  \n",
              "65       Significant                3.0     30th percentile         Medium  "
            ],
            "text/html": [
              "\n",
              "  <div id=\"df-dc2ef447-2e81-42b1-b2d5-d286de41ee8f\" class=\"colab-df-container\">\n",
              "    <div>\n",
              "<style scoped>\n",
              "    .dataframe tbody tr th:only-of-type {\n",
              "        vertical-align: middle;\n",
              "    }\n",
              "\n",
              "    .dataframe tbody tr th {\n",
              "        vertical-align: top;\n",
              "    }\n",
              "\n",
              "    .dataframe thead th {\n",
              "        text-align: right;\n",
              "    }\n",
              "</style>\n",
              "<table border=\"1\" class=\"dataframe\">\n",
              "  <thead>\n",
              "    <tr style=\"text-align: right;\">\n",
              "      <th></th>\n",
              "      <th>Symbol</th>\n",
              "      <th>Name</th>\n",
              "      <th>Address</th>\n",
              "      <th>Sector</th>\n",
              "      <th>Industry</th>\n",
              "      <th>Full Time Employees</th>\n",
              "      <th>Description</th>\n",
              "      <th>Total ESG Risk score</th>\n",
              "      <th>Environment Risk Score</th>\n",
              "      <th>Governance Risk Score</th>\n",
              "      <th>Social Risk Score</th>\n",
              "      <th>Controversy Level</th>\n",
              "      <th>Controversy Score</th>\n",
              "      <th>ESG Risk Percentile</th>\n",
              "      <th>ESG Risk Level</th>\n",
              "    </tr>\n",
              "  </thead>\n",
              "  <tbody>\n",
              "    <tr>\n",
              "      <th>7</th>\n",
              "      <td>ACGL</td>\n",
              "      <td>Arch Capital Group Ltd</td>\n",
              "      <td>Waterloo House\\nGround Floor 100 Pitts Bay Roa...</td>\n",
              "      <td>Financial Services</td>\n",
              "      <td>Insurance—Diversified</td>\n",
              "      <td>5,800</td>\n",
              "      <td>Arch Capital Group Ltd., together with its sub...</td>\n",
              "      <td>21.0</td>\n",
              "      <td>1.0</td>\n",
              "      <td>12.0</td>\n",
              "      <td>7.0</td>\n",
              "      <td>Moderate</td>\n",
              "      <td>2.0</td>\n",
              "      <td>28th percentile</td>\n",
              "      <td>NaN</td>\n",
              "    </tr>\n",
              "    <tr>\n",
              "      <th>18</th>\n",
              "      <td>AIG</td>\n",
              "      <td>American International Group</td>\n",
              "      <td>1271 Avenue of the Americas\\nNew York, NY 1002...</td>\n",
              "      <td>Financial Services</td>\n",
              "      <td>Insurance—Diversified</td>\n",
              "      <td>26,200</td>\n",
              "      <td>American International Group, Inc. offers insu...</td>\n",
              "      <td>25.0</td>\n",
              "      <td>2.0</td>\n",
              "      <td>14.0</td>\n",
              "      <td>10.0</td>\n",
              "      <td>Moderate</td>\n",
              "      <td>2.0</td>\n",
              "      <td>45th percentile</td>\n",
              "      <td>NaN</td>\n",
              "    </tr>\n",
              "    <tr>\n",
              "      <th>32</th>\n",
              "      <td>AMP</td>\n",
              "      <td>Ameriprise Financial Inc</td>\n",
              "      <td>1099 Ameriprise Financial Center\\nMinneapolis,...</td>\n",
              "      <td>Financial Services</td>\n",
              "      <td>Asset Management</td>\n",
              "      <td>13,500</td>\n",
              "      <td>Ameriprise Financial, Inc., through its subsid...</td>\n",
              "      <td>23.0</td>\n",
              "      <td>2.6</td>\n",
              "      <td>12.8</td>\n",
              "      <td>7.2</td>\n",
              "      <td>Moderate</td>\n",
              "      <td>2.0</td>\n",
              "      <td>35th percentile</td>\n",
              "      <td>Medium</td>\n",
              "    </tr>\n",
              "    <tr>\n",
              "      <th>54</th>\n",
              "      <td>BAC</td>\n",
              "      <td>Bank of America Corp</td>\n",
              "      <td>Bank of America Corporate Center\\n100 North Tr...</td>\n",
              "      <td>Financial Services</td>\n",
              "      <td>Banks—Diversified</td>\n",
              "      <td>216,000</td>\n",
              "      <td>Bank of America Corporation, through its subsi...</td>\n",
              "      <td>27.0</td>\n",
              "      <td>1.6</td>\n",
              "      <td>11.2</td>\n",
              "      <td>14.4</td>\n",
              "      <td>Significant</td>\n",
              "      <td>3.0</td>\n",
              "      <td>52nd percentile</td>\n",
              "      <td>Medium</td>\n",
              "    </tr>\n",
              "    <tr>\n",
              "      <th>65</th>\n",
              "      <td>BK</td>\n",
              "      <td>Bank of New York Mellon Corp</td>\n",
              "      <td>240 Greenwich Street\\nNew York, NY 10286\\nUnit...</td>\n",
              "      <td>Financial Services</td>\n",
              "      <td>Asset Management</td>\n",
              "      <td>53,200</td>\n",
              "      <td>The Bank of New York Mellon Corporation provid...</td>\n",
              "      <td>21.0</td>\n",
              "      <td>1.1</td>\n",
              "      <td>11.2</td>\n",
              "      <td>9.2</td>\n",
              "      <td>Significant</td>\n",
              "      <td>3.0</td>\n",
              "      <td>30th percentile</td>\n",
              "      <td>Medium</td>\n",
              "    </tr>\n",
              "  </tbody>\n",
              "</table>\n",
              "</div>\n",
              "    <div class=\"colab-df-buttons\">\n",
              "\n",
              "  <div class=\"colab-df-container\">\n",
              "    <button class=\"colab-df-convert\" onclick=\"convertToInteractive('df-dc2ef447-2e81-42b1-b2d5-d286de41ee8f')\"\n",
              "            title=\"Convert this dataframe to an interactive table.\"\n",
              "            style=\"display:none;\">\n",
              "\n",
              "  <svg xmlns=\"http://www.w3.org/2000/svg\" height=\"24px\" viewBox=\"0 -960 960 960\">\n",
              "    <path d=\"M120-120v-720h720v720H120Zm60-500h600v-160H180v160Zm220 220h160v-160H400v160Zm0 220h160v-160H400v160ZM180-400h160v-160H180v160Zm440 0h160v-160H620v160ZM180-180h160v-160H180v160Zm440 0h160v-160H620v160Z\"/>\n",
              "  </svg>\n",
              "    </button>\n",
              "\n",
              "  <style>\n",
              "    .colab-df-container {\n",
              "      display:flex;\n",
              "      gap: 12px;\n",
              "    }\n",
              "\n",
              "    .colab-df-convert {\n",
              "      background-color: #E8F0FE;\n",
              "      border: none;\n",
              "      border-radius: 50%;\n",
              "      cursor: pointer;\n",
              "      display: none;\n",
              "      fill: #1967D2;\n",
              "      height: 32px;\n",
              "      padding: 0 0 0 0;\n",
              "      width: 32px;\n",
              "    }\n",
              "\n",
              "    .colab-df-convert:hover {\n",
              "      background-color: #E2EBFA;\n",
              "      box-shadow: 0px 1px 2px rgba(60, 64, 67, 0.3), 0px 1px 3px 1px rgba(60, 64, 67, 0.15);\n",
              "      fill: #174EA6;\n",
              "    }\n",
              "\n",
              "    .colab-df-buttons div {\n",
              "      margin-bottom: 4px;\n",
              "    }\n",
              "\n",
              "    [theme=dark] .colab-df-convert {\n",
              "      background-color: #3B4455;\n",
              "      fill: #D2E3FC;\n",
              "    }\n",
              "\n",
              "    [theme=dark] .colab-df-convert:hover {\n",
              "      background-color: #434B5C;\n",
              "      box-shadow: 0px 1px 3px 1px rgba(0, 0, 0, 0.15);\n",
              "      filter: drop-shadow(0px 1px 2px rgba(0, 0, 0, 0.3));\n",
              "      fill: #FFFFFF;\n",
              "    }\n",
              "  </style>\n",
              "\n",
              "    <script>\n",
              "      const buttonEl =\n",
              "        document.querySelector('#df-dc2ef447-2e81-42b1-b2d5-d286de41ee8f button.colab-df-convert');\n",
              "      buttonEl.style.display =\n",
              "        google.colab.kernel.accessAllowed ? 'block' : 'none';\n",
              "\n",
              "      async function convertToInteractive(key) {\n",
              "        const element = document.querySelector('#df-dc2ef447-2e81-42b1-b2d5-d286de41ee8f');\n",
              "        const dataTable =\n",
              "          await google.colab.kernel.invokeFunction('convertToInteractive',\n",
              "                                                    [key], {});\n",
              "        if (!dataTable) return;\n",
              "\n",
              "        const docLinkHtml = 'Like what you see? Visit the ' +\n",
              "          '<a target=\"_blank\" href=https://colab.research.google.com/notebooks/data_table.ipynb>data table notebook</a>'\n",
              "          + ' to learn more about interactive tables.';\n",
              "        element.innerHTML = '';\n",
              "        dataTable['output_type'] = 'display_data';\n",
              "        await google.colab.output.renderOutput(dataTable, element);\n",
              "        const docLink = document.createElement('div');\n",
              "        docLink.innerHTML = docLinkHtml;\n",
              "        element.appendChild(docLink);\n",
              "      }\n",
              "    </script>\n",
              "  </div>\n",
              "\n",
              "\n",
              "<div id=\"df-f6cbd751-1a13-4f86-bce1-81c3c70f62a4\">\n",
              "  <button class=\"colab-df-quickchart\" onclick=\"quickchart('df-f6cbd751-1a13-4f86-bce1-81c3c70f62a4')\"\n",
              "            title=\"Suggest charts.\"\n",
              "            style=\"display:none;\">\n",
              "\n",
              "<svg xmlns=\"http://www.w3.org/2000/svg\" height=\"24px\"viewBox=\"0 0 24 24\"\n",
              "     width=\"24px\">\n",
              "    <g>\n",
              "        <path d=\"M19 3H5c-1.1 0-2 .9-2 2v14c0 1.1.9 2 2 2h14c1.1 0 2-.9 2-2V5c0-1.1-.9-2-2-2zM9 17H7v-7h2v7zm4 0h-2V7h2v10zm4 0h-2v-4h2v4z\"/>\n",
              "    </g>\n",
              "</svg>\n",
              "  </button>\n",
              "\n",
              "<style>\n",
              "  .colab-df-quickchart {\n",
              "    background-color: #E8F0FE;\n",
              "    border: none;\n",
              "    border-radius: 50%;\n",
              "    cursor: pointer;\n",
              "    display: none;\n",
              "    fill: #1967D2;\n",
              "    height: 32px;\n",
              "    padding: 0 0 0 0;\n",
              "    width: 32px;\n",
              "  }\n",
              "\n",
              "  .colab-df-quickchart:hover {\n",
              "    background-color: #E2EBFA;\n",
              "    box-shadow: 0px 1px 2px rgba(60, 64, 67, 0.3), 0px 1px 3px 1px rgba(60, 64, 67, 0.15);\n",
              "    fill: #174EA6;\n",
              "  }\n",
              "\n",
              "  [theme=dark] .colab-df-quickchart {\n",
              "    background-color: #3B4455;\n",
              "    fill: #D2E3FC;\n",
              "  }\n",
              "\n",
              "  [theme=dark] .colab-df-quickchart:hover {\n",
              "    background-color: #434B5C;\n",
              "    box-shadow: 0px 1px 3px 1px rgba(0, 0, 0, 0.15);\n",
              "    filter: drop-shadow(0px 1px 2px rgba(0, 0, 0, 0.3));\n",
              "    fill: #FFFFFF;\n",
              "  }\n",
              "</style>\n",
              "\n",
              "  <script>\n",
              "    async function quickchart(key) {\n",
              "      const charts = await google.colab.kernel.invokeFunction(\n",
              "          'suggestCharts', [key], {});\n",
              "    }\n",
              "    (() => {\n",
              "      let quickchartButtonEl =\n",
              "        document.querySelector('#df-f6cbd751-1a13-4f86-bce1-81c3c70f62a4 button');\n",
              "      quickchartButtonEl.style.display =\n",
              "        google.colab.kernel.accessAllowed ? 'block' : 'none';\n",
              "    })();\n",
              "  </script>\n",
              "</div>\n",
              "    </div>\n",
              "  </div>\n"
            ]
          },
          "metadata": {},
          "execution_count": 83
        }
      ]
    },
    {
      "cell_type": "markdown",
      "source": [
        "### Social Risk Score"
      ],
      "metadata": {
        "id": "lgXapcPp_9Ux"
      }
    },
    {
      "cell_type": "code",
      "source": [
        "sns.boxplot(data=risk, x='Social Risk Score')"
      ],
      "metadata": {
        "colab": {
          "base_uri": "https://localhost:8080/",
          "height": 466
        },
        "id": "HfeCQ1Jp_mKz",
        "outputId": "5a1a626b-2cbe-4c71-e0d2-ad815a3c85a5"
      },
      "execution_count": null,
      "outputs": [
        {
          "output_type": "execute_result",
          "data": {
            "text/plain": [
              "<Axes: xlabel='Social Risk Score'>"
            ]
          },
          "metadata": {},
          "execution_count": 85
        },
        {
          "output_type": "display_data",
          "data": {
            "text/plain": [
              "<Figure size 640x480 with 1 Axes>"
            ],
            "image/png": "[encoded data removed]"
          },
          "metadata": {}
        }
      ]
    },
    {
      "cell_type": "code",
      "source": [
        "risk.loc[risk['Social Risk Score']>19.0]"
      ],
      "metadata": {
        "colab": {
          "base_uri": "https://localhost:8080/",
          "height": 590
        },
        "id": "M61Qf0TNADyX",
        "outputId": "183f9473-694a-4f27-9730-28e1253a9e87"
      },
      "execution_count": null,
      "outputs": [
        {
          "output_type": "execute_result",
          "data": {
            "text/plain": [
              "    Symbol                         Name  \\\n",
              "53      BA                    Boeing Co   \n",
              "199     GD        General Dynamics Corp   \n",
              "302   META   Meta Platforms Inc Class A   \n",
              "363    PCG                 P G & E Corp   \n",
              "459    UHS  Universal Health Services B   \n",
              "\n",
              "                                               Address  \\\n",
              "53   929 Long Bridge Drive\\nArlington, VA 22202\\nUn...   \n",
              "199  11011 Sunset Hills Road\\nReston, VA 20190\\nUni...   \n",
              "302  1601 Willow Road\\nMenlo Park, CA 94025\\nUnited...   \n",
              "363  300 Lakeside Drive\\nOakland, CA 94612\\nUnited ...   \n",
              "459  Universal Corporate Center\\n367 South Gulph Ro...   \n",
              "\n",
              "                     Sector                        Industry  \\\n",
              "53              Industrials             Aerospace & Defense   \n",
              "199             Industrials             Aerospace & Defense   \n",
              "302  Communication Services  Internet Content & Information   \n",
              "363               Utilities    Utilities—Regulated Electric   \n",
              "459              Healthcare         Medical Care Facilities   \n",
              "\n",
              "    Full Time Employees                                        Description  \\\n",
              "53              156,000  The Boeing Company, together with its subsidia...   \n",
              "199             106,500  General Dynamics Corporation operates as an ae...   \n",
              "302              71,469  Meta Platforms, Inc. engages in the developmen...   \n",
              "363              26,010  PG&E Corporation, through its subsidiary, Paci...   \n",
              "459              93,800  Universal Health Services, Inc., through its s...   \n",
              "\n",
              "     Total ESG Risk score  Environment Risk Score  Governance Risk Score  \\\n",
              "53                   35.0                     7.1                    7.9   \n",
              "199                  35.0                     8.5                    6.9   \n",
              "302                  33.0                     1.0                   10.5   \n",
              "363                  35.0                     8.0                    6.0   \n",
              "459                  33.0                     4.0                    9.0   \n",
              "\n",
              "     Social Risk Score Controversy Level  Controversy Score  \\\n",
              "53                19.7              High                4.0   \n",
              "199               19.5       Significant                3.0   \n",
              "302               21.0              High                4.0   \n",
              "363               21.0            Severe                5.0   \n",
              "459               21.0       Significant                3.0   \n",
              "\n",
              "    ESG Risk Percentile ESG Risk Level  \n",
              "53      78th percentile           High  \n",
              "199     78th percentile           High  \n",
              "302     72nd percentile           High  \n",
              "363     79th percentile         Severe  \n",
              "459     75th percentile         Severe  "
            ],
            "text/html": [
              "\n",
              "  <div id=\"df-134fa826-7989-4a10-b4fe-a3a1fb0f14d7\" class=\"colab-df-container\">\n",
              "    <div>\n",
              "<style scoped>\n",
              "    .dataframe tbody tr th:only-of-type {\n",
              "        vertical-align: middle;\n",
              "    }\n",
              "\n",
              "    .dataframe tbody tr th {\n",
              "        vertical-align: top;\n",
              "    }\n",
              "\n",
              "    .dataframe thead th {\n",
              "        text-align: right;\n",
              "    }\n",
              "</style>\n",
              "<table border=\"1\" class=\"dataframe\">\n",
              "  <thead>\n",
              "    <tr style=\"text-align: right;\">\n",
              "      <th></th>\n",
              "      <th>Symbol</th>\n",
              "      <th>Name</th>\n",
              "      <th>Address</th>\n",
              "      <th>Sector</th>\n",
              "      <th>Industry</th>\n",
              "      <th>Full Time Employees</th>\n",
              "      <th>Description</th>\n",
              "      <th>Total ESG Risk score</th>\n",
              "      <th>Environment Risk Score</th>\n",
              "      <th>Governance Risk Score</th>\n",
              "      <th>Social Risk Score</th>\n",
              "      <th>Controversy Level</th>\n",
              "      <th>Controversy Score</th>\n",
              "      <th>ESG Risk Percentile</th>\n",
              "      <th>ESG Risk Level</th>\n",
              "    </tr>\n",
              "  </thead>\n",
              "  <tbody>\n",
              "    <tr>\n",
              "      <th>53</th>\n",
              "      <td>BA</td>\n",
              "      <td>Boeing Co</td>\n",
              "      <td>929 Long Bridge Drive\\nArlington, VA 22202\\nUn...</td>\n",
              "      <td>Industrials</td>\n",
              "      <td>Aerospace &amp; Defense</td>\n",
              "      <td>156,000</td>\n",
              "      <td>The Boeing Company, together with its subsidia...</td>\n",
              "      <td>35.0</td>\n",
              "      <td>7.1</td>\n",
              "      <td>7.9</td>\n",
              "      <td>19.7</td>\n",
              "      <td>High</td>\n",
              "      <td>4.0</td>\n",
              "      <td>78th percentile</td>\n",
              "      <td>High</td>\n",
              "    </tr>\n",
              "    <tr>\n",
              "      <th>199</th>\n",
              "      <td>GD</td>\n",
              "      <td>General Dynamics Corp</td>\n",
              "      <td>11011 Sunset Hills Road\\nReston, VA 20190\\nUni...</td>\n",
              "      <td>Industrials</td>\n",
              "      <td>Aerospace &amp; Defense</td>\n",
              "      <td>106,500</td>\n",
              "      <td>General Dynamics Corporation operates as an ae...</td>\n",
              "      <td>35.0</td>\n",
              "      <td>8.5</td>\n",
              "      <td>6.9</td>\n",
              "      <td>19.5</td>\n",
              "      <td>Significant</td>\n",
              "      <td>3.0</td>\n",
              "      <td>78th percentile</td>\n",
              "      <td>High</td>\n",
              "    </tr>\n",
              "    <tr>\n",
              "      <th>302</th>\n",
              "      <td>META</td>\n",
              "      <td>Meta Platforms Inc Class A</td>\n",
              "      <td>1601 Willow Road\\nMenlo Park, CA 94025\\nUnited...</td>\n",
              "      <td>Communication Services</td>\n",
              "      <td>Internet Content &amp; Information</td>\n",
              "      <td>71,469</td>\n",
              "      <td>Meta Platforms, Inc. engages in the developmen...</td>\n",
              "      <td>33.0</td>\n",
              "      <td>1.0</td>\n",
              "      <td>10.5</td>\n",
              "      <td>21.0</td>\n",
              "      <td>High</td>\n",
              "      <td>4.0</td>\n",
              "      <td>72nd percentile</td>\n",
              "      <td>High</td>\n",
              "    </tr>\n",
              "    <tr>\n",
              "      <th>363</th>\n",
              "      <td>PCG</td>\n",
              "      <td>P G &amp; E Corp</td>\n",
              "      <td>300 Lakeside Drive\\nOakland, CA 94612\\nUnited ...</td>\n",
              "      <td>Utilities</td>\n",
              "      <td>Utilities—Regulated Electric</td>\n",
              "      <td>26,010</td>\n",
              "      <td>PG&amp;E Corporation, through its subsidiary, Paci...</td>\n",
              "      <td>35.0</td>\n",
              "      <td>8.0</td>\n",
              "      <td>6.0</td>\n",
              "      <td>21.0</td>\n",
              "      <td>Severe</td>\n",
              "      <td>5.0</td>\n",
              "      <td>79th percentile</td>\n",
              "      <td>Severe</td>\n",
              "    </tr>\n",
              "    <tr>\n",
              "      <th>459</th>\n",
              "      <td>UHS</td>\n",
              "      <td>Universal Health Services B</td>\n",
              "      <td>Universal Corporate Center\\n367 South Gulph Ro...</td>\n",
              "      <td>Healthcare</td>\n",
              "      <td>Medical Care Facilities</td>\n",
              "      <td>93,800</td>\n",
              "      <td>Universal Health Services, Inc., through its s...</td>\n",
              "      <td>33.0</td>\n",
              "      <td>4.0</td>\n",
              "      <td>9.0</td>\n",
              "      <td>21.0</td>\n",
              "      <td>Significant</td>\n",
              "      <td>3.0</td>\n",
              "      <td>75th percentile</td>\n",
              "      <td>Severe</td>\n",
              "    </tr>\n",
              "  </tbody>\n",
              "</table>\n",
              "</div>\n",
              "    <div class=\"colab-df-buttons\">\n",
              "\n",
              "  <div class=\"colab-df-container\">\n",
              "    <button class=\"colab-df-convert\" onclick=\"convertToInteractive('df-134fa826-7989-4a10-b4fe-a3a1fb0f14d7')\"\n",
              "            title=\"Convert this dataframe to an interactive table.\"\n",
              "            style=\"display:none;\">\n",
              "\n",
              "  <svg xmlns=\"http://www.w3.org/2000/svg\" height=\"24px\" viewBox=\"0 -960 960 960\">\n",
              "    <path d=\"M120-120v-720h720v720H120Zm60-500h600v-160H180v160Zm220 220h160v-160H400v160Zm0 220h160v-160H400v160ZM180-400h160v-160H180v160Zm440 0h160v-160H620v160ZM180-180h160v-160H180v160Zm440 0h160v-160H620v160Z\"/>\n",
              "  </svg>\n",
              "    </button>\n",
              "\n",
              "  <style>\n",
              "    .colab-df-container {\n",
              "      display:flex;\n",
              "      gap: 12px;\n",
              "    }\n",
              "\n",
              "    .colab-df-convert {\n",
              "      background-color: #E8F0FE;\n",
              "      border: none;\n",
              "      border-radius: 50%;\n",
              "      cursor: pointer;\n",
              "      display: none;\n",
              "      fill: #1967D2;\n",
              "      height: 32px;\n",
              "      padding: 0 0 0 0;\n",
              "      width: 32px;\n",
              "    }\n",
              "\n",
              "    .colab-df-convert:hover {\n",
              "      background-color: #E2EBFA;\n",
              "      box-shadow: 0px 1px 2px rgba(60, 64, 67, 0.3), 0px 1px 3px 1px rgba(60, 64, 67, 0.15);\n",
              "      fill: #174EA6;\n",
              "    }\n",
              "\n",
              "    .colab-df-buttons div {\n",
              "      margin-bottom: 4px;\n",
              "    }\n",
              "\n",
              "    [theme=dark] .colab-df-convert {\n",
              "      background-color: #3B4455;\n",
              "      fill: #D2E3FC;\n",
              "    }\n",
              "\n",
              "    [theme=dark] .colab-df-convert:hover {\n",
              "      background-color: #434B5C;\n",
              "      box-shadow: 0px 1px 3px 1px rgba(0, 0, 0, 0.15);\n",
              "      filter: drop-shadow(0px 1px 2px rgba(0, 0, 0, 0.3));\n",
              "      fill: #FFFFFF;\n",
              "    }\n",
              "  </style>\n",
              "\n",
              "    <script>\n",
              "      const buttonEl =\n",
              "        document.querySelector('#df-134fa826-7989-4a10-b4fe-a3a1fb0f14d7 button.colab-df-convert');\n",
              "      buttonEl.style.display =\n",
              "        google.colab.kernel.accessAllowed ? 'block' : 'none';\n",
              "\n",
              "      async function convertToInteractive(key) {\n",
              "        const element = document.querySelector('#df-134fa826-7989-4a10-b4fe-a3a1fb0f14d7');\n",
              "        const dataTable =\n",
              "          await google.colab.kernel.invokeFunction('convertToInteractive',\n",
              "                                                    [key], {});\n",
              "        if (!dataTable) return;\n",
              "\n",
              "        const docLinkHtml = 'Like what you see? Visit the ' +\n",
              "          '<a target=\"_blank\" href=https://colab.research.google.com/notebooks/data_table.ipynb>data table notebook</a>'\n",
              "          + ' to learn more about interactive tables.';\n",
              "        element.innerHTML = '';\n",
              "        dataTable['output_type'] = 'display_data';\n",
              "        await google.colab.output.renderOutput(dataTable, element);\n",
              "        const docLink = document.createElement('div');\n",
              "        docLink.innerHTML = docLinkHtml;\n",
              "        element.appendChild(docLink);\n",
              "      }\n",
              "    </script>\n",
              "  </div>\n",
              "\n",
              "\n",
              "<div id=\"df-5837d6ea-9ee8-4e58-89a3-d3529f1cca04\">\n",
              "  <button class=\"colab-df-quickchart\" onclick=\"quickchart('df-5837d6ea-9ee8-4e58-89a3-d3529f1cca04')\"\n",
              "            title=\"Suggest charts.\"\n",
              "            style=\"display:none;\">\n",
              "\n",
              "<svg xmlns=\"http://www.w3.org/2000/svg\" height=\"24px\"viewBox=\"0 0 24 24\"\n",
              "     width=\"24px\">\n",
              "    <g>\n",
              "        <path d=\"M19 3H5c-1.1 0-2 .9-2 2v14c0 1.1.9 2 2 2h14c1.1 0 2-.9 2-2V5c0-1.1-.9-2-2-2zM9 17H7v-7h2v7zm4 0h-2V7h2v10zm4 0h-2v-4h2v4z\"/>\n",
              "    </g>\n",
              "</svg>\n",
              "  </button>\n",
              "\n",
              "<style>\n",
              "  .colab-df-quickchart {\n",
              "    background-color: #E8F0FE;\n",
              "    border: none;\n",
              "    border-radius: 50%;\n",
              "    cursor: pointer;\n",
              "    display: none;\n",
              "    fill: #1967D2;\n",
              "    height: 32px;\n",
              "    padding: 0 0 0 0;\n",
              "    width: 32px;\n",
              "  }\n",
              "\n",
              "  .colab-df-quickchart:hover {\n",
              "    background-color: #E2EBFA;\n",
              "    box-shadow: 0px 1px 2px rgba(60, 64, 67, 0.3), 0px 1px 3px 1px rgba(60, 64, 67, 0.15);\n",
              "    fill: #174EA6;\n",
              "  }\n",
              "\n",
              "  [theme=dark] .colab-df-quickchart {\n",
              "    background-color: #3B4455;\n",
              "    fill: #D2E3FC;\n",
              "  }\n",
              "\n",
              "  [theme=dark] .colab-df-quickchart:hover {\n",
              "    background-color: #434B5C;\n",
              "    box-shadow: 0px 1px 3px 1px rgba(0, 0, 0, 0.15);\n",
              "    filter: drop-shadow(0px 1px 2px rgba(0, 0, 0, 0.3));\n",
              "    fill: #FFFFFF;\n",
              "  }\n",
              "</style>\n",
              "\n",
              "  <script>\n",
              "    async function quickchart(key) {\n",
              "      const charts = await google.colab.kernel.invokeFunction(\n",
              "          'suggestCharts', [key], {});\n",
              "    }\n",
              "    (() => {\n",
              "      let quickchartButtonEl =\n",
              "        document.querySelector('#df-5837d6ea-9ee8-4e58-89a3-d3529f1cca04 button');\n",
              "      quickchartButtonEl.style.display =\n",
              "        google.colab.kernel.accessAllowed ? 'block' : 'none';\n",
              "    })();\n",
              "  </script>\n",
              "</div>\n",
              "    </div>\n",
              "  </div>\n"
            ]
          },
          "metadata": {},
          "execution_count": 87
        }
      ]
    },
    {
      "cell_type": "markdown",
      "source": [
        "### ESG Risk Level"
      ],
      "metadata": {
        "id": "i61ENsZN_Bvu"
      }
    },
    {
      "cell_type": "code",
      "source": [
        "sns.countplot(data=risk, x='ESG Risk Level', order=['Medium', 'Low', 'Negligible', 'High', 'Severe'])"
      ],
      "metadata": {
        "colab": {
          "base_uri": "https://localhost:8080/",
          "height": 470
        },
        "id": "Rqn4cLJb2e5J",
        "outputId": "717287d7-615e-4948-ad3e-bf39b3e07f8b"
      },
      "execution_count": 9,
      "outputs": [
        {
          "output_type": "execute_result",
          "data": {
            "text/plain": [
              "<Axes: xlabel='ESG Risk Level', ylabel='count'>"
            ]
          },
          "metadata": {},
          "execution_count": 9
        },
        {
          "output_type": "display_data",
          "data": {
            "text/plain": [
              "<Figure size 640x480 with 1 Axes>"
            ],
            "image/png": "[encoded data removed]"
          },
          "metadata": {}
        }
      ]
    },
    {
      "cell_type": "markdown",
      "source": [
        "### Controversy Level"
      ],
      "metadata": {
        "id": "dyf9YJ2L-_S2"
      }
    },
    {
      "cell_type": "code",
      "source": [
        "sns.countplot(data=risk, x='Controversy Level', order=['Moderate', 'Low','Significant','High','Severe','None' ])"
      ],
      "metadata": {
        "colab": {
          "base_uri": "https://localhost:8080/",
          "height": 466
        },
        "id": "DOyAxfvy5LFH",
        "outputId": "9e1e1e6e-a5c2-4db2-d469-d98c301aa161"
      },
      "execution_count": 10,
      "outputs": [
        {
          "output_type": "execute_result",
          "data": {
            "text/plain": [
              "<Axes: xlabel='Controversy Level', ylabel='count'>"
            ]
          },
          "metadata": {},
          "execution_count": 10
        },
        {
          "output_type": "display_data",
          "data": {
            "text/plain": [
              "<Figure size 640x480 with 1 Axes>"
            ],
            "image/png": "[encoded data removed]"
          },
          "metadata": {}
        }
      ]
    },
    {
      "cell_type": "markdown",
      "source": [
        "### ESG Risk Percentile"
      ],
      "metadata": {
        "id": "sQAbDfQRC5Dz"
      }
    },
    {
      "cell_type": "code",
      "source": [
        "sns.countplot(data=risk, x='ESG Risk Percentile')\n",
        "plt.xticks(rotation=90, ha='right', fontsize=6)\n",
        "plt.show()"
      ],
      "metadata": {
        "colab": {
          "base_uri": "https://localhost:8080/",
          "height": 509
        },
        "id": "d28RR252DA5u",
        "outputId": "7179e2c5-fea3-4f92-b335-f847b7768fd2"
      },
      "execution_count": null,
      "outputs": [
        {
          "output_type": "display_data",
          "data": {
            "text/plain": [
              "<Figure size 640x480 with 1 Axes>"
            ],
            "image/png": "[encoded data removed]"
          },
          "metadata": {}
        }
      ]
    },
    {
      "cell_type": "code",
      "source": [
        "risk['ESG Risk Percentile'].unique()"
      ],
      "metadata": {
        "colab": {
          "base_uri": "https://localhost:8080/"
        },
        "id": "na8YN1hP4z9u",
        "outputId": "ce003db4-fad9-4b25-8151-817c6fa39bc9"
      },
      "execution_count": null,
      "outputs": [
        {
          "output_type": "execute_result",
          "data": {
            "text/plain": [
              "array(['11th percentile', '62nd percentile', '4th percentile',\n",
              "       '15th percentile', '55th percentile', '5th percentile',\n",
              "       '44th percentile', '28th percentile', '2nd percentile',\n",
              "       '39th percentile', '83rd percentile', '8th percentile',\n",
              "       '13th percentile', '63rd percentile', '47th percentile',\n",
              "       '78th percentile', '17th percentile', '45th percentile',\n",
              "       '43rd percentile', '30th percentile', '14th percentile',\n",
              "       '60th percentile', nan, '23rd percentile', '40th percentile',\n",
              "       '41st percentile', '32nd percentile', '35th percentile',\n",
              "       '3rd percentile', '64th percentile', '6th percentile',\n",
              "       '31st percentile', '80th percentile', '22nd percentile',\n",
              "       '34th percentile', '20th percentile', '52nd percentile',\n",
              "       '12th percentile', '9th percentile', '51st percentile',\n",
              "       '29th percentile', '33rd percentile', '27th percentile',\n",
              "       '49th percentile', '71st percentile', '76th percentile',\n",
              "       '1st percentile', '7th percentile', '65th percentile',\n",
              "       '25th percentile', '26th percentile', '50th percentile',\n",
              "       '24th percentile', '19th percentile', '53rd percentile',\n",
              "       '96th percentile', '36th percentile', '85th percentile',\n",
              "       '59th percentile', '10th percentile', '46th percentile',\n",
              "       '69th percentile', '57th percentile', '66th percentile',\n",
              "       '54th percentile', '16th percentile', '37th percentile',\n",
              "       '48th percentile', '61st percentile', '82nd percentile',\n",
              "       '21st percentile', '18th percentile', '42nd percentile',\n",
              "       '72nd percentile', '74th percentile', '90th percentile',\n",
              "       '58th percentile', '75th percentile', '56th percentile',\n",
              "       '92nd percentile', '93rd percentile', '79th percentile',\n",
              "       '86th percentile', '68th percentile', '73rd percentile',\n",
              "       '89th percentile', '77th percentile', '38th percentile'],\n",
              "      dtype=object)"
            ]
          },
          "metadata": {},
          "execution_count": 97
        }
      ]
    },
    {
      "cell_type": "code",
      "source": [
        "risk['Environment Risk Score'].value_counts()"
      ],
      "metadata": {
        "colab": {
          "base_uri": "https://localhost:8080/"
        },
        "id": "dxOaJSajBZUN",
        "outputId": "88911bbd-9815-4da7-dd73-59f06c91b153"
      },
      "execution_count": null,
      "outputs": [
        {
          "output_type": "execute_result",
          "data": {
            "text/plain": [
              "2.0     27\n",
              "0.0     23\n",
              "1.0     20\n",
              "3.0     17\n",
              "0.1     15\n",
              "        ..\n",
              "8.5      1\n",
              "10.3     1\n",
              "13.2     1\n",
              "10.4     1\n",
              "8.2      1\n",
              "Name: Environment Risk Score, Length: 134, dtype: int64"
            ]
          },
          "metadata": {},
          "execution_count": 73
        }
      ]
    },
    {
      "cell_type": "markdown",
      "source": [
        "## Detección y corrección de datos atípicos"
      ],
      "metadata": {
        "id": "5_NSAv0Zufty"
      }
    },
    {
      "cell_type": "code",
      "source": [
        "#En este código estoy sumando los null de cada columna y están ordenados de manera ascendente\n",
        "risk_3 = risk_2.isnull().sum().sort_values(ascending = False)"
      ],
      "metadata": {
        "id": "pLfBjFVqAqYp"
      },
      "execution_count": 15,
      "outputs": []
    },
    {
      "cell_type": "code",
      "source": [
        "risk_3"
      ],
      "metadata": {
        "colab": {
          "base_uri": "https://localhost:8080/"
        },
        "id": "3Y8ip3j3vXcI",
        "outputId": "545ecb0b-e06c-433d-f7c7-ae2805eb4090"
      },
      "execution_count": 19,
      "outputs": [
        {
          "output_type": "execute_result",
          "data": {
            "text/plain": [
              "ESG Risk Level            127\n",
              "Controversy Level          99\n",
              "Total ESG Risk score       70\n",
              "Environment Risk Score     70\n",
              "Governance Risk Score      70\n",
              "Social Risk Score          70\n",
              "Controversy Score          70\n",
              "ESG Risk Percentile        70\n",
              "Full Time Employees         7\n",
              "Address                     2\n",
              "Sector                      2\n",
              "Industry                    2\n",
              "Description                 2\n",
              "Name                        0\n",
              "dtype: int64"
            ]
          },
          "metadata": {},
          "execution_count": 19
        }
      ]
    },
    {
      "cell_type": "code",
      "source": [
        "# Hay 77 datos con 1 solo dato faltante y hay 69 datos con 8 datos faltantes por filas\n",
        "risk_2.isnull().sum(axis = 1).value_counts()"
      ],
      "metadata": {
        "colab": {
          "base_uri": "https://localhost:8080/"
        },
        "id": "Caumj2ONByH_",
        "outputId": "80333bee-e917-4378-9075-5172428fa288"
      },
      "execution_count": 20,
      "outputs": [
        {
          "output_type": "execute_result",
          "data": {
            "text/plain": [
              "0     348\n",
              "1      77\n",
              "8      69\n",
              "2       7\n",
              "13      1\n",
              "5       1\n",
              "dtype: int64"
            ]
          },
          "metadata": {},
          "execution_count": 20
        }
      ]
    },
    {
      "cell_type": "markdown",
      "source": [
        "### Eliminación de los null en columnas"
      ],
      "metadata": {
        "id": "XTh11VpzMFaf"
      }
    },
    {
      "cell_type": "code",
      "source": [
        "#Valores null por columna y sus valores únicos resultantes de los valores nulos en cada columna\n",
        "#70 nulos en 6 columnas y así sucesivamente\n",
        "risk_2.isnull().sum(axis = 0).value_counts()"
      ],
      "metadata": {
        "colab": {
          "base_uri": "https://localhost:8080/"
        },
        "id": "9wNkJ_ODG_zE",
        "outputId": "7c214b70-b48b-4f7b-c158-5783baad073d"
      },
      "execution_count": 21,
      "outputs": [
        {
          "output_type": "execute_result",
          "data": {
            "text/plain": [
              "70     6\n",
              "2      4\n",
              "0      1\n",
              "7      1\n",
              "99     1\n",
              "127    1\n",
              "dtype: int64"
            ]
          },
          "metadata": {},
          "execution_count": 21
        }
      ]
    },
    {
      "cell_type": "code",
      "source": [
        "# Probar eliminando todos los null de las columnas\n",
        "risk_4 = risk_2.dropna(axis=0)\n",
        "\n",
        "#risk_2.isnull().sum().sort_values(ascending = False)\n",
        "print(risk_4.shape)\n",
        "print(risk_2.shape)"
      ],
      "metadata": {
        "colab": {
          "base_uri": "https://localhost:8080/"
        },
        "id": "tn3brLQmJcY1",
        "outputId": "2ff0a754-75da-4441-b30b-88bda94163c8"
      },
      "execution_count": 22,
      "outputs": [
        {
          "output_type": "stream",
          "name": "stdout",
          "text": [
            "(348, 14)\n",
            "(503, 14)\n"
          ]
        }
      ]
    },
    {
      "cell_type": "code",
      "source": [
        "#Se quiere saber cuántos datos quedaron luego de la eliminación\n",
        "risk_2.size - risk_4.size"
      ],
      "metadata": {
        "colab": {
          "base_uri": "https://localhost:8080/"
        },
        "id": "YZ1XHlriLOL5",
        "outputId": "7e0712d4-2f57-4beb-d63c-31b238dcee4e"
      },
      "execution_count": 25,
      "outputs": [
        {
          "output_type": "execute_result",
          "data": {
            "text/plain": [
              "2170"
            ]
          },
          "metadata": {},
          "execution_count": 25
        }
      ]
    },
    {
      "cell_type": "code",
      "source": [
        "#Criterio para saber la perdida de data al borrar por columnas\n",
        "(risk_2.size - risk_4.size)*100/risk_2.size"
      ],
      "metadata": {
        "colab": {
          "base_uri": "https://localhost:8080/"
        },
        "id": "In3sUCWaLbaI",
        "outputId": "3928b420-d86c-41de-d623-18ff38010f95"
      },
      "execution_count": 26,
      "outputs": [
        {
          "output_type": "execute_result",
          "data": {
            "text/plain": [
              "30.81510934393638"
            ]
          },
          "metadata": {},
          "execution_count": 26
        }
      ]
    },
    {
      "cell_type": "markdown",
      "source": [
        "Con esta eliminación de datos en columnas se eliminan el 31% de los datos"
      ],
      "metadata": {
        "id": "zN6NK0tUMArq"
      }
    },
    {
      "cell_type": "markdown",
      "source": [
        "### Eliminación de Nulos en filas\n"
      ],
      "metadata": {
        "id": "UIogfY3TIun5"
      }
    },
    {
      "cell_type": "code",
      "source": [
        "# Probar eliminando todos los null de las filas\n",
        "risk_5 = risk_2.dropna(axis=1)\n",
        "\n",
        "#risk_2.isnull().sum().sort_values(ascending = False)\n",
        "print(risk_2.shape)\n",
        "print(risk_5.shape)"
      ],
      "metadata": {
        "colab": {
          "base_uri": "https://localhost:8080/"
        },
        "id": "BDcAFvUkhVQR",
        "outputId": "73a9a8ab-3807-4b32-db88-5bee1016267f"
      },
      "execution_count": 27,
      "outputs": [
        {
          "output_type": "stream",
          "name": "stdout",
          "text": [
            "(503, 14)\n",
            "(503, 1)\n"
          ]
        }
      ]
    },
    {
      "cell_type": "code",
      "source": [
        "#Criterio para saber la perdida de data al borrar por filas\n",
        "round((risk_2.size - risk_5.size)*100/risk_2.size, 0)"
      ],
      "metadata": {
        "colab": {
          "base_uri": "https://localhost:8080/"
        },
        "id": "0sOt4IKaO6T1",
        "outputId": "0708046a-2797-4330-e2fd-d3880a09960c"
      },
      "execution_count": 29,
      "outputs": [
        {
          "output_type": "execute_result",
          "data": {
            "text/plain": [
              "93.0"
            ]
          },
          "metadata": {},
          "execution_count": 29
        }
      ]
    },
    {
      "cell_type": "markdown",
      "source": [
        "Con la eliminación de al menos 1 caracter en cada fila, se ha realizado el borrado del 93% de los datos."
      ],
      "metadata": {
        "id": "VLcWKk3jPWvr"
      }
    },
    {
      "cell_type": "markdown",
      "source": [
        "### Similitud en los Null"
      ],
      "metadata": {
        "id": "Ad0zWLG9I4Oy"
      }
    },
    {
      "cell_type": "markdown",
      "source": [
        "En base a los valores vistos, se revisa si hay una similitud entre los datos que tienen el mismo de valor nulos (70) y se verifica que son las mismas columnas las que les faltan los mismo valores"
      ],
      "metadata": {
        "id": "8_egFrtYFWLO"
      }
    },
    {
      "cell_type": "code",
      "source": [
        "# Con este código se sabe cuantos null hay en cada columna\n",
        "risk_2[['Total ESG Risk score','Environment Risk Score', 'Governance Risk Score',\n",
        "      'Social Risk Score','Controversy Score','ESG Risk Percentile']].isnull().sum()"
      ],
      "metadata": {
        "colab": {
          "base_uri": "https://localhost:8080/"
        },
        "id": "KezzuD9fFhdX",
        "outputId": "5883ea89-e4fb-4477-f69c-4350dc013813"
      },
      "execution_count": 30,
      "outputs": [
        {
          "output_type": "execute_result",
          "data": {
            "text/plain": [
              "Total ESG Risk score      70\n",
              "Environment Risk Score    70\n",
              "Governance Risk Score     70\n",
              "Social Risk Score         70\n",
              "Controversy Score         70\n",
              "ESG Risk Percentile       70\n",
              "dtype: int64"
            ]
          },
          "metadata": {},
          "execution_count": 30
        }
      ]
    },
    {
      "cell_type": "code",
      "source": [
        "#Con este código podemos ver los booleanos en la tabla y confirmar que los datos que faltan\n",
        "#son los mismos en todas las columnas por lo tanto se pueden eliminar\n",
        "risk_2[['Total ESG Risk score','Environment Risk Score', 'Governance Risk Score',\n",
        "      'Social Risk Score','Controversy Score','ESG Risk Percentile']].isnull().head(5)"
      ],
      "metadata": {
        "id": "Fvd61YTvIl3Y",
        "colab": {
          "base_uri": "https://localhost:8080/",
          "height": 223
        },
        "outputId": "6d1dadb2-a394-4b3a-8667-299337f8e361"
      },
      "execution_count": 31,
      "outputs": [
        {
          "output_type": "execute_result",
          "data": {
            "text/plain": [
              "   Total ESG Risk score  Environment Risk Score  Governance Risk Score  \\\n",
              "0                 False                   False                  False   \n",
              "1                 False                   False                  False   \n",
              "2                 False                   False                  False   \n",
              "3                 False                   False                  False   \n",
              "4                 False                   False                  False   \n",
              "\n",
              "   Social Risk Score  Controversy Score  ESG Risk Percentile  \n",
              "0              False              False                False  \n",
              "1              False              False                False  \n",
              "2              False              False                False  \n",
              "3              False              False                False  \n",
              "4              False              False                False  "
            ],
            "text/html": [
              "\n",
              "  <div id=\"df-dce5d481-3aef-4a3f-b1a9-b5e97ade64dc\" class=\"colab-df-container\">\n",
              "    <div>\n",
              "<style scoped>\n",
              "    .dataframe tbody tr th:only-of-type {\n",
              "        vertical-align: middle;\n",
              "    }\n",
              "\n",
              "    .dataframe tbody tr th {\n",
              "        vertical-align: top;\n",
              "    }\n",
              "\n",
              "    .dataframe thead th {\n",
              "        text-align: right;\n",
              "    }\n",
              "</style>\n",
              "<table border=\"1\" class=\"dataframe\">\n",
              "  <thead>\n",
              "    <tr style=\"text-align: right;\">\n",
              "      <th></th>\n",
              "      <th>Total ESG Risk score</th>\n",
              "      <th>Environment Risk Score</th>\n",
              "      <th>Governance Risk Score</th>\n",
              "      <th>Social Risk Score</th>\n",
              "      <th>Controversy Score</th>\n",
              "      <th>ESG Risk Percentile</th>\n",
              "    </tr>\n",
              "  </thead>\n",
              "  <tbody>\n",
              "    <tr>\n",
              "      <th>0</th>\n",
              "      <td>False</td>\n",
              "      <td>False</td>\n",
              "      <td>False</td>\n",
              "      <td>False</td>\n",
              "      <td>False</td>\n",
              "      <td>False</td>\n",
              "    </tr>\n",
              "    <tr>\n",
              "      <th>1</th>\n",
              "      <td>False</td>\n",
              "      <td>False</td>\n",
              "      <td>False</td>\n",
              "      <td>False</td>\n",
              "      <td>False</td>\n",
              "      <td>False</td>\n",
              "    </tr>\n",
              "    <tr>\n",
              "      <th>2</th>\n",
              "      <td>False</td>\n",
              "      <td>False</td>\n",
              "      <td>False</td>\n",
              "      <td>False</td>\n",
              "      <td>False</td>\n",
              "      <td>False</td>\n",
              "    </tr>\n",
              "    <tr>\n",
              "      <th>3</th>\n",
              "      <td>False</td>\n",
              "      <td>False</td>\n",
              "      <td>False</td>\n",
              "      <td>False</td>\n",
              "      <td>False</td>\n",
              "      <td>False</td>\n",
              "    </tr>\n",
              "    <tr>\n",
              "      <th>4</th>\n",
              "      <td>False</td>\n",
              "      <td>False</td>\n",
              "      <td>False</td>\n",
              "      <td>False</td>\n",
              "      <td>False</td>\n",
              "      <td>False</td>\n",
              "    </tr>\n",
              "  </tbody>\n",
              "</table>\n",
              "</div>\n",
              "    <div class=\"colab-df-buttons\">\n",
              "\n",
              "  <div class=\"colab-df-container\">\n",
              "    <button class=\"colab-df-convert\" onclick=\"convertToInteractive('df-dce5d481-3aef-4a3f-b1a9-b5e97ade64dc')\"\n",
              "            title=\"Convert this dataframe to an interactive table.\"\n",
              "            style=\"display:none;\">\n",
              "\n",
              "  <svg xmlns=\"http://www.w3.org/2000/svg\" height=\"24px\" viewBox=\"0 -960 960 960\">\n",
              "    <path d=\"M120-120v-720h720v720H120Zm60-500h600v-160H180v160Zm220 220h160v-160H400v160Zm0 220h160v-160H400v160ZM180-400h160v-160H180v160Zm440 0h160v-160H620v160ZM180-180h160v-160H180v160Zm440 0h160v-160H620v160Z\"/>\n",
              "  </svg>\n",
              "    </button>\n",
              "\n",
              "  <style>\n",
              "    .colab-df-container {\n",
              "      display:flex;\n",
              "      gap: 12px;\n",
              "    }\n",
              "\n",
              "    .colab-df-convert {\n",
              "      background-color: #E8F0FE;\n",
              "      border: none;\n",
              "      border-radius: 50%;\n",
              "      cursor: pointer;\n",
              "      display: none;\n",
              "      fill: #1967D2;\n",
              "      height: 32px;\n",
              "      padding: 0 0 0 0;\n",
              "      width: 32px;\n",
              "    }\n",
              "\n",
              "    .colab-df-convert:hover {\n",
              "      background-color: #E2EBFA;\n",
              "      box-shadow: 0px 1px 2px rgba(60, 64, 67, 0.3), 0px 1px 3px 1px rgba(60, 64, 67, 0.15);\n",
              "      fill: #174EA6;\n",
              "    }\n",
              "\n",
              "    .colab-df-buttons div {\n",
              "      margin-bottom: 4px;\n",
              "    }\n",
              "\n",
              "    [theme=dark] .colab-df-convert {\n",
              "      background-color: #3B4455;\n",
              "      fill: #D2E3FC;\n",
              "    }\n",
              "\n",
              "    [theme=dark] .colab-df-convert:hover {\n",
              "      background-color: #434B5C;\n",
              "      box-shadow: 0px 1px 3px 1px rgba(0, 0, 0, 0.15);\n",
              "      filter: drop-shadow(0px 1px 2px rgba(0, 0, 0, 0.3));\n",
              "      fill: #FFFFFF;\n",
              "    }\n",
              "  </style>\n",
              "\n",
              "    <script>\n",
              "      const buttonEl =\n",
              "        document.querySelector('#df-dce5d481-3aef-4a3f-b1a9-b5e97ade64dc button.colab-df-convert');\n",
              "      buttonEl.style.display =\n",
              "        google.colab.kernel.accessAllowed ? 'block' : 'none';\n",
              "\n",
              "      async function convertToInteractive(key) {\n",
              "        const element = document.querySelector('#df-dce5d481-3aef-4a3f-b1a9-b5e97ade64dc');\n",
              "        const dataTable =\n",
              "          await google.colab.kernel.invokeFunction('convertToInteractive',\n",
              "                                                    [key], {});\n",
              "        if (!dataTable) return;\n",
              "\n",
              "        const docLinkHtml = 'Like what you see? Visit the ' +\n",
              "          '<a target=\"_blank\" href=https://colab.research.google.com/notebooks/data_table.ipynb>data table notebook</a>'\n",
              "          + ' to learn more about interactive tables.';\n",
              "        element.innerHTML = '';\n",
              "        dataTable['output_type'] = 'display_data';\n",
              "        await google.colab.output.renderOutput(dataTable, element);\n",
              "        const docLink = document.createElement('div');\n",
              "        docLink.innerHTML = docLinkHtml;\n",
              "        element.appendChild(docLink);\n",
              "      }\n",
              "    </script>\n",
              "  </div>\n",
              "\n",
              "\n",
              "<div id=\"df-8bad8cf7-1221-448d-82ef-059a51ea4c99\">\n",
              "  <button class=\"colab-df-quickchart\" onclick=\"quickchart('df-8bad8cf7-1221-448d-82ef-059a51ea4c99')\"\n",
              "            title=\"Suggest charts.\"\n",
              "            style=\"display:none;\">\n",
              "\n",
              "<svg xmlns=\"http://www.w3.org/2000/svg\" height=\"24px\"viewBox=\"0 0 24 24\"\n",
              "     width=\"24px\">\n",
              "    <g>\n",
              "        <path d=\"M19 3H5c-1.1 0-2 .9-2 2v14c0 1.1.9 2 2 2h14c1.1 0 2-.9 2-2V5c0-1.1-.9-2-2-2zM9 17H7v-7h2v7zm4 0h-2V7h2v10zm4 0h-2v-4h2v4z\"/>\n",
              "    </g>\n",
              "</svg>\n",
              "  </button>\n",
              "\n",
              "<style>\n",
              "  .colab-df-quickchart {\n",
              "      --bg-color: #E8F0FE;\n",
              "      --fill-color: #1967D2;\n",
              "      --hover-bg-color: #E2EBFA;\n",
              "      --hover-fill-color: #174EA6;\n",
              "      --disabled-fill-color: #AAA;\n",
              "      --disabled-bg-color: #DDD;\n",
              "  }\n",
              "\n",
              "  [theme=dark] .colab-df-quickchart {\n",
              "      --bg-color: #3B4455;\n",
              "      --fill-color: #D2E3FC;\n",
              "      --hover-bg-color: #434B5C;\n",
              "      --hover-fill-color: #FFFFFF;\n",
              "      --disabled-bg-color: #3B4455;\n",
              "      --disabled-fill-color: #666;\n",
              "  }\n",
              "\n",
              "  .colab-df-quickchart {\n",
              "    background-color: var(--bg-color);\n",
              "    border: none;\n",
              "    border-radius: 50%;\n",
              "    cursor: pointer;\n",
              "    display: none;\n",
              "    fill: var(--fill-color);\n",
              "    height: 32px;\n",
              "    padding: 0;\n",
              "    width: 32px;\n",
              "  }\n",
              "\n",
              "  .colab-df-quickchart:hover {\n",
              "    background-color: var(--hover-bg-color);\n",
              "    box-shadow: 0 1px 2px rgba(60, 64, 67, 0.3), 0 1px 3px 1px rgba(60, 64, 67, 0.15);\n",
              "    fill: var(--button-hover-fill-color);\n",
              "  }\n",
              "\n",
              "  .colab-df-quickchart-complete:disabled,\n",
              "  .colab-df-quickchart-complete:disabled:hover {\n",
              "    background-color: var(--disabled-bg-color);\n",
              "    fill: var(--disabled-fill-color);\n",
              "    box-shadow: none;\n",
              "  }\n",
              "\n",
              "  .colab-df-spinner {\n",
              "    border: 2px solid var(--fill-color);\n",
              "    border-color: transparent;\n",
              "    border-bottom-color: var(--fill-color);\n",
              "    animation:\n",
              "      spin 1s steps(1) infinite;\n",
              "  }\n",
              "\n",
              "  @keyframes spin {\n",
              "    0% {\n",
              "      border-color: transparent;\n",
              "      border-bottom-color: var(--fill-color);\n",
              "      border-left-color: var(--fill-color);\n",
              "    }\n",
              "    20% {\n",
              "      border-color: transparent;\n",
              "      border-left-color: var(--fill-color);\n",
              "      border-top-color: var(--fill-color);\n",
              "    }\n",
              "    30% {\n",
              "      border-color: transparent;\n",
              "      border-left-color: var(--fill-color);\n",
              "      border-top-color: var(--fill-color);\n",
              "      border-right-color: var(--fill-color);\n",
              "    }\n",
              "    40% {\n",
              "      border-color: transparent;\n",
              "      border-right-color: var(--fill-color);\n",
              "      border-top-color: var(--fill-color);\n",
              "    }\n",
              "    60% {\n",
              "      border-color: transparent;\n",
              "      border-right-color: var(--fill-color);\n",
              "    }\n",
              "    80% {\n",
              "      border-color: transparent;\n",
              "      border-right-color: var(--fill-color);\n",
              "      border-bottom-color: var(--fill-color);\n",
              "    }\n",
              "    90% {\n",
              "      border-color: transparent;\n",
              "      border-bottom-color: var(--fill-color);\n",
              "    }\n",
              "  }\n",
              "</style>\n",
              "\n",
              "  <script>\n",
              "    async function quickchart(key) {\n",
              "      const quickchartButtonEl =\n",
              "        document.querySelector('#' + key + ' button');\n",
              "      quickchartButtonEl.disabled = true;  // To prevent multiple clicks.\n",
              "      quickchartButtonEl.classList.add('colab-df-spinner');\n",
              "      try {\n",
              "        const charts = await google.colab.kernel.invokeFunction(\n",
              "            'suggestCharts', [key], {});\n",
              "      } catch (error) {\n",
              "        console.error('Error during call to suggestCharts:', error);\n",
              "      }\n",
              "      quickchartButtonEl.classList.remove('colab-df-spinner');\n",
              "      quickchartButtonEl.classList.add('colab-df-quickchart-complete');\n",
              "    }\n",
              "    (() => {\n",
              "      let quickchartButtonEl =\n",
              "        document.querySelector('#df-8bad8cf7-1221-448d-82ef-059a51ea4c99 button');\n",
              "      quickchartButtonEl.style.display =\n",
              "        google.colab.kernel.accessAllowed ? 'block' : 'none';\n",
              "    })();\n",
              "  </script>\n",
              "</div>\n",
              "    </div>\n",
              "  </div>\n"
            ]
          },
          "metadata": {},
          "execution_count": 31
        }
      ]
    },
    {
      "cell_type": "code",
      "source": [
        "#Se procede a la eliminación de estos 70 datos en la diferentes columnas\n",
        "columns_to_clean = ['Total ESG Risk score','Environment Risk Score', 'Governance Risk Score',\n",
        "      'Social Risk Score','Controversy Score','ESG Risk Percentile']"
      ],
      "metadata": {
        "id": "2Tb4tkDiFna3"
      },
      "execution_count": 32,
      "outputs": []
    },
    {
      "cell_type": "code",
      "source": [
        "risk_6 = risk_2[columns_to_clean].dropna()"
      ],
      "metadata": {
        "id": "wrjpcUgnQoTp"
      },
      "execution_count": 33,
      "outputs": []
    },
    {
      "cell_type": "code",
      "source": [
        "#Diferencia entre el tamaño total o sea el número total\n",
        "registros_eliminados = risk_2.size - risk_6.size"
      ],
      "metadata": {
        "colab": {
          "base_uri": "https://localhost:8080/"
        },
        "id": "Sv_97vxuQ5Zd",
        "outputId": "1a88d9bf-28ca-4bf6-d324-376a5ecd9919"
      },
      "execution_count": 34,
      "outputs": [
        {
          "output_type": "execute_result",
          "data": {
            "text/plain": [
              "4444"
            ]
          },
          "metadata": {},
          "execution_count": 34
        }
      ]
    },
    {
      "cell_type": "code",
      "source": [
        "porcentaje = round(registros_eliminados*100/risk_2.size,0)\n",
        "porcentaje"
      ],
      "metadata": {
        "colab": {
          "base_uri": "https://localhost:8080/"
        },
        "id": "QjREsGxXSAW7",
        "outputId": "7508ac11-4c79-412b-81b3-fa3e886c0846"
      },
      "execution_count": 45,
      "outputs": [
        {
          "output_type": "execute_result",
          "data": {
            "text/plain": [
              "63.0"
            ]
          },
          "metadata": {},
          "execution_count": 45
        }
      ]
    },
    {
      "cell_type": "markdown",
      "source": [
        "Con la eliminación de los datos en cada uno de estas 6 filas, se elimina el 63% del total de los datos."
      ],
      "metadata": {
        "id": "2GGF4RwXS6wS"
      }
    },
    {
      "cell_type": "markdown",
      "source": [
        "### Filtrar\n",
        "\n",
        "Se realiza la imputación de los valores que tengan más de 5 null en sus filas"
      ],
      "metadata": {
        "id": "GWNEG_k2bTnY"
      }
    },
    {
      "cell_type": "code",
      "source": [
        "# Filtra nulos que tienen más de 5 nulos en sus filas\n",
        "risk_2.isnull().sum(axis = 1).value_counts()"
      ],
      "metadata": {
        "colab": {
          "base_uri": "https://localhost:8080/"
        },
        "id": "fjyLxkPFbUzv",
        "outputId": "89d113db-aaa6-43b5-bc6b-2a9bf54c2dc7"
      },
      "execution_count": 48,
      "outputs": [
        {
          "output_type": "execute_result",
          "data": {
            "text/plain": [
              "0     348\n",
              "1      77\n",
              "8      69\n",
              "2       7\n",
              "13      1\n",
              "5       1\n",
              "dtype: int64"
            ]
          },
          "metadata": {},
          "execution_count": 48
        }
      ]
    },
    {
      "cell_type": "code",
      "source": [
        "risk_7 = risk_2[risk.isnull().sum(axis = 1)>5]\n",
        "#risk_7.info()"
      ],
      "metadata": {
        "id": "BAnGQ1ChbwOm"
      },
      "execution_count": 56,
      "outputs": []
    },
    {
      "cell_type": "code",
      "source": [
        "#Total de datos si se eliminara los mayores a 5 datos nulos\n",
        "risk_2.size - risk_7.size"
      ],
      "metadata": {
        "colab": {
          "base_uri": "https://localhost:8080/"
        },
        "id": "qOMtN5hcnSr5",
        "outputId": "1bed559b-8afb-4fd1-d2b6-b71a088dcb30"
      },
      "execution_count": 53,
      "outputs": [
        {
          "output_type": "execute_result",
          "data": {
            "text/plain": [
              "6062"
            ]
          },
          "metadata": {},
          "execution_count": 53
        }
      ]
    },
    {
      "cell_type": "code",
      "source": [
        "#Criterio para establecer la perdida de data\n",
        "round((risk_2.size - risk_7.size)*100/risk_2.size,0)"
      ],
      "metadata": {
        "colab": {
          "base_uri": "https://localhost:8080/"
        },
        "id": "qWPCCLFocTtN",
        "outputId": "06f75836-850e-4a65-d2f3-34ceb8a98763"
      },
      "execution_count": 54,
      "outputs": [
        {
          "output_type": "execute_result",
          "data": {
            "text/plain": [
              "86.0"
            ]
          },
          "metadata": {},
          "execution_count": 54
        }
      ]
    },
    {
      "cell_type": "markdown",
      "source": [
        "Con esto realizado, eliminar desde 5 null hacía adelante, se procedería a perder el 86% de la data"
      ],
      "metadata": {
        "id": "i8D-JA9iniZJ"
      }
    },
    {
      "cell_type": "markdown",
      "source": [
        "## Imputaciones de datos"
      ],
      "metadata": {
        "id": "K0FOZZ4WUkrV"
      }
    },
    {
      "cell_type": "markdown",
      "source": [
        "Con base en lo visto anteriormente, una opción es eliminar los null en las columnas con una perdida del 31% de los datos (que sería la menor perdida).\n",
        "Sin embargo también se tratara de colocar los datos faltantes"
      ],
      "metadata": {
        "id": "Eo8pJvLCTj4L"
      }
    },
    {
      "cell_type": "code",
      "source": [
        "#Se trabajará en base a estos datos null por cada columna\n",
        "risk_2.isnull().sum().sort_values(ascending = False)"
      ],
      "metadata": {
        "colab": {
          "base_uri": "https://localhost:8080/"
        },
        "id": "7Qwrn71CU7M5",
        "outputId": "2f9f677c-5021-4a1b-8f6a-c034e656940b"
      },
      "execution_count": 57,
      "outputs": [
        {
          "output_type": "execute_result",
          "data": {
            "text/plain": [
              "ESG Risk Level            127\n",
              "Controversy Level          99\n",
              "Total ESG Risk score       70\n",
              "Environment Risk Score     70\n",
              "Governance Risk Score      70\n",
              "Social Risk Score          70\n",
              "Controversy Score          70\n",
              "ESG Risk Percentile        70\n",
              "Full Time Employees         7\n",
              "Address                     2\n",
              "Sector                      2\n",
              "Industry                    2\n",
              "Description                 2\n",
              "Name                        0\n",
              "dtype: int64"
            ]
          },
          "metadata": {},
          "execution_count": 57
        }
      ]
    },
    {
      "cell_type": "markdown",
      "source": [
        "## Explicación 'Controversy Level'\n",
        "\n",
        "Se estudia por cuál medida realizar la imputación de la columna 'Controversy Level'\n",
        "\n",
        "Se estudia hacerlo por la mediana pero los datos cambiarían considerablemente ya que los datos nulos son mayores que los existentes en la mediana que sería 'Significant' y esta ya no sería la mediana sino que cambiaría a 'low'.\n",
        "Se estudia realizarlo por la media pero 'significant' luego de esto ya no sería la media sino sería 'low'\n",
        "Se estudia por la moda para seguir aumentando el valor de 'Moderate' que en este momento es el que más se repite y se toma esto para proceder con la imputación."
      ],
      "metadata": {
        "id": "DbVBFttnof3J"
      }
    },
    {
      "cell_type": "code",
      "source": [
        "# Obtén los valores únicos en la columna 'Controversy Level'\n",
        "unique_values = copy_risk['Controversy Level'].unique()\n",
        "unique_values"
      ],
      "metadata": {
        "colab": {
          "base_uri": "https://localhost:8080/"
        },
        "id": "tTqFTdMGWcyp",
        "outputId": "9e731680-f25e-4f4c-cace-940fc7b6211d"
      },
      "execution_count": 76,
      "outputs": [
        {
          "output_type": "execute_result",
          "data": {
            "text/plain": [
              "array(['Low', 'Moderate', 'Significant', 'None', nan, 'High', 'Severe'],\n",
              "      dtype=object)"
            ]
          },
          "metadata": {},
          "execution_count": 76
        }
      ]
    },
    {
      "cell_type": "code",
      "source": [
        "# Calcula el porcentaje de cada valor único en la columna 'ESG Risk Level'\n",
        "value_counts = risk_2['Controversy Level'].value_counts()\n",
        "value_counts"
      ],
      "metadata": {
        "colab": {
          "base_uri": "https://localhost:8080/"
        },
        "id": "Pu2ny1KHoz1z",
        "outputId": "54558ce6-94f9-4dff-97e2-7aea479dee3d"
      },
      "execution_count": 77,
      "outputs": [
        {
          "output_type": "execute_result",
          "data": {
            "text/plain": [
              "Moderate       197\n",
              "Low            105\n",
              "Significant     84\n",
              "High            15\n",
              "Severe           2\n",
              "None             1\n",
              "Name: Controversy Level, dtype: int64"
            ]
          },
          "metadata": {},
          "execution_count": 77
        }
      ]
    },
    {
      "cell_type": "code",
      "source": [
        "value_counts.mode()"
      ],
      "metadata": {
        "colab": {
          "base_uri": "https://localhost:8080/"
        },
        "id": "e0_KwI42o3CK",
        "outputId": "93522352-5d06-4691-b796-3e0b75330f18"
      },
      "execution_count": 78,
      "outputs": [
        {
          "output_type": "execute_result",
          "data": {
            "text/plain": [
              "0      1\n",
              "1      2\n",
              "2     15\n",
              "3     84\n",
              "4    105\n",
              "5    197\n",
              "Name: Controversy Level, dtype: int64"
            ]
          },
          "metadata": {},
          "execution_count": 78
        }
      ]
    },
    {
      "cell_type": "code",
      "source": [
        "value_counts.median()"
      ],
      "metadata": {
        "colab": {
          "base_uri": "https://localhost:8080/"
        },
        "id": "QCsgW2Hpo2_S",
        "outputId": "ab6398f7-1b01-46a8-d864-25e8cbf3c00a"
      },
      "execution_count": 79,
      "outputs": [
        {
          "output_type": "execute_result",
          "data": {
            "text/plain": [
              "49.5"
            ]
          },
          "metadata": {},
          "execution_count": 79
        }
      ]
    },
    {
      "cell_type": "code",
      "source": [
        "round(value_counts.mean(),0)"
      ],
      "metadata": {
        "colab": {
          "base_uri": "https://localhost:8080/"
        },
        "id": "5bvRaTh0o_pJ",
        "outputId": "a094593f-6c0e-4de8-9ab2-a7b674ea376b"
      },
      "execution_count": 80,
      "outputs": [
        {
          "output_type": "execute_result",
          "data": {
            "text/plain": [
              "67.0"
            ]
          },
          "metadata": {},
          "execution_count": 80
        }
      ]
    },
    {
      "cell_type": "code",
      "source": [
        "risk_6 = risk_2['Controversy Score']"
      ],
      "metadata": {
        "id": "h73m_nFapVlB"
      },
      "execution_count": null,
      "outputs": []
    },
    {
      "cell_type": "code",
      "source": [
        "risk_6['Controversy Level'] = risk_6['Controversy Level'].fillna(value='Moderate')\n",
        "risk_6.info()"
      ],
      "metadata": {
        "id": "P2Rw2tGdo29L"
      },
      "execution_count": null,
      "outputs": []
    },
    {
      "cell_type": "code",
      "source": [],
      "metadata": {
        "id": "kb9GtKipo261"
      },
      "execution_count": null,
      "outputs": []
    },
    {
      "cell_type": "code",
      "source": [],
      "metadata": {
        "id": "0BtNO6qto24v"
      },
      "execution_count": null,
      "outputs": []
    },
    {
      "cell_type": "code",
      "source": [],
      "metadata": {
        "id": "XCC2dPc8o22r"
      },
      "execution_count": null,
      "outputs": []
    },
    {
      "cell_type": "code",
      "source": [
        "# Calcula el porcentaje de cada valor único en la columna 'ESG Risk Level'\n",
        "value_counts = risk_2['ESG Risk Level'].value_counts()\n",
        "value_counts\n"
      ],
      "metadata": {
        "colab": {
          "base_uri": "https://localhost:8080/"
        },
        "id": "nGumFJbTWdUR",
        "outputId": "24dafe4b-19dd-40cd-fb92-7a5188cf9ac7"
      },
      "execution_count": 74,
      "outputs": [
        {
          "output_type": "execute_result",
          "data": {
            "text/plain": [
              "Medium        134\n",
              "Low           131\n",
              "Negligible     58\n",
              "High           35\n",
              "Severe         18\n",
              "Name: ESG Risk Level, dtype: int64"
            ]
          },
          "metadata": {},
          "execution_count": 74
        }
      ]
    },
    {
      "cell_type": "code",
      "source": [
        "value_counts.median()"
      ],
      "metadata": {
        "colab": {
          "base_uri": "https://localhost:8080/"
        },
        "id": "94C42E3sZnSG",
        "outputId": "23e78e7d-8b8b-4366-a646-d9830c154943"
      },
      "execution_count": 75,
      "outputs": [
        {
          "output_type": "execute_result",
          "data": {
            "text/plain": [
              "58.0"
            ]
          },
          "metadata": {},
          "execution_count": 75
        }
      ]
    },
    {
      "cell_type": "code",
      "source": [
        "# Se procede a popular esta columna en base a su mediana 'Negligible'\n"
      ],
      "metadata": {
        "id": "lbHIYfmQaJ8D"
      },
      "execution_count": null,
      "outputs": []
    }
  ]
}